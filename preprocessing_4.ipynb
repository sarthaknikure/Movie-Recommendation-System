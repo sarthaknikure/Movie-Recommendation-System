{
 "cells": [
  {
   "cell_type": "code",
   "execution_count": 2,
   "metadata": {
    "executionInfo": {
     "elapsed": 412,
     "status": "ok",
     "timestamp": 1645579600538,
     "user": {
      "displayName": "sarthak nikure",
      "photoUrl": "https://lh3.googleusercontent.com/a/default-user=s64",
      "userId": "16514347430543116262"
     },
     "user_tz": -330
    },
    "id": "UkqnghzpLMXQ"
   },
   "outputs": [],
   "source": [
    "import pandas as pd\n",
    "import numpy as np\n",
    "import requests\n",
    "import urllib.request\n",
    "import bs4 as bs"
   ]
  },
  {
   "cell_type": "markdown",
   "metadata": {
    "id": "lAUFOqurMChJ"
   },
   "source": [
    "## Extracting fratures  of movies 2020 from Wikipedia "
   ]
  },
  {
   "cell_type": "code",
   "execution_count": 5,
   "metadata": {
    "executionInfo": {
     "elapsed": 410,
     "status": "ok",
     "timestamp": 1645579826536,
     "user": {
      "displayName": "sarthak nikure",
      "photoUrl": "https://lh3.googleusercontent.com/a/default-user=s64",
      "userId": "16514347430543116262"
     },
     "user_tz": -330
    },
    "id": "_3gum6FaLPgV"
   },
   "outputs": [],
   "source": [
    "link = 'https://en.wikipedia.org/wiki/List_of_American_films_of_2020'"
   ]
  },
  {
   "cell_type": "code",
   "execution_count": 8,
   "metadata": {
    "executionInfo": {
     "elapsed": 1172,
     "status": "ok",
     "timestamp": 1645579876206,
     "user": {
      "displayName": "sarthak nikure",
      "photoUrl": "https://lh3.googleusercontent.com/a/default-user=s64",
      "userId": "16514347430543116262"
     },
     "user_tz": -330
    },
    "id": "j4lUwyK7LPjw"
   },
   "outputs": [],
   "source": [
    "source = urllib.request.urlopen(link).read()\n",
    "soup = bs.BeautifulSoup(source,'lxml')"
   ]
  },
  {
   "cell_type": "code",
   "execution_count": 9,
   "metadata": {
    "executionInfo": {
     "elapsed": 417,
     "status": "ok",
     "timestamp": 1645580019978,
     "user": {
      "displayName": "sarthak nikure",
      "photoUrl": "https://lh3.googleusercontent.com/a/default-user=s64",
      "userId": "16514347430543116262"
     },
     "user_tz": -330
    },
    "id": "bghhZGjBLPnN"
   },
   "outputs": [],
   "source": [
    "tables = soup.find_all('table',class_='wikitable sortable')"
   ]
  },
  {
   "cell_type": "code",
   "execution_count": 10,
   "metadata": {
    "colab": {
     "base_uri": "https://localhost:8080/"
    },
    "executionInfo": {
     "elapsed": 9,
     "status": "ok",
     "timestamp": 1645580034141,
     "user": {
      "displayName": "sarthak nikure",
      "photoUrl": "https://lh3.googleusercontent.com/a/default-user=s64",
      "userId": "16514347430543116262"
     },
     "user_tz": -330
    },
    "id": "sWFlfLnCLPqX",
    "outputId": "080b211d-696d-4f12-d33e-a90805e31dc8"
   },
   "outputs": [
    {
     "data": {
      "text/plain": [
       "4"
      ]
     },
     "execution_count": 10,
     "metadata": {},
     "output_type": "execute_result"
    }
   ],
   "source": [
    "len(tables)"
   ]
  },
  {
   "cell_type": "code",
   "execution_count": 12,
   "metadata": {
    "colab": {
     "base_uri": "https://localhost:8080/"
    },
    "executionInfo": {
     "elapsed": 10,
     "status": "ok",
     "timestamp": 1645580090143,
     "user": {
      "displayName": "sarthak nikure",
      "photoUrl": "https://lh3.googleusercontent.com/a/default-user=s64",
      "userId": "16514347430543116262"
     },
     "user_tz": -330
    },
    "id": "0OviI4CHLPwv",
    "outputId": "75969d02-8842-45a7-d6ad-ea5e4d310987"
   },
   "outputs": [
    {
     "data": {
      "text/plain": [
       "bs4.element.Tag"
      ]
     },
     "execution_count": 12,
     "metadata": {},
     "output_type": "execute_result"
    }
   ],
   "source": [
    "type(tables[0])"
   ]
  },
  {
   "cell_type": "code",
   "execution_count": 15,
   "metadata": {
    "executionInfo": {
     "elapsed": 376,
     "status": "ok",
     "timestamp": 1645580538395,
     "user": {
      "displayName": "sarthak nikure",
      "photoUrl": "https://lh3.googleusercontent.com/a/default-user=s64",
      "userId": "16514347430543116262"
     },
     "user_tz": -330
    },
    "id": "XeaeRVruLP0c"
   },
   "outputs": [],
   "source": [
    "df1 = pd.read_html(str(tables[0]))[0]\n",
    "df2 = pd.read_html(str(tables[1]))[0]\n",
    "df3 = pd.read_html(str(tables[2]))[0]\n",
    "df4 = pd.read_html(str(tables[3]).replace(\"'1\\\"\\'\",'\"1\"'))[0] # avoid valueerror: invalid literal for int() with base 10: '1\"'"
   ]
  },
  {
   "cell_type": "code",
   "execution_count": 16,
   "metadata": {
    "executionInfo": {
     "elapsed": 415,
     "status": "ok",
     "timestamp": 1645580676568,
     "user": {
      "displayName": "sarthak nikure",
      "photoUrl": "https://lh3.googleusercontent.com/a/default-user=s64",
      "userId": "16514347430543116262"
     },
     "user_tz": -330
    },
    "id": "JCaMdqDbLP3u"
   },
   "outputs": [],
   "source": [
    "df = df1.append(df2.append(df3.append(df4, ignore_index=True),ignore_index=True),ignore_index=True)"
   ]
  },
  {
   "cell_type": "code",
   "execution_count": 18,
   "metadata": {
    "colab": {
     "base_uri": "https://localhost:8080/",
     "height": 820
    },
    "executionInfo": {
     "elapsed": 15,
     "status": "ok",
     "timestamp": 1645580709549,
     "user": {
      "displayName": "sarthak nikure",
      "photoUrl": "https://lh3.googleusercontent.com/a/default-user=s64",
      "userId": "16514347430543116262"
     },
     "user_tz": -330
    },
    "id": "ZjeR8UmJLP7J",
    "outputId": "d62701e7-6d60-455f-a158-5f20bbba156a"
   },
   "outputs": [
    {
     "data": {
      "text/html": [
       "\n",
       "  <div id=\"df-e262e414-c0b3-4776-9515-723190a02056\">\n",
       "    <div class=\"colab-df-container\">\n",
       "      <div>\n",
       "<style scoped>\n",
       "    .dataframe tbody tr th:only-of-type {\n",
       "        vertical-align: middle;\n",
       "    }\n",
       "\n",
       "    .dataframe tbody tr th {\n",
       "        vertical-align: top;\n",
       "    }\n",
       "\n",
       "    .dataframe thead th {\n",
       "        text-align: right;\n",
       "    }\n",
       "</style>\n",
       "<table border=\"1\" class=\"dataframe\">\n",
       "  <thead>\n",
       "    <tr style=\"text-align: right;\">\n",
       "      <th></th>\n",
       "      <th>Opening</th>\n",
       "      <th>Opening.1</th>\n",
       "      <th>Title</th>\n",
       "      <th>Production company</th>\n",
       "      <th>Cast and crew</th>\n",
       "      <th>.mw-parser-output .tooltip-dotted{border-bottom:1px dotted;cursor:help}Ref.</th>\n",
       "      <th>Ref.</th>\n",
       "    </tr>\n",
       "  </thead>\n",
       "  <tbody>\n",
       "    <tr>\n",
       "      <th>0</th>\n",
       "      <td>JANUARY</td>\n",
       "      <td>3</td>\n",
       "      <td>The Grudge</td>\n",
       "      <td>Screen Gems / Stage 6 Films / Ghost House Pict...</td>\n",
       "      <td>Nicolas Pesce (director/screenplay); Andrea Ri...</td>\n",
       "      <td>[2]</td>\n",
       "      <td>NaN</td>\n",
       "    </tr>\n",
       "    <tr>\n",
       "      <th>1</th>\n",
       "      <td>JANUARY</td>\n",
       "      <td>10</td>\n",
       "      <td>Underwater</td>\n",
       "      <td>20th Century Fox / TSG Entertainment / Chernin...</td>\n",
       "      <td>William Eubank (director); Brian Duffield, Ada...</td>\n",
       "      <td>[3]</td>\n",
       "      <td>NaN</td>\n",
       "    </tr>\n",
       "    <tr>\n",
       "      <th>2</th>\n",
       "      <td>JANUARY</td>\n",
       "      <td>10</td>\n",
       "      <td>Like a Boss</td>\n",
       "      <td>Paramount Pictures</td>\n",
       "      <td>Miguel Arteta (director); Sam Pitman, Adam Col...</td>\n",
       "      <td>[4]</td>\n",
       "      <td>NaN</td>\n",
       "    </tr>\n",
       "    <tr>\n",
       "      <th>3</th>\n",
       "      <td>JANUARY</td>\n",
       "      <td>10</td>\n",
       "      <td>Three Christs</td>\n",
       "      <td>IFC Films</td>\n",
       "      <td>Jon Avnet (director/screenplay); Eric Nazarian...</td>\n",
       "      <td>NaN</td>\n",
       "      <td>NaN</td>\n",
       "    </tr>\n",
       "    <tr>\n",
       "      <th>4</th>\n",
       "      <td>JANUARY</td>\n",
       "      <td>10</td>\n",
       "      <td>Inherit the Viper</td>\n",
       "      <td>Barry Films / Tycor International Film Company</td>\n",
       "      <td>Anthony Jerjen (director); Andrew Crabtree (sc...</td>\n",
       "      <td>[5]</td>\n",
       "      <td>NaN</td>\n",
       "    </tr>\n",
       "    <tr>\n",
       "      <th>...</th>\n",
       "      <td>...</td>\n",
       "      <td>...</td>\n",
       "      <td>...</td>\n",
       "      <td>...</td>\n",
       "      <td>...</td>\n",
       "      <td>...</td>\n",
       "      <td>...</td>\n",
       "    </tr>\n",
       "    <tr>\n",
       "      <th>269</th>\n",
       "      <td>DECEMBER</td>\n",
       "      <td>25</td>\n",
       "      <td>We Can Be Heroes</td>\n",
       "      <td>Netflix / Troublemaker Studios</td>\n",
       "      <td>Robert Rodriguez (director/screenplay); Priyan...</td>\n",
       "      <td>NaN</td>\n",
       "      <td>[241]</td>\n",
       "    </tr>\n",
       "    <tr>\n",
       "      <th>270</th>\n",
       "      <td>DECEMBER</td>\n",
       "      <td>25</td>\n",
       "      <td>News of the World</td>\n",
       "      <td>Universal Pictures / Perfect World Pictures</td>\n",
       "      <td>Paul Greengrass (director/screenplay); Luke Da...</td>\n",
       "      <td>NaN</td>\n",
       "      <td>[242]</td>\n",
       "    </tr>\n",
       "    <tr>\n",
       "      <th>271</th>\n",
       "      <td>DECEMBER</td>\n",
       "      <td>25</td>\n",
       "      <td>One Night in Miami...</td>\n",
       "      <td>Amazon Studios</td>\n",
       "      <td>Regina King (director); Kemp Powers (screenpla...</td>\n",
       "      <td>NaN</td>\n",
       "      <td>[243]</td>\n",
       "    </tr>\n",
       "    <tr>\n",
       "      <th>272</th>\n",
       "      <td>DECEMBER</td>\n",
       "      <td>25</td>\n",
       "      <td>Promising Young Woman</td>\n",
       "      <td>Focus Features / FilmNation Entertainment</td>\n",
       "      <td>Emerald Fennell (director/screenplay); Carey M...</td>\n",
       "      <td>NaN</td>\n",
       "      <td>[244]</td>\n",
       "    </tr>\n",
       "    <tr>\n",
       "      <th>273</th>\n",
       "      <td>DECEMBER</td>\n",
       "      <td>30</td>\n",
       "      <td>Pieces of a Woman</td>\n",
       "      <td>Netflix / Bron Studios</td>\n",
       "      <td>Kornél Mundruczó (director); Kata Wéber (scree...</td>\n",
       "      <td>NaN</td>\n",
       "      <td>[245]</td>\n",
       "    </tr>\n",
       "  </tbody>\n",
       "</table>\n",
       "<p>274 rows × 7 columns</p>\n",
       "</div>\n",
       "      <button class=\"colab-df-convert\" onclick=\"convertToInteractive('df-e262e414-c0b3-4776-9515-723190a02056')\"\n",
       "              title=\"Convert this dataframe to an interactive table.\"\n",
       "              style=\"display:none;\">\n",
       "        \n",
       "  <svg xmlns=\"http://www.w3.org/2000/svg\" height=\"24px\"viewBox=\"0 0 24 24\"\n",
       "       width=\"24px\">\n",
       "    <path d=\"M0 0h24v24H0V0z\" fill=\"none\"/>\n",
       "    <path d=\"M18.56 5.44l.94 2.06.94-2.06 2.06-.94-2.06-.94-.94-2.06-.94 2.06-2.06.94zm-11 1L8.5 8.5l.94-2.06 2.06-.94-2.06-.94L8.5 2.5l-.94 2.06-2.06.94zm10 10l.94 2.06.94-2.06 2.06-.94-2.06-.94-.94-2.06-.94 2.06-2.06.94z\"/><path d=\"M17.41 7.96l-1.37-1.37c-.4-.4-.92-.59-1.43-.59-.52 0-1.04.2-1.43.59L10.3 9.45l-7.72 7.72c-.78.78-.78 2.05 0 2.83L4 21.41c.39.39.9.59 1.41.59.51 0 1.02-.2 1.41-.59l7.78-7.78 2.81-2.81c.8-.78.8-2.07 0-2.86zM5.41 20L4 18.59l7.72-7.72 1.47 1.35L5.41 20z\"/>\n",
       "  </svg>\n",
       "      </button>\n",
       "      \n",
       "  <style>\n",
       "    .colab-df-container {\n",
       "      display:flex;\n",
       "      flex-wrap:wrap;\n",
       "      gap: 12px;\n",
       "    }\n",
       "\n",
       "    .colab-df-convert {\n",
       "      background-color: #E8F0FE;\n",
       "      border: none;\n",
       "      border-radius: 50%;\n",
       "      cursor: pointer;\n",
       "      display: none;\n",
       "      fill: #1967D2;\n",
       "      height: 32px;\n",
       "      padding: 0 0 0 0;\n",
       "      width: 32px;\n",
       "    }\n",
       "\n",
       "    .colab-df-convert:hover {\n",
       "      background-color: #E2EBFA;\n",
       "      box-shadow: 0px 1px 2px rgba(60, 64, 67, 0.3), 0px 1px 3px 1px rgba(60, 64, 67, 0.15);\n",
       "      fill: #174EA6;\n",
       "    }\n",
       "\n",
       "    [theme=dark] .colab-df-convert {\n",
       "      background-color: #3B4455;\n",
       "      fill: #D2E3FC;\n",
       "    }\n",
       "\n",
       "    [theme=dark] .colab-df-convert:hover {\n",
       "      background-color: #434B5C;\n",
       "      box-shadow: 0px 1px 3px 1px rgba(0, 0, 0, 0.15);\n",
       "      filter: drop-shadow(0px 1px 2px rgba(0, 0, 0, 0.3));\n",
       "      fill: #FFFFFF;\n",
       "    }\n",
       "  </style>\n",
       "\n",
       "      <script>\n",
       "        const buttonEl =\n",
       "          document.querySelector('#df-e262e414-c0b3-4776-9515-723190a02056 button.colab-df-convert');\n",
       "        buttonEl.style.display =\n",
       "          google.colab.kernel.accessAllowed ? 'block' : 'none';\n",
       "\n",
       "        async function convertToInteractive(key) {\n",
       "          const element = document.querySelector('#df-e262e414-c0b3-4776-9515-723190a02056');\n",
       "          const dataTable =\n",
       "            await google.colab.kernel.invokeFunction('convertToInteractive',\n",
       "                                                     [key], {});\n",
       "          if (!dataTable) return;\n",
       "\n",
       "          const docLinkHtml = 'Like what you see? Visit the ' +\n",
       "            '<a target=\"_blank\" href=https://colab.research.google.com/notebooks/data_table.ipynb>data table notebook</a>'\n",
       "            + ' to learn more about interactive tables.';\n",
       "          element.innerHTML = '';\n",
       "          dataTable['output_type'] = 'display_data';\n",
       "          await google.colab.output.renderOutput(dataTable, element);\n",
       "          const docLink = document.createElement('div');\n",
       "          docLink.innerHTML = docLinkHtml;\n",
       "          element.appendChild(docLink);\n",
       "        }\n",
       "      </script>\n",
       "    </div>\n",
       "  </div>\n",
       "  "
      ],
      "text/plain": [
       "      Opening  ...   Ref.\n",
       "0     JANUARY  ...    NaN\n",
       "1     JANUARY  ...    NaN\n",
       "2     JANUARY  ...    NaN\n",
       "3     JANUARY  ...    NaN\n",
       "4     JANUARY  ...    NaN\n",
       "..        ...  ...    ...\n",
       "269  DECEMBER  ...  [241]\n",
       "270  DECEMBER  ...  [242]\n",
       "271  DECEMBER  ...  [243]\n",
       "272  DECEMBER  ...  [244]\n",
       "273  DECEMBER  ...  [245]\n",
       "\n",
       "[274 rows x 7 columns]"
      ]
     },
     "execution_count": 18,
     "metadata": {},
     "output_type": "execute_result"
    }
   ],
   "source": [
    "df"
   ]
  },
  {
   "cell_type": "code",
   "execution_count": 19,
   "metadata": {
    "colab": {
     "base_uri": "https://localhost:8080/",
     "height": 419
    },
    "executionInfo": {
     "elapsed": 13,
     "status": "ok",
     "timestamp": 1645580789112,
     "user": {
      "displayName": "sarthak nikure",
      "photoUrl": "https://lh3.googleusercontent.com/a/default-user=s64",
      "userId": "16514347430543116262"
     },
     "user_tz": -330
    },
    "id": "gbDR2imYLP-X",
    "outputId": "4521b9b0-004f-4e6d-8baf-4cacb94a183d"
   },
   "outputs": [
    {
     "data": {
      "text/html": [
       "\n",
       "  <div id=\"df-5b4f167a-5fca-48bf-8594-37585010fd55\">\n",
       "    <div class=\"colab-df-container\">\n",
       "      <div>\n",
       "<style scoped>\n",
       "    .dataframe tbody tr th:only-of-type {\n",
       "        vertical-align: middle;\n",
       "    }\n",
       "\n",
       "    .dataframe tbody tr th {\n",
       "        vertical-align: top;\n",
       "    }\n",
       "\n",
       "    .dataframe thead th {\n",
       "        text-align: right;\n",
       "    }\n",
       "</style>\n",
       "<table border=\"1\" class=\"dataframe\">\n",
       "  <thead>\n",
       "    <tr style=\"text-align: right;\">\n",
       "      <th></th>\n",
       "      <th>Title</th>\n",
       "      <th>Cast and crew</th>\n",
       "    </tr>\n",
       "  </thead>\n",
       "  <tbody>\n",
       "    <tr>\n",
       "      <th>0</th>\n",
       "      <td>The Grudge</td>\n",
       "      <td>Nicolas Pesce (director/screenplay); Andrea Ri...</td>\n",
       "    </tr>\n",
       "    <tr>\n",
       "      <th>1</th>\n",
       "      <td>Underwater</td>\n",
       "      <td>William Eubank (director); Brian Duffield, Ada...</td>\n",
       "    </tr>\n",
       "    <tr>\n",
       "      <th>2</th>\n",
       "      <td>Like a Boss</td>\n",
       "      <td>Miguel Arteta (director); Sam Pitman, Adam Col...</td>\n",
       "    </tr>\n",
       "    <tr>\n",
       "      <th>3</th>\n",
       "      <td>Three Christs</td>\n",
       "      <td>Jon Avnet (director/screenplay); Eric Nazarian...</td>\n",
       "    </tr>\n",
       "    <tr>\n",
       "      <th>4</th>\n",
       "      <td>Inherit the Viper</td>\n",
       "      <td>Anthony Jerjen (director); Andrew Crabtree (sc...</td>\n",
       "    </tr>\n",
       "    <tr>\n",
       "      <th>...</th>\n",
       "      <td>...</td>\n",
       "      <td>...</td>\n",
       "    </tr>\n",
       "    <tr>\n",
       "      <th>269</th>\n",
       "      <td>We Can Be Heroes</td>\n",
       "      <td>Robert Rodriguez (director/screenplay); Priyan...</td>\n",
       "    </tr>\n",
       "    <tr>\n",
       "      <th>270</th>\n",
       "      <td>News of the World</td>\n",
       "      <td>Paul Greengrass (director/screenplay); Luke Da...</td>\n",
       "    </tr>\n",
       "    <tr>\n",
       "      <th>271</th>\n",
       "      <td>One Night in Miami...</td>\n",
       "      <td>Regina King (director); Kemp Powers (screenpla...</td>\n",
       "    </tr>\n",
       "    <tr>\n",
       "      <th>272</th>\n",
       "      <td>Promising Young Woman</td>\n",
       "      <td>Emerald Fennell (director/screenplay); Carey M...</td>\n",
       "    </tr>\n",
       "    <tr>\n",
       "      <th>273</th>\n",
       "      <td>Pieces of a Woman</td>\n",
       "      <td>Kornél Mundruczó (director); Kata Wéber (scree...</td>\n",
       "    </tr>\n",
       "  </tbody>\n",
       "</table>\n",
       "<p>274 rows × 2 columns</p>\n",
       "</div>\n",
       "      <button class=\"colab-df-convert\" onclick=\"convertToInteractive('df-5b4f167a-5fca-48bf-8594-37585010fd55')\"\n",
       "              title=\"Convert this dataframe to an interactive table.\"\n",
       "              style=\"display:none;\">\n",
       "        \n",
       "  <svg xmlns=\"http://www.w3.org/2000/svg\" height=\"24px\"viewBox=\"0 0 24 24\"\n",
       "       width=\"24px\">\n",
       "    <path d=\"M0 0h24v24H0V0z\" fill=\"none\"/>\n",
       "    <path d=\"M18.56 5.44l.94 2.06.94-2.06 2.06-.94-2.06-.94-.94-2.06-.94 2.06-2.06.94zm-11 1L8.5 8.5l.94-2.06 2.06-.94-2.06-.94L8.5 2.5l-.94 2.06-2.06.94zm10 10l.94 2.06.94-2.06 2.06-.94-2.06-.94-.94-2.06-.94 2.06-2.06.94z\"/><path d=\"M17.41 7.96l-1.37-1.37c-.4-.4-.92-.59-1.43-.59-.52 0-1.04.2-1.43.59L10.3 9.45l-7.72 7.72c-.78.78-.78 2.05 0 2.83L4 21.41c.39.39.9.59 1.41.59.51 0 1.02-.2 1.41-.59l7.78-7.78 2.81-2.81c.8-.78.8-2.07 0-2.86zM5.41 20L4 18.59l7.72-7.72 1.47 1.35L5.41 20z\"/>\n",
       "  </svg>\n",
       "      </button>\n",
       "      \n",
       "  <style>\n",
       "    .colab-df-container {\n",
       "      display:flex;\n",
       "      flex-wrap:wrap;\n",
       "      gap: 12px;\n",
       "    }\n",
       "\n",
       "    .colab-df-convert {\n",
       "      background-color: #E8F0FE;\n",
       "      border: none;\n",
       "      border-radius: 50%;\n",
       "      cursor: pointer;\n",
       "      display: none;\n",
       "      fill: #1967D2;\n",
       "      height: 32px;\n",
       "      padding: 0 0 0 0;\n",
       "      width: 32px;\n",
       "    }\n",
       "\n",
       "    .colab-df-convert:hover {\n",
       "      background-color: #E2EBFA;\n",
       "      box-shadow: 0px 1px 2px rgba(60, 64, 67, 0.3), 0px 1px 3px 1px rgba(60, 64, 67, 0.15);\n",
       "      fill: #174EA6;\n",
       "    }\n",
       "\n",
       "    [theme=dark] .colab-df-convert {\n",
       "      background-color: #3B4455;\n",
       "      fill: #D2E3FC;\n",
       "    }\n",
       "\n",
       "    [theme=dark] .colab-df-convert:hover {\n",
       "      background-color: #434B5C;\n",
       "      box-shadow: 0px 1px 3px 1px rgba(0, 0, 0, 0.15);\n",
       "      filter: drop-shadow(0px 1px 2px rgba(0, 0, 0, 0.3));\n",
       "      fill: #FFFFFF;\n",
       "    }\n",
       "  </style>\n",
       "\n",
       "      <script>\n",
       "        const buttonEl =\n",
       "          document.querySelector('#df-5b4f167a-5fca-48bf-8594-37585010fd55 button.colab-df-convert');\n",
       "        buttonEl.style.display =\n",
       "          google.colab.kernel.accessAllowed ? 'block' : 'none';\n",
       "\n",
       "        async function convertToInteractive(key) {\n",
       "          const element = document.querySelector('#df-5b4f167a-5fca-48bf-8594-37585010fd55');\n",
       "          const dataTable =\n",
       "            await google.colab.kernel.invokeFunction('convertToInteractive',\n",
       "                                                     [key], {});\n",
       "          if (!dataTable) return;\n",
       "\n",
       "          const docLinkHtml = 'Like what you see? Visit the ' +\n",
       "            '<a target=\"_blank\" href=https://colab.research.google.com/notebooks/data_table.ipynb>data table notebook</a>'\n",
       "            + ' to learn more about interactive tables.';\n",
       "          element.innerHTML = '';\n",
       "          dataTable['output_type'] = 'display_data';\n",
       "          await google.colab.output.renderOutput(dataTable, element);\n",
       "          const docLink = document.createElement('div');\n",
       "          docLink.innerHTML = docLinkHtml;\n",
       "          element.appendChild(docLink);\n",
       "        }\n",
       "      </script>\n",
       "    </div>\n",
       "  </div>\n",
       "  "
      ],
      "text/plain": [
       "                     Title                                      Cast and crew\n",
       "0               The Grudge  Nicolas Pesce (director/screenplay); Andrea Ri...\n",
       "1               Underwater  William Eubank (director); Brian Duffield, Ada...\n",
       "2              Like a Boss  Miguel Arteta (director); Sam Pitman, Adam Col...\n",
       "3            Three Christs  Jon Avnet (director/screenplay); Eric Nazarian...\n",
       "4        Inherit the Viper  Anthony Jerjen (director); Andrew Crabtree (sc...\n",
       "..                     ...                                                ...\n",
       "269       We Can Be Heroes  Robert Rodriguez (director/screenplay); Priyan...\n",
       "270      News of the World  Paul Greengrass (director/screenplay); Luke Da...\n",
       "271  One Night in Miami...  Regina King (director); Kemp Powers (screenpla...\n",
       "272  Promising Young Woman  Emerald Fennell (director/screenplay); Carey M...\n",
       "273      Pieces of a Woman  Kornél Mundruczó (director); Kata Wéber (scree...\n",
       "\n",
       "[274 rows x 2 columns]"
      ]
     },
     "execution_count": 19,
     "metadata": {},
     "output_type": "execute_result"
    }
   ],
   "source": [
    "df_2020 = df[['Title','Cast and crew']]\n",
    "df_2020"
   ]
  },
  {
   "cell_type": "code",
   "execution_count": 20,
   "metadata": {
    "colab": {
     "base_uri": "https://localhost:8080/"
    },
    "executionInfo": {
     "elapsed": 4638,
     "status": "ok",
     "timestamp": 1645580846068,
     "user": {
      "displayName": "sarthak nikure",
      "photoUrl": "https://lh3.googleusercontent.com/a/default-user=s64",
      "userId": "16514347430543116262"
     },
     "user_tz": -330
    },
    "id": "Js5T4ClSLQDa",
    "outputId": "d1691328-7a2f-4d58-ed0d-01d063fa7b61"
   },
   "outputs": [
    {
     "name": "stdout",
     "output_type": "stream",
     "text": [
      "Collecting tmdbv3api\n",
      "  Downloading tmdbv3api-1.7.6-py2.py3-none-any.whl (17 kB)\n",
      "Requirement already satisfied: requests in /usr/local/lib/python3.7/dist-packages (from tmdbv3api) (2.23.0)\n",
      "Requirement already satisfied: idna<3,>=2.5 in /usr/local/lib/python3.7/dist-packages (from requests->tmdbv3api) (2.10)\n",
      "Requirement already satisfied: urllib3!=1.25.0,!=1.25.1,<1.26,>=1.21.1 in /usr/local/lib/python3.7/dist-packages (from requests->tmdbv3api) (1.24.3)\n",
      "Requirement already satisfied: chardet<4,>=3.0.2 in /usr/local/lib/python3.7/dist-packages (from requests->tmdbv3api) (3.0.4)\n",
      "Requirement already satisfied: certifi>=2017.4.17 in /usr/local/lib/python3.7/dist-packages (from requests->tmdbv3api) (2021.10.8)\n",
      "Installing collected packages: tmdbv3api\n",
      "Successfully installed tmdbv3api-1.7.6\n"
     ]
    }
   ],
   "source": [
    "!pip install tmdbv3api"
   ]
  },
  {
   "cell_type": "code",
   "execution_count": 21,
   "metadata": {
    "executionInfo": {
     "elapsed": 369,
     "status": "ok",
     "timestamp": 1645580993601,
     "user": {
      "displayName": "sarthak nikure",
      "photoUrl": "https://lh3.googleusercontent.com/a/default-user=s64",
      "userId": "16514347430543116262"
     },
     "user_tz": -330
    },
    "id": "RXPV-j1kLQHJ"
   },
   "outputs": [],
   "source": [
    "from tmdbv3api import TMDb\n",
    "import json\n",
    "import requests\n",
    "tmdb = TMDb()\n",
    "tmdb.api_key = 'bce8b94968a79cd90c7d3cbe5005203b'"
   ]
  },
  {
   "cell_type": "code",
   "execution_count": 24,
   "metadata": {
    "executionInfo": {
     "elapsed": 409,
     "status": "ok",
     "timestamp": 1645581742763,
     "user": {
      "displayName": "sarthak nikure",
      "photoUrl": "https://lh3.googleusercontent.com/a/default-user=s64",
      "userId": "16514347430543116262"
     },
     "user_tz": -330
    },
    "id": "WiTB1ioKLQLp"
   },
   "outputs": [],
   "source": [
    "from tmdbv3api import Movie\n",
    "tmdb_movie = Movie()\n",
    "def get_genres(x):\n",
    "  genres = []\n",
    "  result = tmdb_movie.search(x)\n",
    "  if not result:\n",
    "    return np.NaN\n",
    "  else:\n",
    "    movie_id = result[0].id\n",
    "    response = requests.get('https://api.themoviedb.org/3/movie/{}?api_key={}'.format(movie_id,tmdb.api_key))\n",
    "    data_json = response.json()\n",
    "    if data_json['genres']:\n",
    "      genre_str = \" \"\n",
    "      for i in range(0, len(data_json['genres'])):\n",
    "        genres.append(data_json['genres'][i]['name'])\n",
    "      return genre_str.join(genres)\n",
    "    else:\n",
    "      return np.NaN"
   ]
  },
  {
   "cell_type": "code",
   "execution_count": 25,
   "metadata": {
    "colab": {
     "base_uri": "https://localhost:8080/"
    },
    "executionInfo": {
     "elapsed": 76803,
     "status": "ok",
     "timestamp": 1645581821114,
     "user": {
      "displayName": "sarthak nikure",
      "photoUrl": "https://lh3.googleusercontent.com/a/default-user=s64",
      "userId": "16514347430543116262"
     },
     "user_tz": -330
    },
    "id": "fBSpEbi8LQVD",
    "outputId": "73ae4839-8832-49a9-a615-a1dc35eab758"
   },
   "outputs": [
    {
     "name": "stderr",
     "output_type": "stream",
     "text": [
      "/usr/local/lib/python3.7/dist-packages/ipykernel_launcher.py:1: SettingWithCopyWarning: \n",
      "A value is trying to be set on a copy of a slice from a DataFrame.\n",
      "Try using .loc[row_indexer,col_indexer] = value instead\n",
      "\n",
      "See the caveats in the documentation: https://pandas.pydata.org/pandas-docs/stable/user_guide/indexing.html#returning-a-view-versus-a-copy\n",
      "  \"\"\"Entry point for launching an IPython kernel.\n"
     ]
    }
   ],
   "source": [
    "df_2020['genres'] = df_2020['Title'].map(lambda x: get_genres(str(x)))"
   ]
  },
  {
   "cell_type": "code",
   "execution_count": 26,
   "metadata": {
    "colab": {
     "base_uri": "https://localhost:8080/",
     "height": 419
    },
    "executionInfo": {
     "elapsed": 425,
     "status": "ok",
     "timestamp": 1645581853777,
     "user": {
      "displayName": "sarthak nikure",
      "photoUrl": "https://lh3.googleusercontent.com/a/default-user=s64",
      "userId": "16514347430543116262"
     },
     "user_tz": -330
    },
    "id": "oaSAhfAmT5Bq",
    "outputId": "e9036cf1-2e30-4ecb-8425-e16dc2e5bfe0"
   },
   "outputs": [
    {
     "data": {
      "text/html": [
       "\n",
       "  <div id=\"df-0b271079-cff4-413a-94fa-bad21c713ae3\">\n",
       "    <div class=\"colab-df-container\">\n",
       "      <div>\n",
       "<style scoped>\n",
       "    .dataframe tbody tr th:only-of-type {\n",
       "        vertical-align: middle;\n",
       "    }\n",
       "\n",
       "    .dataframe tbody tr th {\n",
       "        vertical-align: top;\n",
       "    }\n",
       "\n",
       "    .dataframe thead th {\n",
       "        text-align: right;\n",
       "    }\n",
       "</style>\n",
       "<table border=\"1\" class=\"dataframe\">\n",
       "  <thead>\n",
       "    <tr style=\"text-align: right;\">\n",
       "      <th></th>\n",
       "      <th>Title</th>\n",
       "      <th>Cast and crew</th>\n",
       "      <th>genres</th>\n",
       "    </tr>\n",
       "  </thead>\n",
       "  <tbody>\n",
       "    <tr>\n",
       "      <th>0</th>\n",
       "      <td>The Grudge</td>\n",
       "      <td>Nicolas Pesce (director/screenplay); Andrea Ri...</td>\n",
       "      <td>Horror Mystery Thriller</td>\n",
       "    </tr>\n",
       "    <tr>\n",
       "      <th>1</th>\n",
       "      <td>Underwater</td>\n",
       "      <td>William Eubank (director); Brian Duffield, Ada...</td>\n",
       "      <td>Action Horror Science Fiction Thriller</td>\n",
       "    </tr>\n",
       "    <tr>\n",
       "      <th>2</th>\n",
       "      <td>Like a Boss</td>\n",
       "      <td>Miguel Arteta (director); Sam Pitman, Adam Col...</td>\n",
       "      <td>Comedy</td>\n",
       "    </tr>\n",
       "    <tr>\n",
       "      <th>3</th>\n",
       "      <td>Three Christs</td>\n",
       "      <td>Jon Avnet (director/screenplay); Eric Nazarian...</td>\n",
       "      <td>Drama</td>\n",
       "    </tr>\n",
       "    <tr>\n",
       "      <th>4</th>\n",
       "      <td>Inherit the Viper</td>\n",
       "      <td>Anthony Jerjen (director); Andrew Crabtree (sc...</td>\n",
       "      <td>Crime Thriller Drama</td>\n",
       "    </tr>\n",
       "    <tr>\n",
       "      <th>...</th>\n",
       "      <td>...</td>\n",
       "      <td>...</td>\n",
       "      <td>...</td>\n",
       "    </tr>\n",
       "    <tr>\n",
       "      <th>269</th>\n",
       "      <td>We Can Be Heroes</td>\n",
       "      <td>Robert Rodriguez (director/screenplay); Priyan...</td>\n",
       "      <td>Action Fantasy Family Comedy</td>\n",
       "    </tr>\n",
       "    <tr>\n",
       "      <th>270</th>\n",
       "      <td>News of the World</td>\n",
       "      <td>Paul Greengrass (director/screenplay); Luke Da...</td>\n",
       "      <td>Adventure Western</td>\n",
       "    </tr>\n",
       "    <tr>\n",
       "      <th>271</th>\n",
       "      <td>One Night in Miami...</td>\n",
       "      <td>Regina King (director); Kemp Powers (screenpla...</td>\n",
       "      <td>Drama</td>\n",
       "    </tr>\n",
       "    <tr>\n",
       "      <th>272</th>\n",
       "      <td>Promising Young Woman</td>\n",
       "      <td>Emerald Fennell (director/screenplay); Carey M...</td>\n",
       "      <td>Thriller Crime Drama</td>\n",
       "    </tr>\n",
       "    <tr>\n",
       "      <th>273</th>\n",
       "      <td>Pieces of a Woman</td>\n",
       "      <td>Kornél Mundruczó (director); Kata Wéber (scree...</td>\n",
       "      <td>Drama</td>\n",
       "    </tr>\n",
       "  </tbody>\n",
       "</table>\n",
       "<p>274 rows × 3 columns</p>\n",
       "</div>\n",
       "      <button class=\"colab-df-convert\" onclick=\"convertToInteractive('df-0b271079-cff4-413a-94fa-bad21c713ae3')\"\n",
       "              title=\"Convert this dataframe to an interactive table.\"\n",
       "              style=\"display:none;\">\n",
       "        \n",
       "  <svg xmlns=\"http://www.w3.org/2000/svg\" height=\"24px\"viewBox=\"0 0 24 24\"\n",
       "       width=\"24px\">\n",
       "    <path d=\"M0 0h24v24H0V0z\" fill=\"none\"/>\n",
       "    <path d=\"M18.56 5.44l.94 2.06.94-2.06 2.06-.94-2.06-.94-.94-2.06-.94 2.06-2.06.94zm-11 1L8.5 8.5l.94-2.06 2.06-.94-2.06-.94L8.5 2.5l-.94 2.06-2.06.94zm10 10l.94 2.06.94-2.06 2.06-.94-2.06-.94-.94-2.06-.94 2.06-2.06.94z\"/><path d=\"M17.41 7.96l-1.37-1.37c-.4-.4-.92-.59-1.43-.59-.52 0-1.04.2-1.43.59L10.3 9.45l-7.72 7.72c-.78.78-.78 2.05 0 2.83L4 21.41c.39.39.9.59 1.41.59.51 0 1.02-.2 1.41-.59l7.78-7.78 2.81-2.81c.8-.78.8-2.07 0-2.86zM5.41 20L4 18.59l7.72-7.72 1.47 1.35L5.41 20z\"/>\n",
       "  </svg>\n",
       "      </button>\n",
       "      \n",
       "  <style>\n",
       "    .colab-df-container {\n",
       "      display:flex;\n",
       "      flex-wrap:wrap;\n",
       "      gap: 12px;\n",
       "    }\n",
       "\n",
       "    .colab-df-convert {\n",
       "      background-color: #E8F0FE;\n",
       "      border: none;\n",
       "      border-radius: 50%;\n",
       "      cursor: pointer;\n",
       "      display: none;\n",
       "      fill: #1967D2;\n",
       "      height: 32px;\n",
       "      padding: 0 0 0 0;\n",
       "      width: 32px;\n",
       "    }\n",
       "\n",
       "    .colab-df-convert:hover {\n",
       "      background-color: #E2EBFA;\n",
       "      box-shadow: 0px 1px 2px rgba(60, 64, 67, 0.3), 0px 1px 3px 1px rgba(60, 64, 67, 0.15);\n",
       "      fill: #174EA6;\n",
       "    }\n",
       "\n",
       "    [theme=dark] .colab-df-convert {\n",
       "      background-color: #3B4455;\n",
       "      fill: #D2E3FC;\n",
       "    }\n",
       "\n",
       "    [theme=dark] .colab-df-convert:hover {\n",
       "      background-color: #434B5C;\n",
       "      box-shadow: 0px 1px 3px 1px rgba(0, 0, 0, 0.15);\n",
       "      filter: drop-shadow(0px 1px 2px rgba(0, 0, 0, 0.3));\n",
       "      fill: #FFFFFF;\n",
       "    }\n",
       "  </style>\n",
       "\n",
       "      <script>\n",
       "        const buttonEl =\n",
       "          document.querySelector('#df-0b271079-cff4-413a-94fa-bad21c713ae3 button.colab-df-convert');\n",
       "        buttonEl.style.display =\n",
       "          google.colab.kernel.accessAllowed ? 'block' : 'none';\n",
       "\n",
       "        async function convertToInteractive(key) {\n",
       "          const element = document.querySelector('#df-0b271079-cff4-413a-94fa-bad21c713ae3');\n",
       "          const dataTable =\n",
       "            await google.colab.kernel.invokeFunction('convertToInteractive',\n",
       "                                                     [key], {});\n",
       "          if (!dataTable) return;\n",
       "\n",
       "          const docLinkHtml = 'Like what you see? Visit the ' +\n",
       "            '<a target=\"_blank\" href=https://colab.research.google.com/notebooks/data_table.ipynb>data table notebook</a>'\n",
       "            + ' to learn more about interactive tables.';\n",
       "          element.innerHTML = '';\n",
       "          dataTable['output_type'] = 'display_data';\n",
       "          await google.colab.output.renderOutput(dataTable, element);\n",
       "          const docLink = document.createElement('div');\n",
       "          docLink.innerHTML = docLinkHtml;\n",
       "          element.appendChild(docLink);\n",
       "        }\n",
       "      </script>\n",
       "    </div>\n",
       "  </div>\n",
       "  "
      ],
      "text/plain": [
       "                     Title  ...                                  genres\n",
       "0               The Grudge  ...                 Horror Mystery Thriller\n",
       "1               Underwater  ...  Action Horror Science Fiction Thriller\n",
       "2              Like a Boss  ...                                  Comedy\n",
       "3            Three Christs  ...                                   Drama\n",
       "4        Inherit the Viper  ...                    Crime Thriller Drama\n",
       "..                     ...  ...                                     ...\n",
       "269       We Can Be Heroes  ...            Action Fantasy Family Comedy\n",
       "270      News of the World  ...                       Adventure Western\n",
       "271  One Night in Miami...  ...                                   Drama\n",
       "272  Promising Young Woman  ...                    Thriller Crime Drama\n",
       "273      Pieces of a Woman  ...                                   Drama\n",
       "\n",
       "[274 rows x 3 columns]"
      ]
     },
     "execution_count": 26,
     "metadata": {},
     "output_type": "execute_result"
    }
   ],
   "source": [
    "df_2020"
   ]
  },
  {
   "cell_type": "code",
   "execution_count": 28,
   "metadata": {
    "colab": {
     "base_uri": "https://localhost:8080/"
    },
    "executionInfo": {
     "elapsed": 636,
     "status": "ok",
     "timestamp": 1645581925686,
     "user": {
      "displayName": "sarthak nikure",
      "photoUrl": "https://lh3.googleusercontent.com/a/default-user=s64",
      "userId": "16514347430543116262"
     },
     "user_tz": -330
    },
    "id": "gjIEK--QUlwM",
    "outputId": "b11850db-fea7-46a6-8447-83d10ea10a16"
   },
   "outputs": [
    {
     "data": {
      "text/plain": [
       "0      Nicolas Pesce (director/screenplay); Andrea Ri...\n",
       "1      William Eubank (director); Brian Duffield, Ada...\n",
       "2      Miguel Arteta (director); Sam Pitman, Adam Col...\n",
       "3      Jon Avnet (director/screenplay); Eric Nazarian...\n",
       "4      Anthony Jerjen (director); Andrew Crabtree (sc...\n",
       "                             ...                        \n",
       "269    Robert Rodriguez (director/screenplay); Priyan...\n",
       "270    Paul Greengrass (director/screenplay); Luke Da...\n",
       "271    Regina King (director); Kemp Powers (screenpla...\n",
       "272    Emerald Fennell (director/screenplay); Carey M...\n",
       "273    Kornél Mundruczó (director); Kata Wéber (scree...\n",
       "Name: Cast and crew, Length: 274, dtype: object"
      ]
     },
     "execution_count": 28,
     "metadata": {},
     "output_type": "execute_result"
    }
   ],
   "source": [
    "df_2020['Cast and crew']"
   ]
  },
  {
   "cell_type": "code",
   "execution_count": 29,
   "metadata": {
    "executionInfo": {
     "elapsed": 412,
     "status": "ok",
     "timestamp": 1645582166605,
     "user": {
      "displayName": "sarthak nikure",
      "photoUrl": "https://lh3.googleusercontent.com/a/default-user=s64",
      "userId": "16514347430543116262"
     },
     "user_tz": -330
    },
    "id": "ayAs3W6VU0SO"
   },
   "outputs": [],
   "source": [
    "def get_director(x):\n",
    "  if \" (director)\" in x:\n",
    "    return x.split(\" (director)\")[0]\n",
    "  elif \" (directors)\" in x:\n",
    "    return x.split(\" (director)\")[0]\n",
    "  else:\n",
    "    return x.split(\" (director/screenplay)\")[0]"
   ]
  },
  {
   "cell_type": "code",
   "execution_count": 31,
   "metadata": {
    "colab": {
     "base_uri": "https://localhost:8080/"
    },
    "executionInfo": {
     "elapsed": 422,
     "status": "ok",
     "timestamp": 1645582311511,
     "user": {
      "displayName": "sarthak nikure",
      "photoUrl": "https://lh3.googleusercontent.com/a/default-user=s64",
      "userId": "16514347430543116262"
     },
     "user_tz": -330
    },
    "id": "KG5_rLD2VyX1",
    "outputId": "4322f6e8-61ea-461f-e920-acc947fbfc55"
   },
   "outputs": [
    {
     "name": "stderr",
     "output_type": "stream",
     "text": [
      "/usr/local/lib/python3.7/dist-packages/ipykernel_launcher.py:1: SettingWithCopyWarning: \n",
      "A value is trying to be set on a copy of a slice from a DataFrame.\n",
      "Try using .loc[row_indexer,col_indexer] = value instead\n",
      "\n",
      "See the caveats in the documentation: https://pandas.pydata.org/pandas-docs/stable/user_guide/indexing.html#returning-a-view-versus-a-copy\n",
      "  \"\"\"Entry point for launching an IPython kernel.\n"
     ]
    }
   ],
   "source": [
    "df_2020['director_name'] = df_2020['Cast and crew'].map(lambda x: get_director(str(x)))"
   ]
  },
  {
   "cell_type": "code",
   "execution_count": 36,
   "metadata": {
    "colab": {
     "base_uri": "https://localhost:8080/",
     "height": 52
    },
    "executionInfo": {
     "elapsed": 648,
     "status": "ok",
     "timestamp": 1645582479704,
     "user": {
      "displayName": "sarthak nikure",
      "photoUrl": "https://lh3.googleusercontent.com/a/default-user=s64",
      "userId": "16514347430543116262"
     },
     "user_tz": -330
    },
    "id": "yF4c9iorWL-y",
    "outputId": "60ec59e7-da09-400c-910b-f992c0c2435e"
   },
   "outputs": [
    {
     "data": {
      "application/vnd.google.colaboratory.intrinsic+json": {
       "type": "string"
      },
      "text/plain": [
       "'Miguel Arteta (director); Sam Pitman, Adam Cole-Kelly (screenplay); Tiffany Haddish, Rose Byrne, Salma Hayek, Jennifer Coolidge, Billy Porter'"
      ]
     },
     "execution_count": 36,
     "metadata": {},
     "output_type": "execute_result"
    }
   ],
   "source": [
    "df_2020['Cast and crew'][2]"
   ]
  },
  {
   "cell_type": "code",
   "execution_count": 37,
   "metadata": {
    "executionInfo": {
     "elapsed": 414,
     "status": "ok",
     "timestamp": 1645582603349,
     "user": {
      "displayName": "sarthak nikure",
      "photoUrl": "https://lh3.googleusercontent.com/a/default-user=s64",
      "userId": "16514347430543116262"
     },
     "user_tz": -330
    },
    "id": "rTWXjJK3Wd5s"
   },
   "outputs": [],
   "source": [
    "def get_actor1(x):\n",
    "  return ((x.split(\"screenplay); \")[-1]).split(\", \")[0])"
   ]
  },
  {
   "cell_type": "code",
   "execution_count": 38,
   "metadata": {
    "colab": {
     "base_uri": "https://localhost:8080/"
    },
    "executionInfo": {
     "elapsed": 401,
     "status": "ok",
     "timestamp": 1645582672866,
     "user": {
      "displayName": "sarthak nikure",
      "photoUrl": "https://lh3.googleusercontent.com/a/default-user=s64",
      "userId": "16514347430543116262"
     },
     "user_tz": -330
    },
    "id": "FN4Zc8EfXc_W",
    "outputId": "be8cad44-43bf-4f0d-cd30-ee483d207228"
   },
   "outputs": [
    {
     "name": "stderr",
     "output_type": "stream",
     "text": [
      "/usr/local/lib/python3.7/dist-packages/ipykernel_launcher.py:1: SettingWithCopyWarning: \n",
      "A value is trying to be set on a copy of a slice from a DataFrame.\n",
      "Try using .loc[row_indexer,col_indexer] = value instead\n",
      "\n",
      "See the caveats in the documentation: https://pandas.pydata.org/pandas-docs/stable/user_guide/indexing.html#returning-a-view-versus-a-copy\n",
      "  \"\"\"Entry point for launching an IPython kernel.\n"
     ]
    }
   ],
   "source": [
    "df_2020['actor_1_name'] = df_2020['Cast and crew'].map(lambda x: get_actor1(str(x)))"
   ]
  },
  {
   "cell_type": "code",
   "execution_count": 39,
   "metadata": {
    "colab": {
     "base_uri": "https://localhost:8080/",
     "height": 35
    },
    "executionInfo": {
     "elapsed": 420,
     "status": "ok",
     "timestamp": 1645582702681,
     "user": {
      "displayName": "sarthak nikure",
      "photoUrl": "https://lh3.googleusercontent.com/a/default-user=s64",
      "userId": "16514347430543116262"
     },
     "user_tz": -330
    },
    "id": "ij-cAIT-Xt99",
    "outputId": "84722357-6724-4a3f-dd75-95cef1dccec5"
   },
   "outputs": [
    {
     "data": {
      "application/vnd.google.colaboratory.intrinsic+json": {
       "type": "string"
      },
      "text/plain": [
       "'Tiffany Haddish'"
      ]
     },
     "execution_count": 39,
     "metadata": {},
     "output_type": "execute_result"
    }
   ],
   "source": [
    "df_2020['actor_1_name'][2]"
   ]
  },
  {
   "cell_type": "code",
   "execution_count": 42,
   "metadata": {
    "colab": {
     "base_uri": "https://localhost:8080/",
     "height": 52
    },
    "executionInfo": {
     "elapsed": 421,
     "status": "ok",
     "timestamp": 1645582792078,
     "user": {
      "displayName": "sarthak nikure",
      "photoUrl": "https://lh3.googleusercontent.com/a/default-user=s64",
      "userId": "16514347430543116262"
     },
     "user_tz": -330
    },
    "id": "sH5FXbpOX1G8",
    "outputId": "14efbe1c-a4a3-4317-bfdf-8585ebe7d162"
   },
   "outputs": [
    {
     "data": {
      "application/vnd.google.colaboratory.intrinsic+json": {
       "type": "string"
      },
      "text/plain": [
       "'William Eubank (director); Brian Duffield, Adam Cozad (screenplay); Kristen Stewart, Vincent Cassel, Jessica Henwick, John Gallagher Jr., Mamoudou Athie, T.J. Miller'"
      ]
     },
     "execution_count": 42,
     "metadata": {},
     "output_type": "execute_result"
    }
   ],
   "source": [
    "df_2020['Cast and crew'][1]"
   ]
  },
  {
   "cell_type": "code",
   "execution_count": 43,
   "metadata": {
    "executionInfo": {
     "elapsed": 419,
     "status": "ok",
     "timestamp": 1645583055650,
     "user": {
      "displayName": "sarthak nikure",
      "photoUrl": "https://lh3.googleusercontent.com/a/default-user=s64",
      "userId": "16514347430543116262"
     },
     "user_tz": -330
    },
    "id": "UKsLotyHYExg"
   },
   "outputs": [],
   "source": [
    "def get_actor2(x):\n",
    "  if len((x.split(\"screenplay); \")[-1]).split(\", \")) < 2:\n",
    "    return np.NaN\n",
    "  else:\n",
    "    return ((x.split(\"screenplay); \")[-1]).split(\", \")[1])"
   ]
  },
  {
   "cell_type": "code",
   "execution_count": 44,
   "metadata": {
    "colab": {
     "base_uri": "https://localhost:8080/"
    },
    "executionInfo": {
     "elapsed": 14,
     "status": "ok",
     "timestamp": 1645583200696,
     "user": {
      "displayName": "sarthak nikure",
      "photoUrl": "https://lh3.googleusercontent.com/a/default-user=s64",
      "userId": "16514347430543116262"
     },
     "user_tz": -330
    },
    "id": "1q4mx3c6ZLb3",
    "outputId": "6c32e5e5-3397-4940-b988-1fb6a7c5a1b2"
   },
   "outputs": [
    {
     "name": "stderr",
     "output_type": "stream",
     "text": [
      "/usr/local/lib/python3.7/dist-packages/ipykernel_launcher.py:1: SettingWithCopyWarning: \n",
      "A value is trying to be set on a copy of a slice from a DataFrame.\n",
      "Try using .loc[row_indexer,col_indexer] = value instead\n",
      "\n",
      "See the caveats in the documentation: https://pandas.pydata.org/pandas-docs/stable/user_guide/indexing.html#returning-a-view-versus-a-copy\n",
      "  \"\"\"Entry point for launching an IPython kernel.\n"
     ]
    }
   ],
   "source": [
    "df_2020['actor_2_name'] = df_2020['Cast and crew'].map(lambda x: get_actor2(str(x)))"
   ]
  },
  {
   "cell_type": "code",
   "execution_count": 46,
   "metadata": {
    "colab": {
     "base_uri": "https://localhost:8080/",
     "height": 52
    },
    "executionInfo": {
     "elapsed": 739,
     "status": "ok",
     "timestamp": 1645583536228,
     "user": {
      "displayName": "sarthak nikure",
      "photoUrl": "https://lh3.googleusercontent.com/a/default-user=s64",
      "userId": "16514347430543116262"
     },
     "user_tz": -330
    },
    "id": "7cMocUiUaGnF",
    "outputId": "e7660e67-ffe5-4e55-a40b-bc5f61d511bb"
   },
   "outputs": [
    {
     "data": {
      "application/vnd.google.colaboratory.intrinsic+json": {
       "type": "string"
      },
      "text/plain": [
       "'William Eubank (director); Brian Duffield, Adam Cozad (screenplay); Kristen Stewart, Vincent Cassel, Jessica Henwick, John Gallagher Jr., Mamoudou Athie, T.J. Miller'"
      ]
     },
     "execution_count": 46,
     "metadata": {},
     "output_type": "execute_result"
    }
   ],
   "source": [
    "df_2020['Cast and crew'][1]"
   ]
  },
  {
   "cell_type": "code",
   "execution_count": 47,
   "metadata": {
    "executionInfo": {
     "elapsed": 505,
     "status": "ok",
     "timestamp": 1645583560383,
     "user": {
      "displayName": "sarthak nikure",
      "photoUrl": "https://lh3.googleusercontent.com/a/default-user=s64",
      "userId": "16514347430543116262"
     },
     "user_tz": -330
    },
    "id": "2Kt2FlrMZu1d"
   },
   "outputs": [],
   "source": [
    "def get_actor3(x):\n",
    "  if len((x.split(\"screenplay); \")[-1]).split(\", \")) < 3:\n",
    "    return np.NaN\n",
    "  else:\n",
    "    return ((x.split(\"screenplay); \")[-1]).split(\", \")[2])"
   ]
  },
  {
   "cell_type": "code",
   "execution_count": 48,
   "metadata": {
    "executionInfo": {
     "elapsed": 427,
     "status": "ok",
     "timestamp": 1645583631260,
     "user": {
      "displayName": "sarthak nikure",
      "photoUrl": "https://lh3.googleusercontent.com/a/default-user=s64",
      "userId": "16514347430543116262"
     },
     "user_tz": -330
    },
    "id": "LoFz70_cbGoD"
   },
   "outputs": [],
   "source": [
    "df_2020['actor_3_name'] = df_2020['Cast and crew'].map(lambda x: get_actor3(str(x)))"
   ]
  },
  {
   "cell_type": "code",
   "execution_count": 49,
   "metadata": {
    "colab": {
     "base_uri": "https://localhost:8080/",
     "height": 735
    },
    "executionInfo": {
     "elapsed": 491,
     "status": "ok",
     "timestamp": 1645583646688,
     "user": {
      "displayName": "sarthak nikure",
      "photoUrl": "https://lh3.googleusercontent.com/a/default-user=s64",
      "userId": "16514347430543116262"
     },
     "user_tz": -330
    },
    "id": "6eNER8KFbX8x",
    "outputId": "26fb2eb3-5079-4ebc-9830-8e92599a4349"
   },
   "outputs": [
    {
     "data": {
      "text/html": [
       "\n",
       "  <div id=\"df-054926f8-09fe-47ff-8c70-77a6691063f8\">\n",
       "    <div class=\"colab-df-container\">\n",
       "      <div>\n",
       "<style scoped>\n",
       "    .dataframe tbody tr th:only-of-type {\n",
       "        vertical-align: middle;\n",
       "    }\n",
       "\n",
       "    .dataframe tbody tr th {\n",
       "        vertical-align: top;\n",
       "    }\n",
       "\n",
       "    .dataframe thead th {\n",
       "        text-align: right;\n",
       "    }\n",
       "</style>\n",
       "<table border=\"1\" class=\"dataframe\">\n",
       "  <thead>\n",
       "    <tr style=\"text-align: right;\">\n",
       "      <th></th>\n",
       "      <th>Title</th>\n",
       "      <th>Cast and crew</th>\n",
       "      <th>genres</th>\n",
       "      <th>director_name</th>\n",
       "      <th>actor_1_name</th>\n",
       "      <th>actor_2_name</th>\n",
       "      <th>actor_3_name</th>\n",
       "    </tr>\n",
       "  </thead>\n",
       "  <tbody>\n",
       "    <tr>\n",
       "      <th>0</th>\n",
       "      <td>The Grudge</td>\n",
       "      <td>Nicolas Pesce (director/screenplay); Andrea Ri...</td>\n",
       "      <td>Horror Mystery Thriller</td>\n",
       "      <td>Nicolas Pesce</td>\n",
       "      <td>Andrea Riseborough</td>\n",
       "      <td>Demián Bichir</td>\n",
       "      <td>John Cho</td>\n",
       "    </tr>\n",
       "    <tr>\n",
       "      <th>1</th>\n",
       "      <td>Underwater</td>\n",
       "      <td>William Eubank (director); Brian Duffield, Ada...</td>\n",
       "      <td>Action Horror Science Fiction Thriller</td>\n",
       "      <td>William Eubank</td>\n",
       "      <td>Kristen Stewart</td>\n",
       "      <td>Vincent Cassel</td>\n",
       "      <td>Jessica Henwick</td>\n",
       "    </tr>\n",
       "    <tr>\n",
       "      <th>2</th>\n",
       "      <td>Like a Boss</td>\n",
       "      <td>Miguel Arteta (director); Sam Pitman, Adam Col...</td>\n",
       "      <td>Comedy</td>\n",
       "      <td>Miguel Arteta</td>\n",
       "      <td>Tiffany Haddish</td>\n",
       "      <td>Rose Byrne</td>\n",
       "      <td>Salma Hayek</td>\n",
       "    </tr>\n",
       "    <tr>\n",
       "      <th>3</th>\n",
       "      <td>Three Christs</td>\n",
       "      <td>Jon Avnet (director/screenplay); Eric Nazarian...</td>\n",
       "      <td>Drama</td>\n",
       "      <td>Jon Avnet</td>\n",
       "      <td>Richard Gere</td>\n",
       "      <td>Peter Dinklage</td>\n",
       "      <td>Walton Goggins</td>\n",
       "    </tr>\n",
       "    <tr>\n",
       "      <th>4</th>\n",
       "      <td>Inherit the Viper</td>\n",
       "      <td>Anthony Jerjen (director); Andrew Crabtree (sc...</td>\n",
       "      <td>Crime Thriller Drama</td>\n",
       "      <td>Anthony Jerjen</td>\n",
       "      <td>Josh Hartnett</td>\n",
       "      <td>Margarita Levieva</td>\n",
       "      <td>Chandler Riggs</td>\n",
       "    </tr>\n",
       "    <tr>\n",
       "      <th>...</th>\n",
       "      <td>...</td>\n",
       "      <td>...</td>\n",
       "      <td>...</td>\n",
       "      <td>...</td>\n",
       "      <td>...</td>\n",
       "      <td>...</td>\n",
       "      <td>...</td>\n",
       "    </tr>\n",
       "    <tr>\n",
       "      <th>269</th>\n",
       "      <td>We Can Be Heroes</td>\n",
       "      <td>Robert Rodriguez (director/screenplay); Priyan...</td>\n",
       "      <td>Action Fantasy Family Comedy</td>\n",
       "      <td>Robert Rodriguez</td>\n",
       "      <td>Priyanka Chopra Jonas</td>\n",
       "      <td>Pedro Pascal</td>\n",
       "      <td>YaYa Gosselin</td>\n",
       "    </tr>\n",
       "    <tr>\n",
       "      <th>270</th>\n",
       "      <td>News of the World</td>\n",
       "      <td>Paul Greengrass (director/screenplay); Luke Da...</td>\n",
       "      <td>Adventure Western</td>\n",
       "      <td>Paul Greengrass</td>\n",
       "      <td>Tom Hanks</td>\n",
       "      <td>Helena Zengel</td>\n",
       "      <td>NaN</td>\n",
       "    </tr>\n",
       "    <tr>\n",
       "      <th>271</th>\n",
       "      <td>One Night in Miami...</td>\n",
       "      <td>Regina King (director); Kemp Powers (screenpla...</td>\n",
       "      <td>Drama</td>\n",
       "      <td>Regina King</td>\n",
       "      <td>Kingsley Ben-Adir</td>\n",
       "      <td>Eli Goree</td>\n",
       "      <td>Aldis Hodge</td>\n",
       "    </tr>\n",
       "    <tr>\n",
       "      <th>272</th>\n",
       "      <td>Promising Young Woman</td>\n",
       "      <td>Emerald Fennell (director/screenplay); Carey M...</td>\n",
       "      <td>Thriller Crime Drama</td>\n",
       "      <td>Emerald Fennell</td>\n",
       "      <td>Carey Mulligan</td>\n",
       "      <td>Bo Burnham</td>\n",
       "      <td>Alison Brie</td>\n",
       "    </tr>\n",
       "    <tr>\n",
       "      <th>273</th>\n",
       "      <td>Pieces of a Woman</td>\n",
       "      <td>Kornél Mundruczó (director); Kata Wéber (scree...</td>\n",
       "      <td>Drama</td>\n",
       "      <td>Kornél Mundruczó</td>\n",
       "      <td>Vanessa Kirby</td>\n",
       "      <td>Shia LaBeouf</td>\n",
       "      <td>Molly Parker</td>\n",
       "    </tr>\n",
       "  </tbody>\n",
       "</table>\n",
       "<p>274 rows × 7 columns</p>\n",
       "</div>\n",
       "      <button class=\"colab-df-convert\" onclick=\"convertToInteractive('df-054926f8-09fe-47ff-8c70-77a6691063f8')\"\n",
       "              title=\"Convert this dataframe to an interactive table.\"\n",
       "              style=\"display:none;\">\n",
       "        \n",
       "  <svg xmlns=\"http://www.w3.org/2000/svg\" height=\"24px\"viewBox=\"0 0 24 24\"\n",
       "       width=\"24px\">\n",
       "    <path d=\"M0 0h24v24H0V0z\" fill=\"none\"/>\n",
       "    <path d=\"M18.56 5.44l.94 2.06.94-2.06 2.06-.94-2.06-.94-.94-2.06-.94 2.06-2.06.94zm-11 1L8.5 8.5l.94-2.06 2.06-.94-2.06-.94L8.5 2.5l-.94 2.06-2.06.94zm10 10l.94 2.06.94-2.06 2.06-.94-2.06-.94-.94-2.06-.94 2.06-2.06.94z\"/><path d=\"M17.41 7.96l-1.37-1.37c-.4-.4-.92-.59-1.43-.59-.52 0-1.04.2-1.43.59L10.3 9.45l-7.72 7.72c-.78.78-.78 2.05 0 2.83L4 21.41c.39.39.9.59 1.41.59.51 0 1.02-.2 1.41-.59l7.78-7.78 2.81-2.81c.8-.78.8-2.07 0-2.86zM5.41 20L4 18.59l7.72-7.72 1.47 1.35L5.41 20z\"/>\n",
       "  </svg>\n",
       "      </button>\n",
       "      \n",
       "  <style>\n",
       "    .colab-df-container {\n",
       "      display:flex;\n",
       "      flex-wrap:wrap;\n",
       "      gap: 12px;\n",
       "    }\n",
       "\n",
       "    .colab-df-convert {\n",
       "      background-color: #E8F0FE;\n",
       "      border: none;\n",
       "      border-radius: 50%;\n",
       "      cursor: pointer;\n",
       "      display: none;\n",
       "      fill: #1967D2;\n",
       "      height: 32px;\n",
       "      padding: 0 0 0 0;\n",
       "      width: 32px;\n",
       "    }\n",
       "\n",
       "    .colab-df-convert:hover {\n",
       "      background-color: #E2EBFA;\n",
       "      box-shadow: 0px 1px 2px rgba(60, 64, 67, 0.3), 0px 1px 3px 1px rgba(60, 64, 67, 0.15);\n",
       "      fill: #174EA6;\n",
       "    }\n",
       "\n",
       "    [theme=dark] .colab-df-convert {\n",
       "      background-color: #3B4455;\n",
       "      fill: #D2E3FC;\n",
       "    }\n",
       "\n",
       "    [theme=dark] .colab-df-convert:hover {\n",
       "      background-color: #434B5C;\n",
       "      box-shadow: 0px 1px 3px 1px rgba(0, 0, 0, 0.15);\n",
       "      filter: drop-shadow(0px 1px 2px rgba(0, 0, 0, 0.3));\n",
       "      fill: #FFFFFF;\n",
       "    }\n",
       "  </style>\n",
       "\n",
       "      <script>\n",
       "        const buttonEl =\n",
       "          document.querySelector('#df-054926f8-09fe-47ff-8c70-77a6691063f8 button.colab-df-convert');\n",
       "        buttonEl.style.display =\n",
       "          google.colab.kernel.accessAllowed ? 'block' : 'none';\n",
       "\n",
       "        async function convertToInteractive(key) {\n",
       "          const element = document.querySelector('#df-054926f8-09fe-47ff-8c70-77a6691063f8');\n",
       "          const dataTable =\n",
       "            await google.colab.kernel.invokeFunction('convertToInteractive',\n",
       "                                                     [key], {});\n",
       "          if (!dataTable) return;\n",
       "\n",
       "          const docLinkHtml = 'Like what you see? Visit the ' +\n",
       "            '<a target=\"_blank\" href=https://colab.research.google.com/notebooks/data_table.ipynb>data table notebook</a>'\n",
       "            + ' to learn more about interactive tables.';\n",
       "          element.innerHTML = '';\n",
       "          dataTable['output_type'] = 'display_data';\n",
       "          await google.colab.output.renderOutput(dataTable, element);\n",
       "          const docLink = document.createElement('div');\n",
       "          docLink.innerHTML = docLinkHtml;\n",
       "          element.appendChild(docLink);\n",
       "        }\n",
       "      </script>\n",
       "    </div>\n",
       "  </div>\n",
       "  "
      ],
      "text/plain": [
       "                     Title  ...     actor_3_name\n",
       "0               The Grudge  ...         John Cho\n",
       "1               Underwater  ...  Jessica Henwick\n",
       "2              Like a Boss  ...      Salma Hayek\n",
       "3            Three Christs  ...   Walton Goggins\n",
       "4        Inherit the Viper  ...   Chandler Riggs\n",
       "..                     ...  ...              ...\n",
       "269       We Can Be Heroes  ...    YaYa Gosselin\n",
       "270      News of the World  ...              NaN\n",
       "271  One Night in Miami...  ...      Aldis Hodge\n",
       "272  Promising Young Woman  ...      Alison Brie\n",
       "273      Pieces of a Woman  ...     Molly Parker\n",
       "\n",
       "[274 rows x 7 columns]"
      ]
     },
     "execution_count": 49,
     "metadata": {},
     "output_type": "execute_result"
    }
   ],
   "source": [
    "df_2020"
   ]
  },
  {
   "cell_type": "code",
   "execution_count": 50,
   "metadata": {
    "executionInfo": {
     "elapsed": 496,
     "status": "ok",
     "timestamp": 1645583741640,
     "user": {
      "displayName": "sarthak nikure",
      "photoUrl": "https://lh3.googleusercontent.com/a/default-user=s64",
      "userId": "16514347430543116262"
     },
     "user_tz": -330
    },
    "id": "tXTl57VmbbiC"
   },
   "outputs": [],
   "source": [
    "df_2020 = df_2020.rename(columns={'Title':'movie_title'})"
   ]
  },
  {
   "cell_type": "code",
   "execution_count": 52,
   "metadata": {
    "executionInfo": {
     "elapsed": 461,
     "status": "ok",
     "timestamp": 1645583844654,
     "user": {
      "displayName": "sarthak nikure",
      "photoUrl": "https://lh3.googleusercontent.com/a/default-user=s64",
      "userId": "16514347430543116262"
     },
     "user_tz": -330
    },
    "id": "8Of0UmTKby5o"
   },
   "outputs": [],
   "source": [
    "new_df20 = df_2020.loc[:,['director_name','actor_1_name','actor_2_name','actor_3_name','genres','movie_title']]"
   ]
  },
  {
   "cell_type": "code",
   "execution_count": 53,
   "metadata": {
    "colab": {
     "base_uri": "https://localhost:8080/",
     "height": 548
    },
    "executionInfo": {
     "elapsed": 552,
     "status": "ok",
     "timestamp": 1645583865554,
     "user": {
      "displayName": "sarthak nikure",
      "photoUrl": "https://lh3.googleusercontent.com/a/default-user=s64",
      "userId": "16514347430543116262"
     },
     "user_tz": -330
    },
    "id": "B1RbRuiNb1r8",
    "outputId": "8b40bc06-849a-4c09-d547-6aecf3d53c81"
   },
   "outputs": [
    {
     "data": {
      "text/html": [
       "\n",
       "  <div id=\"df-f8c8d453-d9bf-4765-938b-6033e18a12d6\">\n",
       "    <div class=\"colab-df-container\">\n",
       "      <div>\n",
       "<style scoped>\n",
       "    .dataframe tbody tr th:only-of-type {\n",
       "        vertical-align: middle;\n",
       "    }\n",
       "\n",
       "    .dataframe tbody tr th {\n",
       "        vertical-align: top;\n",
       "    }\n",
       "\n",
       "    .dataframe thead th {\n",
       "        text-align: right;\n",
       "    }\n",
       "</style>\n",
       "<table border=\"1\" class=\"dataframe\">\n",
       "  <thead>\n",
       "    <tr style=\"text-align: right;\">\n",
       "      <th></th>\n",
       "      <th>director_name</th>\n",
       "      <th>actor_1_name</th>\n",
       "      <th>actor_2_name</th>\n",
       "      <th>actor_3_name</th>\n",
       "      <th>genres</th>\n",
       "      <th>movie_title</th>\n",
       "    </tr>\n",
       "  </thead>\n",
       "  <tbody>\n",
       "    <tr>\n",
       "      <th>0</th>\n",
       "      <td>Nicolas Pesce</td>\n",
       "      <td>Andrea Riseborough</td>\n",
       "      <td>Demián Bichir</td>\n",
       "      <td>John Cho</td>\n",
       "      <td>Horror Mystery Thriller</td>\n",
       "      <td>The Grudge</td>\n",
       "    </tr>\n",
       "    <tr>\n",
       "      <th>1</th>\n",
       "      <td>William Eubank</td>\n",
       "      <td>Kristen Stewart</td>\n",
       "      <td>Vincent Cassel</td>\n",
       "      <td>Jessica Henwick</td>\n",
       "      <td>Action Horror Science Fiction Thriller</td>\n",
       "      <td>Underwater</td>\n",
       "    </tr>\n",
       "    <tr>\n",
       "      <th>2</th>\n",
       "      <td>Miguel Arteta</td>\n",
       "      <td>Tiffany Haddish</td>\n",
       "      <td>Rose Byrne</td>\n",
       "      <td>Salma Hayek</td>\n",
       "      <td>Comedy</td>\n",
       "      <td>Like a Boss</td>\n",
       "    </tr>\n",
       "    <tr>\n",
       "      <th>3</th>\n",
       "      <td>Jon Avnet</td>\n",
       "      <td>Richard Gere</td>\n",
       "      <td>Peter Dinklage</td>\n",
       "      <td>Walton Goggins</td>\n",
       "      <td>Drama</td>\n",
       "      <td>Three Christs</td>\n",
       "    </tr>\n",
       "    <tr>\n",
       "      <th>4</th>\n",
       "      <td>Anthony Jerjen</td>\n",
       "      <td>Josh Hartnett</td>\n",
       "      <td>Margarita Levieva</td>\n",
       "      <td>Chandler Riggs</td>\n",
       "      <td>Crime Thriller Drama</td>\n",
       "      <td>Inherit the Viper</td>\n",
       "    </tr>\n",
       "    <tr>\n",
       "      <th>...</th>\n",
       "      <td>...</td>\n",
       "      <td>...</td>\n",
       "      <td>...</td>\n",
       "      <td>...</td>\n",
       "      <td>...</td>\n",
       "      <td>...</td>\n",
       "    </tr>\n",
       "    <tr>\n",
       "      <th>269</th>\n",
       "      <td>Robert Rodriguez</td>\n",
       "      <td>Priyanka Chopra Jonas</td>\n",
       "      <td>Pedro Pascal</td>\n",
       "      <td>YaYa Gosselin</td>\n",
       "      <td>Action Fantasy Family Comedy</td>\n",
       "      <td>We Can Be Heroes</td>\n",
       "    </tr>\n",
       "    <tr>\n",
       "      <th>270</th>\n",
       "      <td>Paul Greengrass</td>\n",
       "      <td>Tom Hanks</td>\n",
       "      <td>Helena Zengel</td>\n",
       "      <td>NaN</td>\n",
       "      <td>Adventure Western</td>\n",
       "      <td>News of the World</td>\n",
       "    </tr>\n",
       "    <tr>\n",
       "      <th>271</th>\n",
       "      <td>Regina King</td>\n",
       "      <td>Kingsley Ben-Adir</td>\n",
       "      <td>Eli Goree</td>\n",
       "      <td>Aldis Hodge</td>\n",
       "      <td>Drama</td>\n",
       "      <td>One Night in Miami...</td>\n",
       "    </tr>\n",
       "    <tr>\n",
       "      <th>272</th>\n",
       "      <td>Emerald Fennell</td>\n",
       "      <td>Carey Mulligan</td>\n",
       "      <td>Bo Burnham</td>\n",
       "      <td>Alison Brie</td>\n",
       "      <td>Thriller Crime Drama</td>\n",
       "      <td>Promising Young Woman</td>\n",
       "    </tr>\n",
       "    <tr>\n",
       "      <th>273</th>\n",
       "      <td>Kornél Mundruczó</td>\n",
       "      <td>Vanessa Kirby</td>\n",
       "      <td>Shia LaBeouf</td>\n",
       "      <td>Molly Parker</td>\n",
       "      <td>Drama</td>\n",
       "      <td>Pieces of a Woman</td>\n",
       "    </tr>\n",
       "  </tbody>\n",
       "</table>\n",
       "<p>274 rows × 6 columns</p>\n",
       "</div>\n",
       "      <button class=\"colab-df-convert\" onclick=\"convertToInteractive('df-f8c8d453-d9bf-4765-938b-6033e18a12d6')\"\n",
       "              title=\"Convert this dataframe to an interactive table.\"\n",
       "              style=\"display:none;\">\n",
       "        \n",
       "  <svg xmlns=\"http://www.w3.org/2000/svg\" height=\"24px\"viewBox=\"0 0 24 24\"\n",
       "       width=\"24px\">\n",
       "    <path d=\"M0 0h24v24H0V0z\" fill=\"none\"/>\n",
       "    <path d=\"M18.56 5.44l.94 2.06.94-2.06 2.06-.94-2.06-.94-.94-2.06-.94 2.06-2.06.94zm-11 1L8.5 8.5l.94-2.06 2.06-.94-2.06-.94L8.5 2.5l-.94 2.06-2.06.94zm10 10l.94 2.06.94-2.06 2.06-.94-2.06-.94-.94-2.06-.94 2.06-2.06.94z\"/><path d=\"M17.41 7.96l-1.37-1.37c-.4-.4-.92-.59-1.43-.59-.52 0-1.04.2-1.43.59L10.3 9.45l-7.72 7.72c-.78.78-.78 2.05 0 2.83L4 21.41c.39.39.9.59 1.41.59.51 0 1.02-.2 1.41-.59l7.78-7.78 2.81-2.81c.8-.78.8-2.07 0-2.86zM5.41 20L4 18.59l7.72-7.72 1.47 1.35L5.41 20z\"/>\n",
       "  </svg>\n",
       "      </button>\n",
       "      \n",
       "  <style>\n",
       "    .colab-df-container {\n",
       "      display:flex;\n",
       "      flex-wrap:wrap;\n",
       "      gap: 12px;\n",
       "    }\n",
       "\n",
       "    .colab-df-convert {\n",
       "      background-color: #E8F0FE;\n",
       "      border: none;\n",
       "      border-radius: 50%;\n",
       "      cursor: pointer;\n",
       "      display: none;\n",
       "      fill: #1967D2;\n",
       "      height: 32px;\n",
       "      padding: 0 0 0 0;\n",
       "      width: 32px;\n",
       "    }\n",
       "\n",
       "    .colab-df-convert:hover {\n",
       "      background-color: #E2EBFA;\n",
       "      box-shadow: 0px 1px 2px rgba(60, 64, 67, 0.3), 0px 1px 3px 1px rgba(60, 64, 67, 0.15);\n",
       "      fill: #174EA6;\n",
       "    }\n",
       "\n",
       "    [theme=dark] .colab-df-convert {\n",
       "      background-color: #3B4455;\n",
       "      fill: #D2E3FC;\n",
       "    }\n",
       "\n",
       "    [theme=dark] .colab-df-convert:hover {\n",
       "      background-color: #434B5C;\n",
       "      box-shadow: 0px 1px 3px 1px rgba(0, 0, 0, 0.15);\n",
       "      filter: drop-shadow(0px 1px 2px rgba(0, 0, 0, 0.3));\n",
       "      fill: #FFFFFF;\n",
       "    }\n",
       "  </style>\n",
       "\n",
       "      <script>\n",
       "        const buttonEl =\n",
       "          document.querySelector('#df-f8c8d453-d9bf-4765-938b-6033e18a12d6 button.colab-df-convert');\n",
       "        buttonEl.style.display =\n",
       "          google.colab.kernel.accessAllowed ? 'block' : 'none';\n",
       "\n",
       "        async function convertToInteractive(key) {\n",
       "          const element = document.querySelector('#df-f8c8d453-d9bf-4765-938b-6033e18a12d6');\n",
       "          const dataTable =\n",
       "            await google.colab.kernel.invokeFunction('convertToInteractive',\n",
       "                                                     [key], {});\n",
       "          if (!dataTable) return;\n",
       "\n",
       "          const docLinkHtml = 'Like what you see? Visit the ' +\n",
       "            '<a target=\"_blank\" href=https://colab.research.google.com/notebooks/data_table.ipynb>data table notebook</a>'\n",
       "            + ' to learn more about interactive tables.';\n",
       "          element.innerHTML = '';\n",
       "          dataTable['output_type'] = 'display_data';\n",
       "          await google.colab.output.renderOutput(dataTable, element);\n",
       "          const docLink = document.createElement('div');\n",
       "          docLink.innerHTML = docLinkHtml;\n",
       "          element.appendChild(docLink);\n",
       "        }\n",
       "      </script>\n",
       "    </div>\n",
       "  </div>\n",
       "  "
      ],
      "text/plain": [
       "        director_name  ...            movie_title\n",
       "0       Nicolas Pesce  ...             The Grudge\n",
       "1      William Eubank  ...             Underwater\n",
       "2       Miguel Arteta  ...            Like a Boss\n",
       "3           Jon Avnet  ...          Three Christs\n",
       "4      Anthony Jerjen  ...      Inherit the Viper\n",
       "..                ...  ...                    ...\n",
       "269  Robert Rodriguez  ...       We Can Be Heroes\n",
       "270   Paul Greengrass  ...      News of the World\n",
       "271       Regina King  ...  One Night in Miami...\n",
       "272   Emerald Fennell  ...  Promising Young Woman\n",
       "273  Kornél Mundruczó  ...      Pieces of a Woman\n",
       "\n",
       "[274 rows x 6 columns]"
      ]
     },
     "execution_count": 53,
     "metadata": {},
     "output_type": "execute_result"
    }
   ],
   "source": [
    "new_df20"
   ]
  },
  {
   "cell_type": "code",
   "execution_count": 54,
   "metadata": {
    "executionInfo": {
     "elapsed": 419,
     "status": "ok",
     "timestamp": 1645584001843,
     "user": {
      "displayName": "sarthak nikure",
      "photoUrl": "https://lh3.googleusercontent.com/a/default-user=s64",
      "userId": "16514347430543116262"
     },
     "user_tz": -330
    },
    "id": "9XGKZPX0cQ8B"
   },
   "outputs": [],
   "source": [
    "new_df20['comb'] = new_df20['actor_1_name'] + ' ' + new_df20['actor_2_name'] + ' '+ new_df20['actor_3_name'] + ' '+ new_df20['director_name'] +' ' + new_df20['genres']"
   ]
  },
  {
   "cell_type": "code",
   "execution_count": 55,
   "metadata": {
    "colab": {
     "base_uri": "https://localhost:8080/"
    },
    "executionInfo": {
     "elapsed": 632,
     "status": "ok",
     "timestamp": 1645584021306,
     "user": {
      "displayName": "sarthak nikure",
      "photoUrl": "https://lh3.googleusercontent.com/a/default-user=s64",
      "userId": "16514347430543116262"
     },
     "user_tz": -330
    },
    "id": "NF9dwyA2cybh",
    "outputId": "3b0dc16a-4334-4596-ba9b-9bc2408c3add"
   },
   "outputs": [
    {
     "data": {
      "text/plain": [
       "director_name     0\n",
       "actor_1_name      0\n",
       "actor_2_name      4\n",
       "actor_3_name     27\n",
       "genres            1\n",
       "movie_title       0\n",
       "comb             28\n",
       "dtype: int64"
      ]
     },
     "execution_count": 55,
     "metadata": {},
     "output_type": "execute_result"
    }
   ],
   "source": [
    "new_df20.isnull().sum()"
   ]
  },
  {
   "cell_type": "code",
   "execution_count": 56,
   "metadata": {
    "executionInfo": {
     "elapsed": 407,
     "status": "ok",
     "timestamp": 1645584168853,
     "user": {
      "displayName": "sarthak nikure",
      "photoUrl": "https://lh3.googleusercontent.com/a/default-user=s64",
      "userId": "16514347430543116262"
     },
     "user_tz": -330
    },
    "id": "BWVMNJtDc3I5"
   },
   "outputs": [],
   "source": [
    "new_df20 = new_df20.dropna(how='any')"
   ]
  },
  {
   "cell_type": "code",
   "execution_count": 57,
   "metadata": {
    "colab": {
     "base_uri": "https://localhost:8080/"
    },
    "executionInfo": {
     "elapsed": 408,
     "status": "ok",
     "timestamp": 1645584175712,
     "user": {
      "displayName": "sarthak nikure",
      "photoUrl": "https://lh3.googleusercontent.com/a/default-user=s64",
      "userId": "16514347430543116262"
     },
     "user_tz": -330
    },
    "id": "keGyD3XcdbMW",
    "outputId": "75c63066-bb81-4e70-fcc2-4c0c9c683185"
   },
   "outputs": [
    {
     "data": {
      "text/plain": [
       "director_name    0\n",
       "actor_1_name     0\n",
       "actor_2_name     0\n",
       "actor_3_name     0\n",
       "genres           0\n",
       "movie_title      0\n",
       "comb             0\n",
       "dtype: int64"
      ]
     },
     "execution_count": 57,
     "metadata": {},
     "output_type": "execute_result"
    }
   ],
   "source": [
    "new_df20.isnull().sum()"
   ]
  },
  {
   "cell_type": "code",
   "execution_count": 58,
   "metadata": {
    "colab": {
     "base_uri": "https://localhost:8080/"
    },
    "executionInfo": {
     "elapsed": 397,
     "status": "ok",
     "timestamp": 1645584245639,
     "user": {
      "displayName": "sarthak nikure",
      "photoUrl": "https://lh3.googleusercontent.com/a/default-user=s64",
      "userId": "16514347430543116262"
     },
     "user_tz": -330
    },
    "id": "VYTHAQaDdc4T",
    "outputId": "ec497614-c416-4d1c-e501-7dc853b5782e"
   },
   "outputs": [
    {
     "name": "stderr",
     "output_type": "stream",
     "text": [
      "/usr/local/lib/python3.7/dist-packages/ipykernel_launcher.py:1: SettingWithCopyWarning: \n",
      "A value is trying to be set on a copy of a slice from a DataFrame.\n",
      "Try using .loc[row_indexer,col_indexer] = value instead\n",
      "\n",
      "See the caveats in the documentation: https://pandas.pydata.org/pandas-docs/stable/user_guide/indexing.html#returning-a-view-versus-a-copy\n",
      "  \"\"\"Entry point for launching an IPython kernel.\n"
     ]
    }
   ],
   "source": [
    "new_df20['movie_title'] = new_df20['movie_title'].str.lower()"
   ]
  },
  {
   "cell_type": "code",
   "execution_count": 59,
   "metadata": {
    "colab": {
     "base_uri": "https://localhost:8080/",
     "height": 803
    },
    "executionInfo": {
     "elapsed": 426,
     "status": "ok",
     "timestamp": 1645584267688,
     "user": {
      "displayName": "sarthak nikure",
      "photoUrl": "https://lh3.googleusercontent.com/a/default-user=s64",
      "userId": "16514347430543116262"
     },
     "user_tz": -330
    },
    "id": "ZxkeQCb_dt89",
    "outputId": "249403c4-379e-4acb-fbe7-e04b0559df01"
   },
   "outputs": [
    {
     "data": {
      "text/html": [
       "\n",
       "  <div id=\"df-f7f892fe-2503-4869-add8-cb0d667ad66e\">\n",
       "    <div class=\"colab-df-container\">\n",
       "      <div>\n",
       "<style scoped>\n",
       "    .dataframe tbody tr th:only-of-type {\n",
       "        vertical-align: middle;\n",
       "    }\n",
       "\n",
       "    .dataframe tbody tr th {\n",
       "        vertical-align: top;\n",
       "    }\n",
       "\n",
       "    .dataframe thead th {\n",
       "        text-align: right;\n",
       "    }\n",
       "</style>\n",
       "<table border=\"1\" class=\"dataframe\">\n",
       "  <thead>\n",
       "    <tr style=\"text-align: right;\">\n",
       "      <th></th>\n",
       "      <th>director_name</th>\n",
       "      <th>actor_1_name</th>\n",
       "      <th>actor_2_name</th>\n",
       "      <th>actor_3_name</th>\n",
       "      <th>genres</th>\n",
       "      <th>movie_title</th>\n",
       "      <th>comb</th>\n",
       "    </tr>\n",
       "  </thead>\n",
       "  <tbody>\n",
       "    <tr>\n",
       "      <th>0</th>\n",
       "      <td>Nicolas Pesce</td>\n",
       "      <td>Andrea Riseborough</td>\n",
       "      <td>Demián Bichir</td>\n",
       "      <td>John Cho</td>\n",
       "      <td>Horror Mystery Thriller</td>\n",
       "      <td>the grudge</td>\n",
       "      <td>Andrea Riseborough Demián Bichir John Cho Nico...</td>\n",
       "    </tr>\n",
       "    <tr>\n",
       "      <th>1</th>\n",
       "      <td>William Eubank</td>\n",
       "      <td>Kristen Stewart</td>\n",
       "      <td>Vincent Cassel</td>\n",
       "      <td>Jessica Henwick</td>\n",
       "      <td>Action Horror Science Fiction Thriller</td>\n",
       "      <td>underwater</td>\n",
       "      <td>Kristen Stewart Vincent Cassel Jessica Henwick...</td>\n",
       "    </tr>\n",
       "    <tr>\n",
       "      <th>2</th>\n",
       "      <td>Miguel Arteta</td>\n",
       "      <td>Tiffany Haddish</td>\n",
       "      <td>Rose Byrne</td>\n",
       "      <td>Salma Hayek</td>\n",
       "      <td>Comedy</td>\n",
       "      <td>like a boss</td>\n",
       "      <td>Tiffany Haddish Rose Byrne Salma Hayek Miguel ...</td>\n",
       "    </tr>\n",
       "    <tr>\n",
       "      <th>3</th>\n",
       "      <td>Jon Avnet</td>\n",
       "      <td>Richard Gere</td>\n",
       "      <td>Peter Dinklage</td>\n",
       "      <td>Walton Goggins</td>\n",
       "      <td>Drama</td>\n",
       "      <td>three christs</td>\n",
       "      <td>Richard Gere Peter Dinklage Walton Goggins Jon...</td>\n",
       "    </tr>\n",
       "    <tr>\n",
       "      <th>4</th>\n",
       "      <td>Anthony Jerjen</td>\n",
       "      <td>Josh Hartnett</td>\n",
       "      <td>Margarita Levieva</td>\n",
       "      <td>Chandler Riggs</td>\n",
       "      <td>Crime Thriller Drama</td>\n",
       "      <td>inherit the viper</td>\n",
       "      <td>Josh Hartnett Margarita Levieva Chandler Riggs...</td>\n",
       "    </tr>\n",
       "    <tr>\n",
       "      <th>...</th>\n",
       "      <td>...</td>\n",
       "      <td>...</td>\n",
       "      <td>...</td>\n",
       "      <td>...</td>\n",
       "      <td>...</td>\n",
       "      <td>...</td>\n",
       "      <td>...</td>\n",
       "    </tr>\n",
       "    <tr>\n",
       "      <th>268</th>\n",
       "      <td>Pete Docter</td>\n",
       "      <td>Jamie Foxx</td>\n",
       "      <td>Tina Fey</td>\n",
       "      <td>Graham Norton</td>\n",
       "      <td>Animation Comedy Fantasy Family</td>\n",
       "      <td>soul</td>\n",
       "      <td>Jamie Foxx Tina Fey Graham Norton Pete Docter ...</td>\n",
       "    </tr>\n",
       "    <tr>\n",
       "      <th>269</th>\n",
       "      <td>Robert Rodriguez</td>\n",
       "      <td>Priyanka Chopra Jonas</td>\n",
       "      <td>Pedro Pascal</td>\n",
       "      <td>YaYa Gosselin</td>\n",
       "      <td>Action Fantasy Family Comedy</td>\n",
       "      <td>we can be heroes</td>\n",
       "      <td>Priyanka Chopra Jonas Pedro Pascal YaYa Gossel...</td>\n",
       "    </tr>\n",
       "    <tr>\n",
       "      <th>271</th>\n",
       "      <td>Regina King</td>\n",
       "      <td>Kingsley Ben-Adir</td>\n",
       "      <td>Eli Goree</td>\n",
       "      <td>Aldis Hodge</td>\n",
       "      <td>Drama</td>\n",
       "      <td>one night in miami...</td>\n",
       "      <td>Kingsley Ben-Adir Eli Goree Aldis Hodge Regina...</td>\n",
       "    </tr>\n",
       "    <tr>\n",
       "      <th>272</th>\n",
       "      <td>Emerald Fennell</td>\n",
       "      <td>Carey Mulligan</td>\n",
       "      <td>Bo Burnham</td>\n",
       "      <td>Alison Brie</td>\n",
       "      <td>Thriller Crime Drama</td>\n",
       "      <td>promising young woman</td>\n",
       "      <td>Carey Mulligan Bo Burnham Alison Brie Emerald ...</td>\n",
       "    </tr>\n",
       "    <tr>\n",
       "      <th>273</th>\n",
       "      <td>Kornél Mundruczó</td>\n",
       "      <td>Vanessa Kirby</td>\n",
       "      <td>Shia LaBeouf</td>\n",
       "      <td>Molly Parker</td>\n",
       "      <td>Drama</td>\n",
       "      <td>pieces of a woman</td>\n",
       "      <td>Vanessa Kirby Shia LaBeouf Molly Parker Kornél...</td>\n",
       "    </tr>\n",
       "  </tbody>\n",
       "</table>\n",
       "<p>246 rows × 7 columns</p>\n",
       "</div>\n",
       "      <button class=\"colab-df-convert\" onclick=\"convertToInteractive('df-f7f892fe-2503-4869-add8-cb0d667ad66e')\"\n",
       "              title=\"Convert this dataframe to an interactive table.\"\n",
       "              style=\"display:none;\">\n",
       "        \n",
       "  <svg xmlns=\"http://www.w3.org/2000/svg\" height=\"24px\"viewBox=\"0 0 24 24\"\n",
       "       width=\"24px\">\n",
       "    <path d=\"M0 0h24v24H0V0z\" fill=\"none\"/>\n",
       "    <path d=\"M18.56 5.44l.94 2.06.94-2.06 2.06-.94-2.06-.94-.94-2.06-.94 2.06-2.06.94zm-11 1L8.5 8.5l.94-2.06 2.06-.94-2.06-.94L8.5 2.5l-.94 2.06-2.06.94zm10 10l.94 2.06.94-2.06 2.06-.94-2.06-.94-.94-2.06-.94 2.06-2.06.94z\"/><path d=\"M17.41 7.96l-1.37-1.37c-.4-.4-.92-.59-1.43-.59-.52 0-1.04.2-1.43.59L10.3 9.45l-7.72 7.72c-.78.78-.78 2.05 0 2.83L4 21.41c.39.39.9.59 1.41.59.51 0 1.02-.2 1.41-.59l7.78-7.78 2.81-2.81c.8-.78.8-2.07 0-2.86zM5.41 20L4 18.59l7.72-7.72 1.47 1.35L5.41 20z\"/>\n",
       "  </svg>\n",
       "      </button>\n",
       "      \n",
       "  <style>\n",
       "    .colab-df-container {\n",
       "      display:flex;\n",
       "      flex-wrap:wrap;\n",
       "      gap: 12px;\n",
       "    }\n",
       "\n",
       "    .colab-df-convert {\n",
       "      background-color: #E8F0FE;\n",
       "      border: none;\n",
       "      border-radius: 50%;\n",
       "      cursor: pointer;\n",
       "      display: none;\n",
       "      fill: #1967D2;\n",
       "      height: 32px;\n",
       "      padding: 0 0 0 0;\n",
       "      width: 32px;\n",
       "    }\n",
       "\n",
       "    .colab-df-convert:hover {\n",
       "      background-color: #E2EBFA;\n",
       "      box-shadow: 0px 1px 2px rgba(60, 64, 67, 0.3), 0px 1px 3px 1px rgba(60, 64, 67, 0.15);\n",
       "      fill: #174EA6;\n",
       "    }\n",
       "\n",
       "    [theme=dark] .colab-df-convert {\n",
       "      background-color: #3B4455;\n",
       "      fill: #D2E3FC;\n",
       "    }\n",
       "\n",
       "    [theme=dark] .colab-df-convert:hover {\n",
       "      background-color: #434B5C;\n",
       "      box-shadow: 0px 1px 3px 1px rgba(0, 0, 0, 0.15);\n",
       "      filter: drop-shadow(0px 1px 2px rgba(0, 0, 0, 0.3));\n",
       "      fill: #FFFFFF;\n",
       "    }\n",
       "  </style>\n",
       "\n",
       "      <script>\n",
       "        const buttonEl =\n",
       "          document.querySelector('#df-f7f892fe-2503-4869-add8-cb0d667ad66e button.colab-df-convert');\n",
       "        buttonEl.style.display =\n",
       "          google.colab.kernel.accessAllowed ? 'block' : 'none';\n",
       "\n",
       "        async function convertToInteractive(key) {\n",
       "          const element = document.querySelector('#df-f7f892fe-2503-4869-add8-cb0d667ad66e');\n",
       "          const dataTable =\n",
       "            await google.colab.kernel.invokeFunction('convertToInteractive',\n",
       "                                                     [key], {});\n",
       "          if (!dataTable) return;\n",
       "\n",
       "          const docLinkHtml = 'Like what you see? Visit the ' +\n",
       "            '<a target=\"_blank\" href=https://colab.research.google.com/notebooks/data_table.ipynb>data table notebook</a>'\n",
       "            + ' to learn more about interactive tables.';\n",
       "          element.innerHTML = '';\n",
       "          dataTable['output_type'] = 'display_data';\n",
       "          await google.colab.output.renderOutput(dataTable, element);\n",
       "          const docLink = document.createElement('div');\n",
       "          docLink.innerHTML = docLinkHtml;\n",
       "          element.appendChild(docLink);\n",
       "        }\n",
       "      </script>\n",
       "    </div>\n",
       "  </div>\n",
       "  "
      ],
      "text/plain": [
       "        director_name  ...                                               comb\n",
       "0       Nicolas Pesce  ...  Andrea Riseborough Demián Bichir John Cho Nico...\n",
       "1      William Eubank  ...  Kristen Stewart Vincent Cassel Jessica Henwick...\n",
       "2       Miguel Arteta  ...  Tiffany Haddish Rose Byrne Salma Hayek Miguel ...\n",
       "3           Jon Avnet  ...  Richard Gere Peter Dinklage Walton Goggins Jon...\n",
       "4      Anthony Jerjen  ...  Josh Hartnett Margarita Levieva Chandler Riggs...\n",
       "..                ...  ...                                                ...\n",
       "268       Pete Docter  ...  Jamie Foxx Tina Fey Graham Norton Pete Docter ...\n",
       "269  Robert Rodriguez  ...  Priyanka Chopra Jonas Pedro Pascal YaYa Gossel...\n",
       "271       Regina King  ...  Kingsley Ben-Adir Eli Goree Aldis Hodge Regina...\n",
       "272   Emerald Fennell  ...  Carey Mulligan Bo Burnham Alison Brie Emerald ...\n",
       "273  Kornél Mundruczó  ...  Vanessa Kirby Shia LaBeouf Molly Parker Kornél...\n",
       "\n",
       "[246 rows x 7 columns]"
      ]
     },
     "execution_count": 59,
     "metadata": {},
     "output_type": "execute_result"
    }
   ],
   "source": [
    "new_df20"
   ]
  },
  {
   "cell_type": "code",
   "execution_count": 60,
   "metadata": {
    "colab": {
     "base_uri": "https://localhost:8080/",
     "height": 973
    },
    "executionInfo": {
     "elapsed": 1089,
     "status": "ok",
     "timestamp": 1645584374600,
     "user": {
      "displayName": "sarthak nikure",
      "photoUrl": "https://lh3.googleusercontent.com/a/default-user=s64",
      "userId": "16514347430543116262"
     },
     "user_tz": -330
    },
    "id": "sZ5TVwLedzSB",
    "outputId": "83b14ca8-1346-4ff2-f87e-cddadc8529a6"
   },
   "outputs": [
    {
     "data": {
      "text/html": [
       "\n",
       "  <div id=\"df-c208638f-a565-4627-955d-7ccd76980794\">\n",
       "    <div class=\"colab-df-container\">\n",
       "      <div>\n",
       "<style scoped>\n",
       "    .dataframe tbody tr th:only-of-type {\n",
       "        vertical-align: middle;\n",
       "    }\n",
       "\n",
       "    .dataframe tbody tr th {\n",
       "        vertical-align: top;\n",
       "    }\n",
       "\n",
       "    .dataframe thead th {\n",
       "        text-align: right;\n",
       "    }\n",
       "</style>\n",
       "<table border=\"1\" class=\"dataframe\">\n",
       "  <thead>\n",
       "    <tr style=\"text-align: right;\">\n",
       "      <th></th>\n",
       "      <th>director_name</th>\n",
       "      <th>actor_1_name</th>\n",
       "      <th>actor_2_name</th>\n",
       "      <th>actor_3_name</th>\n",
       "      <th>genres</th>\n",
       "      <th>movie_title</th>\n",
       "      <th>comb</th>\n",
       "    </tr>\n",
       "  </thead>\n",
       "  <tbody>\n",
       "    <tr>\n",
       "      <th>0</th>\n",
       "      <td>James Cameron</td>\n",
       "      <td>CCH Pounder</td>\n",
       "      <td>Joel David Moore</td>\n",
       "      <td>Wes Studi</td>\n",
       "      <td>Action Adventure Fantasy Sci-Fi</td>\n",
       "      <td>avatar</td>\n",
       "      <td>CCH Pounder Joel David Moore Wes Studi James C...</td>\n",
       "    </tr>\n",
       "    <tr>\n",
       "      <th>1</th>\n",
       "      <td>Gore Verbinski</td>\n",
       "      <td>Johnny Depp</td>\n",
       "      <td>Orlando Bloom</td>\n",
       "      <td>Jack Davenport</td>\n",
       "      <td>Action Adventure Fantasy</td>\n",
       "      <td>pirates of the caribbean: at world's end</td>\n",
       "      <td>Johnny Depp Orlando Bloom Jack Davenport Gore ...</td>\n",
       "    </tr>\n",
       "    <tr>\n",
       "      <th>2</th>\n",
       "      <td>Sam Mendes</td>\n",
       "      <td>Christoph Waltz</td>\n",
       "      <td>Rory Kinnear</td>\n",
       "      <td>Stephanie Sigman</td>\n",
       "      <td>Action Adventure Thriller</td>\n",
       "      <td>spectre</td>\n",
       "      <td>Christoph Waltz Rory Kinnear Stephanie Sigman ...</td>\n",
       "    </tr>\n",
       "    <tr>\n",
       "      <th>3</th>\n",
       "      <td>Christopher Nolan</td>\n",
       "      <td>Tom Hardy</td>\n",
       "      <td>Christian Bale</td>\n",
       "      <td>Joseph Gordon-Levitt</td>\n",
       "      <td>Action Thriller</td>\n",
       "      <td>the dark knight rises</td>\n",
       "      <td>Tom Hardy Christian Bale Joseph Gordon-Levitt ...</td>\n",
       "    </tr>\n",
       "    <tr>\n",
       "      <th>4</th>\n",
       "      <td>Doug Walker</td>\n",
       "      <td>Doug Walker</td>\n",
       "      <td>Rob Walker</td>\n",
       "      <td>unknown</td>\n",
       "      <td>Documentary</td>\n",
       "      <td>star wars: episode vii - the force awakens    ...</td>\n",
       "      <td>Doug Walker Rob Walker unknown Doug Walker Doc...</td>\n",
       "    </tr>\n",
       "    <tr>\n",
       "      <th>...</th>\n",
       "      <td>...</td>\n",
       "      <td>...</td>\n",
       "      <td>...</td>\n",
       "      <td>...</td>\n",
       "      <td>...</td>\n",
       "      <td>...</td>\n",
       "      <td>...</td>\n",
       "    </tr>\n",
       "    <tr>\n",
       "      <th>5871</th>\n",
       "      <td>Nick Bruno, Troy Quane</td>\n",
       "      <td>Will Smith</td>\n",
       "      <td>Tom Holland</td>\n",
       "      <td>Rashida Jones</td>\n",
       "      <td>Animation Action Adventure Comedy Family</td>\n",
       "      <td>spies in disguise</td>\n",
       "      <td>Will Smith Tom Holland Rashida Jones Nick Brun...</td>\n",
       "    </tr>\n",
       "    <tr>\n",
       "      <th>5872</th>\n",
       "      <td>Greta Gerwig</td>\n",
       "      <td>Saoirse Ronan</td>\n",
       "      <td>Emma Watson</td>\n",
       "      <td>Florence Pugh</td>\n",
       "      <td>Drama Romance</td>\n",
       "      <td>little women</td>\n",
       "      <td>Saoirse Ronan Emma Watson Florence Pugh Greta ...</td>\n",
       "    </tr>\n",
       "    <tr>\n",
       "      <th>5873</th>\n",
       "      <td>Sam Mendes</td>\n",
       "      <td>George MacKay</td>\n",
       "      <td>Dean-Charles Chapman</td>\n",
       "      <td>Mark Strong</td>\n",
       "      <td>War Drama Action Thriller</td>\n",
       "      <td>1917</td>\n",
       "      <td>George MacKay Dean-Charles Chapman Mark Strong...</td>\n",
       "    </tr>\n",
       "    <tr>\n",
       "      <th>5874</th>\n",
       "      <td>Destin Daniel Cretton</td>\n",
       "      <td>Michael B. Jordan</td>\n",
       "      <td>Jamie Foxx</td>\n",
       "      <td>Brie Larson</td>\n",
       "      <td>Drama Crime History</td>\n",
       "      <td>just mercy</td>\n",
       "      <td>Michael B. Jordan Jamie Foxx Brie Larson Desti...</td>\n",
       "    </tr>\n",
       "    <tr>\n",
       "      <th>5875</th>\n",
       "      <td>Chinonye Chukwu</td>\n",
       "      <td>Alfre Woodard</td>\n",
       "      <td>Wendell Pierce</td>\n",
       "      <td>Aldis Hodge</td>\n",
       "      <td>Drama</td>\n",
       "      <td>clemency</td>\n",
       "      <td>Alfre Woodard Wendell Pierce Aldis Hodge Chino...</td>\n",
       "    </tr>\n",
       "  </tbody>\n",
       "</table>\n",
       "<p>5876 rows × 7 columns</p>\n",
       "</div>\n",
       "      <button class=\"colab-df-convert\" onclick=\"convertToInteractive('df-c208638f-a565-4627-955d-7ccd76980794')\"\n",
       "              title=\"Convert this dataframe to an interactive table.\"\n",
       "              style=\"display:none;\">\n",
       "        \n",
       "  <svg xmlns=\"http://www.w3.org/2000/svg\" height=\"24px\"viewBox=\"0 0 24 24\"\n",
       "       width=\"24px\">\n",
       "    <path d=\"M0 0h24v24H0V0z\" fill=\"none\"/>\n",
       "    <path d=\"M18.56 5.44l.94 2.06.94-2.06 2.06-.94-2.06-.94-.94-2.06-.94 2.06-2.06.94zm-11 1L8.5 8.5l.94-2.06 2.06-.94-2.06-.94L8.5 2.5l-.94 2.06-2.06.94zm10 10l.94 2.06.94-2.06 2.06-.94-2.06-.94-.94-2.06-.94 2.06-2.06.94z\"/><path d=\"M17.41 7.96l-1.37-1.37c-.4-.4-.92-.59-1.43-.59-.52 0-1.04.2-1.43.59L10.3 9.45l-7.72 7.72c-.78.78-.78 2.05 0 2.83L4 21.41c.39.39.9.59 1.41.59.51 0 1.02-.2 1.41-.59l7.78-7.78 2.81-2.81c.8-.78.8-2.07 0-2.86zM5.41 20L4 18.59l7.72-7.72 1.47 1.35L5.41 20z\"/>\n",
       "  </svg>\n",
       "      </button>\n",
       "      \n",
       "  <style>\n",
       "    .colab-df-container {\n",
       "      display:flex;\n",
       "      flex-wrap:wrap;\n",
       "      gap: 12px;\n",
       "    }\n",
       "\n",
       "    .colab-df-convert {\n",
       "      background-color: #E8F0FE;\n",
       "      border: none;\n",
       "      border-radius: 50%;\n",
       "      cursor: pointer;\n",
       "      display: none;\n",
       "      fill: #1967D2;\n",
       "      height: 32px;\n",
       "      padding: 0 0 0 0;\n",
       "      width: 32px;\n",
       "    }\n",
       "\n",
       "    .colab-df-convert:hover {\n",
       "      background-color: #E2EBFA;\n",
       "      box-shadow: 0px 1px 2px rgba(60, 64, 67, 0.3), 0px 1px 3px 1px rgba(60, 64, 67, 0.15);\n",
       "      fill: #174EA6;\n",
       "    }\n",
       "\n",
       "    [theme=dark] .colab-df-convert {\n",
       "      background-color: #3B4455;\n",
       "      fill: #D2E3FC;\n",
       "    }\n",
       "\n",
       "    [theme=dark] .colab-df-convert:hover {\n",
       "      background-color: #434B5C;\n",
       "      box-shadow: 0px 1px 3px 1px rgba(0, 0, 0, 0.15);\n",
       "      filter: drop-shadow(0px 1px 2px rgba(0, 0, 0, 0.3));\n",
       "      fill: #FFFFFF;\n",
       "    }\n",
       "  </style>\n",
       "\n",
       "      <script>\n",
       "        const buttonEl =\n",
       "          document.querySelector('#df-c208638f-a565-4627-955d-7ccd76980794 button.colab-df-convert');\n",
       "        buttonEl.style.display =\n",
       "          google.colab.kernel.accessAllowed ? 'block' : 'none';\n",
       "\n",
       "        async function convertToInteractive(key) {\n",
       "          const element = document.querySelector('#df-c208638f-a565-4627-955d-7ccd76980794');\n",
       "          const dataTable =\n",
       "            await google.colab.kernel.invokeFunction('convertToInteractive',\n",
       "                                                     [key], {});\n",
       "          if (!dataTable) return;\n",
       "\n",
       "          const docLinkHtml = 'Like what you see? Visit the ' +\n",
       "            '<a target=\"_blank\" href=https://colab.research.google.com/notebooks/data_table.ipynb>data table notebook</a>'\n",
       "            + ' to learn more about interactive tables.';\n",
       "          element.innerHTML = '';\n",
       "          dataTable['output_type'] = 'display_data';\n",
       "          await google.colab.output.renderOutput(dataTable, element);\n",
       "          const docLink = document.createElement('div');\n",
       "          docLink.innerHTML = docLinkHtml;\n",
       "          element.appendChild(docLink);\n",
       "        }\n",
       "      </script>\n",
       "    </div>\n",
       "  </div>\n",
       "  "
      ],
      "text/plain": [
       "               director_name  ...                                               comb\n",
       "0              James Cameron  ...  CCH Pounder Joel David Moore Wes Studi James C...\n",
       "1             Gore Verbinski  ...  Johnny Depp Orlando Bloom Jack Davenport Gore ...\n",
       "2                 Sam Mendes  ...  Christoph Waltz Rory Kinnear Stephanie Sigman ...\n",
       "3          Christopher Nolan  ...  Tom Hardy Christian Bale Joseph Gordon-Levitt ...\n",
       "4                Doug Walker  ...  Doug Walker Rob Walker unknown Doug Walker Doc...\n",
       "...                      ...  ...                                                ...\n",
       "5871  Nick Bruno, Troy Quane  ...  Will Smith Tom Holland Rashida Jones Nick Brun...\n",
       "5872            Greta Gerwig  ...  Saoirse Ronan Emma Watson Florence Pugh Greta ...\n",
       "5873              Sam Mendes  ...  George MacKay Dean-Charles Chapman Mark Strong...\n",
       "5874   Destin Daniel Cretton  ...  Michael B. Jordan Jamie Foxx Brie Larson Desti...\n",
       "5875         Chinonye Chukwu  ...  Alfre Woodard Wendell Pierce Aldis Hodge Chino...\n",
       "\n",
       "[5876 rows x 7 columns]"
      ]
     },
     "execution_count": 60,
     "metadata": {},
     "output_type": "execute_result"
    }
   ],
   "source": [
    "old_df = pd.read_csv('final_data.csv')\n",
    "old_df"
   ]
  },
  {
   "cell_type": "code",
   "execution_count": 61,
   "metadata": {
    "executionInfo": {
     "elapsed": 413,
     "status": "ok",
     "timestamp": 1645584446046,
     "user": {
      "displayName": "sarthak nikure",
      "photoUrl": "https://lh3.googleusercontent.com/a/default-user=s64",
      "userId": "16514347430543116262"
     },
     "user_tz": -330
    },
    "id": "JMkWAhMZeNSM"
   },
   "outputs": [],
   "source": [
    "final_df = old_df.append(new_df20,ignore_index=True)"
   ]
  },
  {
   "cell_type": "code",
   "execution_count": 62,
   "metadata": {
    "colab": {
     "base_uri": "https://localhost:8080/",
     "height": 956
    },
    "executionInfo": {
     "elapsed": 393,
     "status": "ok",
     "timestamp": 1645584454533,
     "user": {
      "displayName": "sarthak nikure",
      "photoUrl": "https://lh3.googleusercontent.com/a/default-user=s64",
      "userId": "16514347430543116262"
     },
     "user_tz": -330
    },
    "id": "72hpq-N1ee5K",
    "outputId": "ea8c5f6d-2c57-4f9d-92f6-c406b7ee3dec"
   },
   "outputs": [
    {
     "data": {
      "text/html": [
       "\n",
       "  <div id=\"df-78e2a797-1f53-4b1f-a18c-09ee7292564e\">\n",
       "    <div class=\"colab-df-container\">\n",
       "      <div>\n",
       "<style scoped>\n",
       "    .dataframe tbody tr th:only-of-type {\n",
       "        vertical-align: middle;\n",
       "    }\n",
       "\n",
       "    .dataframe tbody tr th {\n",
       "        vertical-align: top;\n",
       "    }\n",
       "\n",
       "    .dataframe thead th {\n",
       "        text-align: right;\n",
       "    }\n",
       "</style>\n",
       "<table border=\"1\" class=\"dataframe\">\n",
       "  <thead>\n",
       "    <tr style=\"text-align: right;\">\n",
       "      <th></th>\n",
       "      <th>director_name</th>\n",
       "      <th>actor_1_name</th>\n",
       "      <th>actor_2_name</th>\n",
       "      <th>actor_3_name</th>\n",
       "      <th>genres</th>\n",
       "      <th>movie_title</th>\n",
       "      <th>comb</th>\n",
       "    </tr>\n",
       "  </thead>\n",
       "  <tbody>\n",
       "    <tr>\n",
       "      <th>0</th>\n",
       "      <td>James Cameron</td>\n",
       "      <td>CCH Pounder</td>\n",
       "      <td>Joel David Moore</td>\n",
       "      <td>Wes Studi</td>\n",
       "      <td>Action Adventure Fantasy Sci-Fi</td>\n",
       "      <td>avatar</td>\n",
       "      <td>CCH Pounder Joel David Moore Wes Studi James C...</td>\n",
       "    </tr>\n",
       "    <tr>\n",
       "      <th>1</th>\n",
       "      <td>Gore Verbinski</td>\n",
       "      <td>Johnny Depp</td>\n",
       "      <td>Orlando Bloom</td>\n",
       "      <td>Jack Davenport</td>\n",
       "      <td>Action Adventure Fantasy</td>\n",
       "      <td>pirates of the caribbean: at world's end</td>\n",
       "      <td>Johnny Depp Orlando Bloom Jack Davenport Gore ...</td>\n",
       "    </tr>\n",
       "    <tr>\n",
       "      <th>2</th>\n",
       "      <td>Sam Mendes</td>\n",
       "      <td>Christoph Waltz</td>\n",
       "      <td>Rory Kinnear</td>\n",
       "      <td>Stephanie Sigman</td>\n",
       "      <td>Action Adventure Thriller</td>\n",
       "      <td>spectre</td>\n",
       "      <td>Christoph Waltz Rory Kinnear Stephanie Sigman ...</td>\n",
       "    </tr>\n",
       "    <tr>\n",
       "      <th>3</th>\n",
       "      <td>Christopher Nolan</td>\n",
       "      <td>Tom Hardy</td>\n",
       "      <td>Christian Bale</td>\n",
       "      <td>Joseph Gordon-Levitt</td>\n",
       "      <td>Action Thriller</td>\n",
       "      <td>the dark knight rises</td>\n",
       "      <td>Tom Hardy Christian Bale Joseph Gordon-Levitt ...</td>\n",
       "    </tr>\n",
       "    <tr>\n",
       "      <th>4</th>\n",
       "      <td>Doug Walker</td>\n",
       "      <td>Doug Walker</td>\n",
       "      <td>Rob Walker</td>\n",
       "      <td>unknown</td>\n",
       "      <td>Documentary</td>\n",
       "      <td>star wars: episode vii - the force awakens    ...</td>\n",
       "      <td>Doug Walker Rob Walker unknown Doug Walker Doc...</td>\n",
       "    </tr>\n",
       "    <tr>\n",
       "      <th>...</th>\n",
       "      <td>...</td>\n",
       "      <td>...</td>\n",
       "      <td>...</td>\n",
       "      <td>...</td>\n",
       "      <td>...</td>\n",
       "      <td>...</td>\n",
       "      <td>...</td>\n",
       "    </tr>\n",
       "    <tr>\n",
       "      <th>6117</th>\n",
       "      <td>Pete Docter</td>\n",
       "      <td>Jamie Foxx</td>\n",
       "      <td>Tina Fey</td>\n",
       "      <td>Graham Norton</td>\n",
       "      <td>Animation Comedy Fantasy Family</td>\n",
       "      <td>soul</td>\n",
       "      <td>Jamie Foxx Tina Fey Graham Norton Pete Docter ...</td>\n",
       "    </tr>\n",
       "    <tr>\n",
       "      <th>6118</th>\n",
       "      <td>Robert Rodriguez</td>\n",
       "      <td>Priyanka Chopra Jonas</td>\n",
       "      <td>Pedro Pascal</td>\n",
       "      <td>YaYa Gosselin</td>\n",
       "      <td>Action Fantasy Family Comedy</td>\n",
       "      <td>we can be heroes</td>\n",
       "      <td>Priyanka Chopra Jonas Pedro Pascal YaYa Gossel...</td>\n",
       "    </tr>\n",
       "    <tr>\n",
       "      <th>6119</th>\n",
       "      <td>Regina King</td>\n",
       "      <td>Kingsley Ben-Adir</td>\n",
       "      <td>Eli Goree</td>\n",
       "      <td>Aldis Hodge</td>\n",
       "      <td>Drama</td>\n",
       "      <td>one night in miami...</td>\n",
       "      <td>Kingsley Ben-Adir Eli Goree Aldis Hodge Regina...</td>\n",
       "    </tr>\n",
       "    <tr>\n",
       "      <th>6120</th>\n",
       "      <td>Emerald Fennell</td>\n",
       "      <td>Carey Mulligan</td>\n",
       "      <td>Bo Burnham</td>\n",
       "      <td>Alison Brie</td>\n",
       "      <td>Thriller Crime Drama</td>\n",
       "      <td>promising young woman</td>\n",
       "      <td>Carey Mulligan Bo Burnham Alison Brie Emerald ...</td>\n",
       "    </tr>\n",
       "    <tr>\n",
       "      <th>6121</th>\n",
       "      <td>Kornél Mundruczó</td>\n",
       "      <td>Vanessa Kirby</td>\n",
       "      <td>Shia LaBeouf</td>\n",
       "      <td>Molly Parker</td>\n",
       "      <td>Drama</td>\n",
       "      <td>pieces of a woman</td>\n",
       "      <td>Vanessa Kirby Shia LaBeouf Molly Parker Kornél...</td>\n",
       "    </tr>\n",
       "  </tbody>\n",
       "</table>\n",
       "<p>6122 rows × 7 columns</p>\n",
       "</div>\n",
       "      <button class=\"colab-df-convert\" onclick=\"convertToInteractive('df-78e2a797-1f53-4b1f-a18c-09ee7292564e')\"\n",
       "              title=\"Convert this dataframe to an interactive table.\"\n",
       "              style=\"display:none;\">\n",
       "        \n",
       "  <svg xmlns=\"http://www.w3.org/2000/svg\" height=\"24px\"viewBox=\"0 0 24 24\"\n",
       "       width=\"24px\">\n",
       "    <path d=\"M0 0h24v24H0V0z\" fill=\"none\"/>\n",
       "    <path d=\"M18.56 5.44l.94 2.06.94-2.06 2.06-.94-2.06-.94-.94-2.06-.94 2.06-2.06.94zm-11 1L8.5 8.5l.94-2.06 2.06-.94-2.06-.94L8.5 2.5l-.94 2.06-2.06.94zm10 10l.94 2.06.94-2.06 2.06-.94-2.06-.94-.94-2.06-.94 2.06-2.06.94z\"/><path d=\"M17.41 7.96l-1.37-1.37c-.4-.4-.92-.59-1.43-.59-.52 0-1.04.2-1.43.59L10.3 9.45l-7.72 7.72c-.78.78-.78 2.05 0 2.83L4 21.41c.39.39.9.59 1.41.59.51 0 1.02-.2 1.41-.59l7.78-7.78 2.81-2.81c.8-.78.8-2.07 0-2.86zM5.41 20L4 18.59l7.72-7.72 1.47 1.35L5.41 20z\"/>\n",
       "  </svg>\n",
       "      </button>\n",
       "      \n",
       "  <style>\n",
       "    .colab-df-container {\n",
       "      display:flex;\n",
       "      flex-wrap:wrap;\n",
       "      gap: 12px;\n",
       "    }\n",
       "\n",
       "    .colab-df-convert {\n",
       "      background-color: #E8F0FE;\n",
       "      border: none;\n",
       "      border-radius: 50%;\n",
       "      cursor: pointer;\n",
       "      display: none;\n",
       "      fill: #1967D2;\n",
       "      height: 32px;\n",
       "      padding: 0 0 0 0;\n",
       "      width: 32px;\n",
       "    }\n",
       "\n",
       "    .colab-df-convert:hover {\n",
       "      background-color: #E2EBFA;\n",
       "      box-shadow: 0px 1px 2px rgba(60, 64, 67, 0.3), 0px 1px 3px 1px rgba(60, 64, 67, 0.15);\n",
       "      fill: #174EA6;\n",
       "    }\n",
       "\n",
       "    [theme=dark] .colab-df-convert {\n",
       "      background-color: #3B4455;\n",
       "      fill: #D2E3FC;\n",
       "    }\n",
       "\n",
       "    [theme=dark] .colab-df-convert:hover {\n",
       "      background-color: #434B5C;\n",
       "      box-shadow: 0px 1px 3px 1px rgba(0, 0, 0, 0.15);\n",
       "      filter: drop-shadow(0px 1px 2px rgba(0, 0, 0, 0.3));\n",
       "      fill: #FFFFFF;\n",
       "    }\n",
       "  </style>\n",
       "\n",
       "      <script>\n",
       "        const buttonEl =\n",
       "          document.querySelector('#df-78e2a797-1f53-4b1f-a18c-09ee7292564e button.colab-df-convert');\n",
       "        buttonEl.style.display =\n",
       "          google.colab.kernel.accessAllowed ? 'block' : 'none';\n",
       "\n",
       "        async function convertToInteractive(key) {\n",
       "          const element = document.querySelector('#df-78e2a797-1f53-4b1f-a18c-09ee7292564e');\n",
       "          const dataTable =\n",
       "            await google.colab.kernel.invokeFunction('convertToInteractive',\n",
       "                                                     [key], {});\n",
       "          if (!dataTable) return;\n",
       "\n",
       "          const docLinkHtml = 'Like what you see? Visit the ' +\n",
       "            '<a target=\"_blank\" href=https://colab.research.google.com/notebooks/data_table.ipynb>data table notebook</a>'\n",
       "            + ' to learn more about interactive tables.';\n",
       "          element.innerHTML = '';\n",
       "          dataTable['output_type'] = 'display_data';\n",
       "          await google.colab.output.renderOutput(dataTable, element);\n",
       "          const docLink = document.createElement('div');\n",
       "          docLink.innerHTML = docLinkHtml;\n",
       "          element.appendChild(docLink);\n",
       "        }\n",
       "      </script>\n",
       "    </div>\n",
       "  </div>\n",
       "  "
      ],
      "text/plain": [
       "          director_name  ...                                               comb\n",
       "0         James Cameron  ...  CCH Pounder Joel David Moore Wes Studi James C...\n",
       "1        Gore Verbinski  ...  Johnny Depp Orlando Bloom Jack Davenport Gore ...\n",
       "2            Sam Mendes  ...  Christoph Waltz Rory Kinnear Stephanie Sigman ...\n",
       "3     Christopher Nolan  ...  Tom Hardy Christian Bale Joseph Gordon-Levitt ...\n",
       "4           Doug Walker  ...  Doug Walker Rob Walker unknown Doug Walker Doc...\n",
       "...                 ...  ...                                                ...\n",
       "6117        Pete Docter  ...  Jamie Foxx Tina Fey Graham Norton Pete Docter ...\n",
       "6118   Robert Rodriguez  ...  Priyanka Chopra Jonas Pedro Pascal YaYa Gossel...\n",
       "6119        Regina King  ...  Kingsley Ben-Adir Eli Goree Aldis Hodge Regina...\n",
       "6120    Emerald Fennell  ...  Carey Mulligan Bo Burnham Alison Brie Emerald ...\n",
       "6121   Kornél Mundruczó  ...  Vanessa Kirby Shia LaBeouf Molly Parker Kornél...\n",
       "\n",
       "[6122 rows x 7 columns]"
      ]
     },
     "execution_count": 62,
     "metadata": {},
     "output_type": "execute_result"
    }
   ],
   "source": [
    "final_df"
   ]
  },
  {
   "cell_type": "code",
   "execution_count": 63,
   "metadata": {
    "executionInfo": {
     "elapsed": 385,
     "status": "ok",
     "timestamp": 1645584522952,
     "user": {
      "displayName": "sarthak nikure",
      "photoUrl": "https://lh3.googleusercontent.com/a/default-user=s64",
      "userId": "16514347430543116262"
     },
     "user_tz": -330
    },
    "id": "YIpxozJYegs3"
   },
   "outputs": [],
   "source": [
    "final_df.to_csv('main_data.csv', index=False)"
   ]
  },
  {
   "cell_type": "code",
   "execution_count": null,
   "metadata": {
    "id": "DTxmryM7exqy"
   },
   "outputs": [],
   "source": []
  }
 ],
 "metadata": {
  "colab": {
   "authorship_tag": "ABX9TyM5TKlvTeoMkUHgO5PYj4Mf",
   "collapsed_sections": [],
   "mount_file_id": "1OSVG1LbHz9BRK0k3HVhEvmkQDJ7f4p7h",
   "name": "preprocessing_4.ipynb",
   "provenance": []
  },
  "kernelspec": {
   "display_name": "Python 3",
   "language": "python",
   "name": "python3"
  },
  "language_info": {
   "codemirror_mode": {
    "name": "ipython",
    "version": 3
   },
   "file_extension": ".py",
   "mimetype": "text/x-python",
   "name": "python",
   "nbconvert_exporter": "python",
   "pygments_lexer": "ipython3",
   "version": "3.8.3"
  }
 },
 "nbformat": 4,
 "nbformat_minor": 1
}
