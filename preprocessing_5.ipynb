{
 "cells": [
  {
   "cell_type": "markdown",
   "metadata": {
    "id": "PQGl11sE8FIR"
   },
   "source": [
    "## Extracting features of 2021 movies from Wikipedia"
   ]
  },
  {
   "cell_type": "code",
   "execution_count": 1,
   "metadata": {
    "executionInfo": {
     "elapsed": 426,
     "status": "ok",
     "timestamp": 1646380903018,
     "user": {
      "displayName": "sarthak nikure",
      "photoUrl": "https://lh3.googleusercontent.com/a/default-user=s64",
      "userId": "16514347430543116262"
     },
     "user_tz": -330
    },
    "id": "MVGZ_h1M8B87"
   },
   "outputs": [],
   "source": [
    "import pandas as pd\n",
    "import numpy as np\n",
    "import requests\n",
    "import bs4 as bs\n",
    "import urllib.request"
   ]
  },
  {
   "cell_type": "code",
   "execution_count": 2,
   "metadata": {
    "executionInfo": {
     "elapsed": 9,
     "status": "ok",
     "timestamp": 1646380968067,
     "user": {
      "displayName": "sarthak nikure",
      "photoUrl": "https://lh3.googleusercontent.com/a/default-user=s64",
      "userId": "16514347430543116262"
     },
     "user_tz": -330
    },
    "id": "-KgTv0bO8raW"
   },
   "outputs": [],
   "source": [
    "link = \"https://en.wikipedia.org/wiki/List_of_American_films_of_2021\""
   ]
  },
  {
   "cell_type": "code",
   "execution_count": 3,
   "metadata": {
    "executionInfo": {
     "elapsed": 659,
     "status": "ok",
     "timestamp": 1646381041108,
     "user": {
      "displayName": "sarthak nikure",
      "photoUrl": "https://lh3.googleusercontent.com/a/default-user=s64",
      "userId": "16514347430543116262"
     },
     "user_tz": -330
    },
    "id": "mBpskJ8x8-NE"
   },
   "outputs": [],
   "source": [
    "source = urllib.request.urlopen(link).read()\n",
    "soup = bs.BeautifulSoup(source, 'lxml')"
   ]
  },
  {
   "cell_type": "code",
   "execution_count": 4,
   "metadata": {
    "executionInfo": {
     "elapsed": 11,
     "status": "ok",
     "timestamp": 1646381200513,
     "user": {
      "displayName": "sarthak nikure",
      "photoUrl": "https://lh3.googleusercontent.com/a/default-user=s64",
      "userId": "16514347430543116262"
     },
     "user_tz": -330
    },
    "id": "9qf06H1r9P1N"
   },
   "outputs": [],
   "source": [
    "tables = soup.find_all('table', class_='wikitable sortable')"
   ]
  },
  {
   "cell_type": "code",
   "execution_count": 5,
   "metadata": {
    "colab": {
     "base_uri": "https://localhost:8080/"
    },
    "executionInfo": {
     "elapsed": 12,
     "status": "ok",
     "timestamp": 1646381213400,
     "user": {
      "displayName": "sarthak nikure",
      "photoUrl": "https://lh3.googleusercontent.com/a/default-user=s64",
      "userId": "16514347430543116262"
     },
     "user_tz": -330
    },
    "id": "hXse-bdu928P",
    "outputId": "c182600b-8886-4546-c7b1-a6b0df221288"
   },
   "outputs": [
    {
     "data": {
      "text/plain": [
       "4"
      ]
     },
     "execution_count": 5,
     "metadata": {},
     "output_type": "execute_result"
    }
   ],
   "source": [
    "len(tables)"
   ]
  },
  {
   "cell_type": "code",
   "execution_count": 6,
   "metadata": {
    "colab": {
     "base_uri": "https://localhost:8080/"
    },
    "executionInfo": {
     "elapsed": 15,
     "status": "ok",
     "timestamp": 1646381232264,
     "user": {
      "displayName": "sarthak nikure",
      "photoUrl": "https://lh3.googleusercontent.com/a/default-user=s64",
      "userId": "16514347430543116262"
     },
     "user_tz": -330
    },
    "id": "dUgbraMh96Ai",
    "outputId": "ac83b4ae-8121-4b61-bef5-7da58f569d28"
   },
   "outputs": [
    {
     "data": {
      "text/plain": [
       "bs4.element.Tag"
      ]
     },
     "execution_count": 6,
     "metadata": {},
     "output_type": "execute_result"
    }
   ],
   "source": [
    "type(tables[0])"
   ]
  },
  {
   "cell_type": "code",
   "execution_count": 7,
   "metadata": {
    "executionInfo": {
     "elapsed": 7,
     "status": "ok",
     "timestamp": 1646381443603,
     "user": {
      "displayName": "sarthak nikure",
      "photoUrl": "https://lh3.googleusercontent.com/a/default-user=s64",
      "userId": "16514347430543116262"
     },
     "user_tz": -330
    },
    "id": "D1VeyvWw9-nJ"
   },
   "outputs": [],
   "source": [
    "df1 = pd.read_html(str(tables[0]))[0]\n",
    "df2 = pd.read_html(str(tables[1]))[0]\n",
    "df3 = pd.read_html(str(tables[2]))[0]\n",
    "df4 = pd.read_html(str(tables[3]))[0]"
   ]
  },
  {
   "cell_type": "code",
   "execution_count": 8,
   "metadata": {
    "executionInfo": {
     "elapsed": 7,
     "status": "ok",
     "timestamp": 1646381532072,
     "user": {
      "displayName": "sarthak nikure",
      "photoUrl": "https://lh3.googleusercontent.com/a/default-user=s64",
      "userId": "16514347430543116262"
     },
     "user_tz": -330
    },
    "id": "awcB9zB_-ySA"
   },
   "outputs": [],
   "source": [
    "df = df1.append(df2.append(df3.append(df4, ignore_index=True), ignore_index=True), ignore_index=True)"
   ]
  },
  {
   "cell_type": "code",
   "execution_count": 9,
   "metadata": {
    "colab": {
     "base_uri": "https://localhost:8080/",
     "height": 667
    },
    "executionInfo": {
     "elapsed": 16,
     "status": "ok",
     "timestamp": 1646381538639,
     "user": {
      "displayName": "sarthak nikure",
      "photoUrl": "https://lh3.googleusercontent.com/a/default-user=s64",
      "userId": "16514347430543116262"
     },
     "user_tz": -330
    },
    "id": "l13_E4El_H22",
    "outputId": "a1fe11e1-4633-45cb-f30b-0da010d29e49"
   },
   "outputs": [
    {
     "data": {
      "text/html": [
       "\n",
       "  <div id=\"df-63930bf3-7ef5-4dde-888f-419b3fee9554\">\n",
       "    <div class=\"colab-df-container\">\n",
       "      <div>\n",
       "<style scoped>\n",
       "    .dataframe tbody tr th:only-of-type {\n",
       "        vertical-align: middle;\n",
       "    }\n",
       "\n",
       "    .dataframe tbody tr th {\n",
       "        vertical-align: top;\n",
       "    }\n",
       "\n",
       "    .dataframe thead th {\n",
       "        text-align: right;\n",
       "    }\n",
       "</style>\n",
       "<table border=\"1\" class=\"dataframe\">\n",
       "  <thead>\n",
       "    <tr style=\"text-align: right;\">\n",
       "      <th></th>\n",
       "      <th>Opening</th>\n",
       "      <th>Opening.1</th>\n",
       "      <th>Title</th>\n",
       "      <th>Production company</th>\n",
       "      <th>Cast and crew</th>\n",
       "      <th>.mw-parser-output .tooltip-dotted{border-bottom:1px dotted;cursor:help}Ref.</th>\n",
       "      <th>Ref.</th>\n",
       "    </tr>\n",
       "  </thead>\n",
       "  <tbody>\n",
       "    <tr>\n",
       "      <th>0</th>\n",
       "      <td>JANUARY</td>\n",
       "      <td>1.0</td>\n",
       "      <td>Shadow in the Cloud</td>\n",
       "      <td>Vertical Entertainment</td>\n",
       "      <td>Roseanne Liang (director/screenplay); Max Land...</td>\n",
       "      <td>[2]</td>\n",
       "      <td>NaN</td>\n",
       "    </tr>\n",
       "    <tr>\n",
       "      <th>1</th>\n",
       "      <td>JANUARY</td>\n",
       "      <td>13.0</td>\n",
       "      <td>The White Tiger</td>\n",
       "      <td>Netflix</td>\n",
       "      <td>Ramin Bahrani (director/screenplay); Adarsh Go...</td>\n",
       "      <td>NaN</td>\n",
       "      <td>NaN</td>\n",
       "    </tr>\n",
       "    <tr>\n",
       "      <th>2</th>\n",
       "      <td>JANUARY</td>\n",
       "      <td>14.0</td>\n",
       "      <td>Locked Down</td>\n",
       "      <td>HBO Max / Warner Bros. Pictures</td>\n",
       "      <td>Doug Liman (director); Steven Knight (screenpl...</td>\n",
       "      <td>[3]</td>\n",
       "      <td>NaN</td>\n",
       "    </tr>\n",
       "    <tr>\n",
       "      <th>3</th>\n",
       "      <td>JANUARY</td>\n",
       "      <td>15.0</td>\n",
       "      <td>The Dig</td>\n",
       "      <td>Netflix / Clerkenwell Films</td>\n",
       "      <td>Simon Stone (director); Moira Buffini (screenp...</td>\n",
       "      <td>[4]</td>\n",
       "      <td>NaN</td>\n",
       "    </tr>\n",
       "    <tr>\n",
       "      <th>4</th>\n",
       "      <td>JANUARY</td>\n",
       "      <td>15.0</td>\n",
       "      <td>Outside the Wire</td>\n",
       "      <td>Netflix</td>\n",
       "      <td>Mikael Håfström (director); Rob Yescombe, Rowa...</td>\n",
       "      <td>[5]</td>\n",
       "      <td>NaN</td>\n",
       "    </tr>\n",
       "    <tr>\n",
       "      <th>...</th>\n",
       "      <td>...</td>\n",
       "      <td>...</td>\n",
       "      <td>...</td>\n",
       "      <td>...</td>\n",
       "      <td>...</td>\n",
       "      <td>...</td>\n",
       "      <td>...</td>\n",
       "    </tr>\n",
       "    <tr>\n",
       "      <th>352</th>\n",
       "      <td>DECEMBER</td>\n",
       "      <td>25.0</td>\n",
       "      <td>The Tragedy of Macbeth</td>\n",
       "      <td>Apple TV+ / A24 / IAC Films</td>\n",
       "      <td>Joel Coen (director/screenplay); Denzel Washin...</td>\n",
       "      <td>NaN</td>\n",
       "      <td>[270]</td>\n",
       "    </tr>\n",
       "    <tr>\n",
       "      <th>353</th>\n",
       "      <td>DECEMBER</td>\n",
       "      <td>25.0</td>\n",
       "      <td>A Journal for Jordan</td>\n",
       "      <td>Columbia Pictures / Escape Artists / Bron Studios</td>\n",
       "      <td>Denzel Washington (director); Virgil Williams ...</td>\n",
       "      <td>NaN</td>\n",
       "      <td>[271]</td>\n",
       "    </tr>\n",
       "    <tr>\n",
       "      <th>354</th>\n",
       "      <td>DECEMBER</td>\n",
       "      <td>25.0</td>\n",
       "      <td>American Underdog</td>\n",
       "      <td>Lionsgate</td>\n",
       "      <td>Erwin brothers (directors); Jon Erwin, David A...</td>\n",
       "      <td>NaN</td>\n",
       "      <td>[272]</td>\n",
       "    </tr>\n",
       "    <tr>\n",
       "      <th>355</th>\n",
       "      <td>DECEMBER</td>\n",
       "      <td>26.0</td>\n",
       "      <td>Memoria</td>\n",
       "      <td>Neon</td>\n",
       "      <td>Apichatpong Weerasethakul (director/acreenplay...</td>\n",
       "      <td>NaN</td>\n",
       "      <td>[273]</td>\n",
       "    </tr>\n",
       "    <tr>\n",
       "      <th>356</th>\n",
       "      <td>DECEMBER</td>\n",
       "      <td>NaN</td>\n",
       "      <td>NaN</td>\n",
       "      <td>NaN</td>\n",
       "      <td>NaN</td>\n",
       "      <td>NaN</td>\n",
       "      <td>NaN</td>\n",
       "    </tr>\n",
       "  </tbody>\n",
       "</table>\n",
       "<p>357 rows × 7 columns</p>\n",
       "</div>\n",
       "      <button class=\"colab-df-convert\" onclick=\"convertToInteractive('df-63930bf3-7ef5-4dde-888f-419b3fee9554')\"\n",
       "              title=\"Convert this dataframe to an interactive table.\"\n",
       "              style=\"display:none;\">\n",
       "        \n",
       "  <svg xmlns=\"http://www.w3.org/2000/svg\" height=\"24px\"viewBox=\"0 0 24 24\"\n",
       "       width=\"24px\">\n",
       "    <path d=\"M0 0h24v24H0V0z\" fill=\"none\"/>\n",
       "    <path d=\"M18.56 5.44l.94 2.06.94-2.06 2.06-.94-2.06-.94-.94-2.06-.94 2.06-2.06.94zm-11 1L8.5 8.5l.94-2.06 2.06-.94-2.06-.94L8.5 2.5l-.94 2.06-2.06.94zm10 10l.94 2.06.94-2.06 2.06-.94-2.06-.94-.94-2.06-.94 2.06-2.06.94z\"/><path d=\"M17.41 7.96l-1.37-1.37c-.4-.4-.92-.59-1.43-.59-.52 0-1.04.2-1.43.59L10.3 9.45l-7.72 7.72c-.78.78-.78 2.05 0 2.83L4 21.41c.39.39.9.59 1.41.59.51 0 1.02-.2 1.41-.59l7.78-7.78 2.81-2.81c.8-.78.8-2.07 0-2.86zM5.41 20L4 18.59l7.72-7.72 1.47 1.35L5.41 20z\"/>\n",
       "  </svg>\n",
       "      </button>\n",
       "      \n",
       "  <style>\n",
       "    .colab-df-container {\n",
       "      display:flex;\n",
       "      flex-wrap:wrap;\n",
       "      gap: 12px;\n",
       "    }\n",
       "\n",
       "    .colab-df-convert {\n",
       "      background-color: #E8F0FE;\n",
       "      border: none;\n",
       "      border-radius: 50%;\n",
       "      cursor: pointer;\n",
       "      display: none;\n",
       "      fill: #1967D2;\n",
       "      height: 32px;\n",
       "      padding: 0 0 0 0;\n",
       "      width: 32px;\n",
       "    }\n",
       "\n",
       "    .colab-df-convert:hover {\n",
       "      background-color: #E2EBFA;\n",
       "      box-shadow: 0px 1px 2px rgba(60, 64, 67, 0.3), 0px 1px 3px 1px rgba(60, 64, 67, 0.15);\n",
       "      fill: #174EA6;\n",
       "    }\n",
       "\n",
       "    [theme=dark] .colab-df-convert {\n",
       "      background-color: #3B4455;\n",
       "      fill: #D2E3FC;\n",
       "    }\n",
       "\n",
       "    [theme=dark] .colab-df-convert:hover {\n",
       "      background-color: #434B5C;\n",
       "      box-shadow: 0px 1px 3px 1px rgba(0, 0, 0, 0.15);\n",
       "      filter: drop-shadow(0px 1px 2px rgba(0, 0, 0, 0.3));\n",
       "      fill: #FFFFFF;\n",
       "    }\n",
       "  </style>\n",
       "\n",
       "      <script>\n",
       "        const buttonEl =\n",
       "          document.querySelector('#df-63930bf3-7ef5-4dde-888f-419b3fee9554 button.colab-df-convert');\n",
       "        buttonEl.style.display =\n",
       "          google.colab.kernel.accessAllowed ? 'block' : 'none';\n",
       "\n",
       "        async function convertToInteractive(key) {\n",
       "          const element = document.querySelector('#df-63930bf3-7ef5-4dde-888f-419b3fee9554');\n",
       "          const dataTable =\n",
       "            await google.colab.kernel.invokeFunction('convertToInteractive',\n",
       "                                                     [key], {});\n",
       "          if (!dataTable) return;\n",
       "\n",
       "          const docLinkHtml = 'Like what you see? Visit the ' +\n",
       "            '<a target=\"_blank\" href=https://colab.research.google.com/notebooks/data_table.ipynb>data table notebook</a>'\n",
       "            + ' to learn more about interactive tables.';\n",
       "          element.innerHTML = '';\n",
       "          dataTable['output_type'] = 'display_data';\n",
       "          await google.colab.output.renderOutput(dataTable, element);\n",
       "          const docLink = document.createElement('div');\n",
       "          docLink.innerHTML = docLinkHtml;\n",
       "          element.appendChild(docLink);\n",
       "        }\n",
       "      </script>\n",
       "    </div>\n",
       "  </div>\n",
       "  "
      ],
      "text/plain": [
       "      Opening  Opening.1                   Title  \\\n",
       "0     JANUARY        1.0     Shadow in the Cloud   \n",
       "1     JANUARY       13.0         The White Tiger   \n",
       "2     JANUARY       14.0             Locked Down   \n",
       "3     JANUARY       15.0                 The Dig   \n",
       "4     JANUARY       15.0        Outside the Wire   \n",
       "..        ...        ...                     ...   \n",
       "352  DECEMBER       25.0  The Tragedy of Macbeth   \n",
       "353  DECEMBER       25.0    A Journal for Jordan   \n",
       "354  DECEMBER       25.0       American Underdog   \n",
       "355  DECEMBER       26.0                 Memoria   \n",
       "356  DECEMBER        NaN                     NaN   \n",
       "\n",
       "                                    Production company  \\\n",
       "0                               Vertical Entertainment   \n",
       "1                                              Netflix   \n",
       "2                      HBO Max / Warner Bros. Pictures   \n",
       "3                          Netflix / Clerkenwell Films   \n",
       "4                                              Netflix   \n",
       "..                                                 ...   \n",
       "352                        Apple TV+ / A24 / IAC Films   \n",
       "353  Columbia Pictures / Escape Artists / Bron Studios   \n",
       "354                                          Lionsgate   \n",
       "355                                               Neon   \n",
       "356                                                NaN   \n",
       "\n",
       "                                         Cast and crew  \\\n",
       "0    Roseanne Liang (director/screenplay); Max Land...   \n",
       "1    Ramin Bahrani (director/screenplay); Adarsh Go...   \n",
       "2    Doug Liman (director); Steven Knight (screenpl...   \n",
       "3    Simon Stone (director); Moira Buffini (screenp...   \n",
       "4    Mikael Håfström (director); Rob Yescombe, Rowa...   \n",
       "..                                                 ...   \n",
       "352  Joel Coen (director/screenplay); Denzel Washin...   \n",
       "353  Denzel Washington (director); Virgil Williams ...   \n",
       "354  Erwin brothers (directors); Jon Erwin, David A...   \n",
       "355  Apichatpong Weerasethakul (director/acreenplay...   \n",
       "356                                                NaN   \n",
       "\n",
       "    .mw-parser-output .tooltip-dotted{border-bottom:1px dotted;cursor:help}Ref.  \\\n",
       "0                                                  [2]                            \n",
       "1                                                  NaN                            \n",
       "2                                                  [3]                            \n",
       "3                                                  [4]                            \n",
       "4                                                  [5]                            \n",
       "..                                                 ...                            \n",
       "352                                                NaN                            \n",
       "353                                                NaN                            \n",
       "354                                                NaN                            \n",
       "355                                                NaN                            \n",
       "356                                                NaN                            \n",
       "\n",
       "      Ref.  \n",
       "0      NaN  \n",
       "1      NaN  \n",
       "2      NaN  \n",
       "3      NaN  \n",
       "4      NaN  \n",
       "..     ...  \n",
       "352  [270]  \n",
       "353  [271]  \n",
       "354  [272]  \n",
       "355  [273]  \n",
       "356    NaN  \n",
       "\n",
       "[357 rows x 7 columns]"
      ]
     },
     "execution_count": 9,
     "metadata": {},
     "output_type": "execute_result"
    }
   ],
   "source": [
    "df"
   ]
  },
  {
   "cell_type": "code",
   "execution_count": 10,
   "metadata": {
    "executionInfo": {
     "elapsed": 411,
     "status": "ok",
     "timestamp": 1646381628738,
     "user": {
      "displayName": "sarthak nikure",
      "photoUrl": "https://lh3.googleusercontent.com/a/default-user=s64",
      "userId": "16514347430543116262"
     },
     "user_tz": -330
    },
    "id": "MQFWrqY3_Jkw"
   },
   "outputs": [],
   "source": [
    "df_2021 = df[['Title','Cast and crew']]"
   ]
  },
  {
   "cell_type": "code",
   "execution_count": 12,
   "metadata": {
    "colab": {
     "base_uri": "https://localhost:8080/",
     "height": 419
    },
    "executionInfo": {
     "elapsed": 430,
     "status": "ok",
     "timestamp": 1646381660699,
     "user": {
      "displayName": "sarthak nikure",
      "photoUrl": "https://lh3.googleusercontent.com/a/default-user=s64",
      "userId": "16514347430543116262"
     },
     "user_tz": -330
    },
    "id": "2i29xJRF_fdK",
    "outputId": "0f9cc738-941a-417f-ccb0-eb25a5eec7dd"
   },
   "outputs": [
    {
     "data": {
      "text/html": [
       "\n",
       "  <div id=\"df-5966f407-47ba-4a91-853d-31cf7fb539f1\">\n",
       "    <div class=\"colab-df-container\">\n",
       "      <div>\n",
       "<style scoped>\n",
       "    .dataframe tbody tr th:only-of-type {\n",
       "        vertical-align: middle;\n",
       "    }\n",
       "\n",
       "    .dataframe tbody tr th {\n",
       "        vertical-align: top;\n",
       "    }\n",
       "\n",
       "    .dataframe thead th {\n",
       "        text-align: right;\n",
       "    }\n",
       "</style>\n",
       "<table border=\"1\" class=\"dataframe\">\n",
       "  <thead>\n",
       "    <tr style=\"text-align: right;\">\n",
       "      <th></th>\n",
       "      <th>Title</th>\n",
       "      <th>Cast and crew</th>\n",
       "    </tr>\n",
       "  </thead>\n",
       "  <tbody>\n",
       "    <tr>\n",
       "      <th>0</th>\n",
       "      <td>Shadow in the Cloud</td>\n",
       "      <td>Roseanne Liang (director/screenplay); Max Land...</td>\n",
       "    </tr>\n",
       "    <tr>\n",
       "      <th>1</th>\n",
       "      <td>The White Tiger</td>\n",
       "      <td>Ramin Bahrani (director/screenplay); Adarsh Go...</td>\n",
       "    </tr>\n",
       "    <tr>\n",
       "      <th>2</th>\n",
       "      <td>Locked Down</td>\n",
       "      <td>Doug Liman (director); Steven Knight (screenpl...</td>\n",
       "    </tr>\n",
       "    <tr>\n",
       "      <th>3</th>\n",
       "      <td>The Dig</td>\n",
       "      <td>Simon Stone (director); Moira Buffini (screenp...</td>\n",
       "    </tr>\n",
       "    <tr>\n",
       "      <th>4</th>\n",
       "      <td>Outside the Wire</td>\n",
       "      <td>Mikael Håfström (director); Rob Yescombe, Rowa...</td>\n",
       "    </tr>\n",
       "    <tr>\n",
       "      <th>...</th>\n",
       "      <td>...</td>\n",
       "      <td>...</td>\n",
       "    </tr>\n",
       "    <tr>\n",
       "      <th>352</th>\n",
       "      <td>The Tragedy of Macbeth</td>\n",
       "      <td>Joel Coen (director/screenplay); Denzel Washin...</td>\n",
       "    </tr>\n",
       "    <tr>\n",
       "      <th>353</th>\n",
       "      <td>A Journal for Jordan</td>\n",
       "      <td>Denzel Washington (director); Virgil Williams ...</td>\n",
       "    </tr>\n",
       "    <tr>\n",
       "      <th>354</th>\n",
       "      <td>American Underdog</td>\n",
       "      <td>Erwin brothers (directors); Jon Erwin, David A...</td>\n",
       "    </tr>\n",
       "    <tr>\n",
       "      <th>355</th>\n",
       "      <td>Memoria</td>\n",
       "      <td>Apichatpong Weerasethakul (director/acreenplay...</td>\n",
       "    </tr>\n",
       "    <tr>\n",
       "      <th>356</th>\n",
       "      <td>NaN</td>\n",
       "      <td>NaN</td>\n",
       "    </tr>\n",
       "  </tbody>\n",
       "</table>\n",
       "<p>357 rows × 2 columns</p>\n",
       "</div>\n",
       "      <button class=\"colab-df-convert\" onclick=\"convertToInteractive('df-5966f407-47ba-4a91-853d-31cf7fb539f1')\"\n",
       "              title=\"Convert this dataframe to an interactive table.\"\n",
       "              style=\"display:none;\">\n",
       "        \n",
       "  <svg xmlns=\"http://www.w3.org/2000/svg\" height=\"24px\"viewBox=\"0 0 24 24\"\n",
       "       width=\"24px\">\n",
       "    <path d=\"M0 0h24v24H0V0z\" fill=\"none\"/>\n",
       "    <path d=\"M18.56 5.44l.94 2.06.94-2.06 2.06-.94-2.06-.94-.94-2.06-.94 2.06-2.06.94zm-11 1L8.5 8.5l.94-2.06 2.06-.94-2.06-.94L8.5 2.5l-.94 2.06-2.06.94zm10 10l.94 2.06.94-2.06 2.06-.94-2.06-.94-.94-2.06-.94 2.06-2.06.94z\"/><path d=\"M17.41 7.96l-1.37-1.37c-.4-.4-.92-.59-1.43-.59-.52 0-1.04.2-1.43.59L10.3 9.45l-7.72 7.72c-.78.78-.78 2.05 0 2.83L4 21.41c.39.39.9.59 1.41.59.51 0 1.02-.2 1.41-.59l7.78-7.78 2.81-2.81c.8-.78.8-2.07 0-2.86zM5.41 20L4 18.59l7.72-7.72 1.47 1.35L5.41 20z\"/>\n",
       "  </svg>\n",
       "      </button>\n",
       "      \n",
       "  <style>\n",
       "    .colab-df-container {\n",
       "      display:flex;\n",
       "      flex-wrap:wrap;\n",
       "      gap: 12px;\n",
       "    }\n",
       "\n",
       "    .colab-df-convert {\n",
       "      background-color: #E8F0FE;\n",
       "      border: none;\n",
       "      border-radius: 50%;\n",
       "      cursor: pointer;\n",
       "      display: none;\n",
       "      fill: #1967D2;\n",
       "      height: 32px;\n",
       "      padding: 0 0 0 0;\n",
       "      width: 32px;\n",
       "    }\n",
       "\n",
       "    .colab-df-convert:hover {\n",
       "      background-color: #E2EBFA;\n",
       "      box-shadow: 0px 1px 2px rgba(60, 64, 67, 0.3), 0px 1px 3px 1px rgba(60, 64, 67, 0.15);\n",
       "      fill: #174EA6;\n",
       "    }\n",
       "\n",
       "    [theme=dark] .colab-df-convert {\n",
       "      background-color: #3B4455;\n",
       "      fill: #D2E3FC;\n",
       "    }\n",
       "\n",
       "    [theme=dark] .colab-df-convert:hover {\n",
       "      background-color: #434B5C;\n",
       "      box-shadow: 0px 1px 3px 1px rgba(0, 0, 0, 0.15);\n",
       "      filter: drop-shadow(0px 1px 2px rgba(0, 0, 0, 0.3));\n",
       "      fill: #FFFFFF;\n",
       "    }\n",
       "  </style>\n",
       "\n",
       "      <script>\n",
       "        const buttonEl =\n",
       "          document.querySelector('#df-5966f407-47ba-4a91-853d-31cf7fb539f1 button.colab-df-convert');\n",
       "        buttonEl.style.display =\n",
       "          google.colab.kernel.accessAllowed ? 'block' : 'none';\n",
       "\n",
       "        async function convertToInteractive(key) {\n",
       "          const element = document.querySelector('#df-5966f407-47ba-4a91-853d-31cf7fb539f1');\n",
       "          const dataTable =\n",
       "            await google.colab.kernel.invokeFunction('convertToInteractive',\n",
       "                                                     [key], {});\n",
       "          if (!dataTable) return;\n",
       "\n",
       "          const docLinkHtml = 'Like what you see? Visit the ' +\n",
       "            '<a target=\"_blank\" href=https://colab.research.google.com/notebooks/data_table.ipynb>data table notebook</a>'\n",
       "            + ' to learn more about interactive tables.';\n",
       "          element.innerHTML = '';\n",
       "          dataTable['output_type'] = 'display_data';\n",
       "          await google.colab.output.renderOutput(dataTable, element);\n",
       "          const docLink = document.createElement('div');\n",
       "          docLink.innerHTML = docLinkHtml;\n",
       "          element.appendChild(docLink);\n",
       "        }\n",
       "      </script>\n",
       "    </div>\n",
       "  </div>\n",
       "  "
      ],
      "text/plain": [
       "                      Title                                      Cast and crew\n",
       "0       Shadow in the Cloud  Roseanne Liang (director/screenplay); Max Land...\n",
       "1           The White Tiger  Ramin Bahrani (director/screenplay); Adarsh Go...\n",
       "2               Locked Down  Doug Liman (director); Steven Knight (screenpl...\n",
       "3                   The Dig  Simon Stone (director); Moira Buffini (screenp...\n",
       "4          Outside the Wire  Mikael Håfström (director); Rob Yescombe, Rowa...\n",
       "..                      ...                                                ...\n",
       "352  The Tragedy of Macbeth  Joel Coen (director/screenplay); Denzel Washin...\n",
       "353    A Journal for Jordan  Denzel Washington (director); Virgil Williams ...\n",
       "354       American Underdog  Erwin brothers (directors); Jon Erwin, David A...\n",
       "355                 Memoria  Apichatpong Weerasethakul (director/acreenplay...\n",
       "356                     NaN                                                NaN\n",
       "\n",
       "[357 rows x 2 columns]"
      ]
     },
     "execution_count": 12,
     "metadata": {},
     "output_type": "execute_result"
    }
   ],
   "source": [
    "df_2021"
   ]
  },
  {
   "cell_type": "code",
   "execution_count": 14,
   "metadata": {
    "colab": {
     "base_uri": "https://localhost:8080/"
    },
    "executionInfo": {
     "elapsed": 4236,
     "status": "ok",
     "timestamp": 1646381866109,
     "user": {
      "displayName": "sarthak nikure",
      "photoUrl": "https://lh3.googleusercontent.com/a/default-user=s64",
      "userId": "16514347430543116262"
     },
     "user_tz": -330
    },
    "id": "RGDiFupvAWJ0",
    "outputId": "1f10411b-fd1b-4852-f827-920eb83ba48e"
   },
   "outputs": [
    {
     "name": "stdout",
     "output_type": "stream",
     "text": [
      "Collecting tmdbv3api\n",
      "  Downloading tmdbv3api-1.7.6-py2.py3-none-any.whl (17 kB)\n",
      "Requirement already satisfied: requests in /usr/local/lib/python3.7/dist-packages (from tmdbv3api) (2.23.0)\n",
      "Requirement already satisfied: urllib3!=1.25.0,!=1.25.1,<1.26,>=1.21.1 in /usr/local/lib/python3.7/dist-packages (from requests->tmdbv3api) (1.24.3)\n",
      "Requirement already satisfied: certifi>=2017.4.17 in /usr/local/lib/python3.7/dist-packages (from requests->tmdbv3api) (2021.10.8)\n",
      "Requirement already satisfied: idna<3,>=2.5 in /usr/local/lib/python3.7/dist-packages (from requests->tmdbv3api) (2.10)\n",
      "Requirement already satisfied: chardet<4,>=3.0.2 in /usr/local/lib/python3.7/dist-packages (from requests->tmdbv3api) (3.0.4)\n",
      "Installing collected packages: tmdbv3api\n",
      "Successfully installed tmdbv3api-1.7.6\n"
     ]
    }
   ],
   "source": [
    "!pip install tmdbv3api"
   ]
  },
  {
   "cell_type": "code",
   "execution_count": 15,
   "metadata": {
    "executionInfo": {
     "elapsed": 6,
     "status": "ok",
     "timestamp": 1646381869374,
     "user": {
      "displayName": "sarthak nikure",
      "photoUrl": "https://lh3.googleusercontent.com/a/default-user=s64",
      "userId": "16514347430543116262"
     },
     "user_tz": -330
    },
    "id": "0yndoGYm_jaU"
   },
   "outputs": [],
   "source": [
    "from tmdbv3api import TMDb\n",
    "import json\n",
    "import requests\n",
    "tmdb = TMDb()\n",
    "tmdb.api_key = 'bce8b94968a79cd90c7d3cbe5005203b'"
   ]
  },
  {
   "cell_type": "code",
   "execution_count": 26,
   "metadata": {
    "executionInfo": {
     "elapsed": 416,
     "status": "ok",
     "timestamp": 1646382835839,
     "user": {
      "displayName": "sarthak nikure",
      "photoUrl": "https://lh3.googleusercontent.com/a/default-user=s64",
      "userId": "16514347430543116262"
     },
     "user_tz": -330
    },
    "id": "fFSz9mYhATRn"
   },
   "outputs": [],
   "source": [
    "from tmdbv3api import Movie\n",
    "tmdb_movie = Movie()\n",
    "def get_genre(x):\n",
    "  genres = []\n",
    "  result = tmdb_movie.search(x)\n",
    "  if not result:\n",
    "    return np.NaN\n",
    "  else:\n",
    "    movie_id = result[0].id\n",
    "    response = requests.get('https://api.themoviedb.org/3/movie/{}?api_key={}'.format(movie_id, tmdb.api_key))\n",
    "    data_json = response.json()\n",
    "    if data_json['genres']:\n",
    "      genre_str = \" \"\n",
    "      for i in range(0,len(data_json['genres'])):\n",
    "        genres.append(data_json['genres'][i]['name'])\n",
    "      return genre_str.join(genres)\n",
    "    else:\n",
    "      return np.NaN"
   ]
  },
  {
   "cell_type": "code",
   "execution_count": 27,
   "metadata": {
    "colab": {
     "base_uri": "https://localhost:8080/"
    },
    "executionInfo": {
     "elapsed": 96161,
     "status": "ok",
     "timestamp": 1646382933215,
     "user": {
      "displayName": "sarthak nikure",
      "photoUrl": "https://lh3.googleusercontent.com/a/default-user=s64",
      "userId": "16514347430543116262"
     },
     "user_tz": -330
    },
    "id": "a-m1yYeSC7DO",
    "outputId": "fb40d9b7-8375-4922-d923-15473ffba371"
   },
   "outputs": [
    {
     "name": "stderr",
     "output_type": "stream",
     "text": [
      "/usr/local/lib/python3.7/dist-packages/ipykernel_launcher.py:1: SettingWithCopyWarning: \n",
      "A value is trying to be set on a copy of a slice from a DataFrame.\n",
      "Try using .loc[row_indexer,col_indexer] = value instead\n",
      "\n",
      "See the caveats in the documentation: https://pandas.pydata.org/pandas-docs/stable/user_guide/indexing.html#returning-a-view-versus-a-copy\n",
      "  \"\"\"Entry point for launching an IPython kernel.\n"
     ]
    }
   ],
   "source": [
    "df_2021['genres'] = df_2021['Title'].map(lambda x: get_genre(str(x)))"
   ]
  },
  {
   "cell_type": "code",
   "execution_count": 28,
   "metadata": {
    "colab": {
     "base_uri": "https://localhost:8080/",
     "height": 419
    },
    "executionInfo": {
     "elapsed": 522,
     "status": "ok",
     "timestamp": 1646382944895,
     "user": {
      "displayName": "sarthak nikure",
      "photoUrl": "https://lh3.googleusercontent.com/a/default-user=s64",
      "userId": "16514347430543116262"
     },
     "user_tz": -330
    },
    "id": "MCJVz8iYDLOQ",
    "outputId": "a560465d-174f-4d3b-afc4-cb9fd48a8342"
   },
   "outputs": [
    {
     "data": {
      "text/html": [
       "\n",
       "  <div id=\"df-8c4fa847-31c8-49c2-8d9b-68caa28954d1\">\n",
       "    <div class=\"colab-df-container\">\n",
       "      <div>\n",
       "<style scoped>\n",
       "    .dataframe tbody tr th:only-of-type {\n",
       "        vertical-align: middle;\n",
       "    }\n",
       "\n",
       "    .dataframe tbody tr th {\n",
       "        vertical-align: top;\n",
       "    }\n",
       "\n",
       "    .dataframe thead th {\n",
       "        text-align: right;\n",
       "    }\n",
       "</style>\n",
       "<table border=\"1\" class=\"dataframe\">\n",
       "  <thead>\n",
       "    <tr style=\"text-align: right;\">\n",
       "      <th></th>\n",
       "      <th>Title</th>\n",
       "      <th>Cast and crew</th>\n",
       "      <th>genres</th>\n",
       "    </tr>\n",
       "  </thead>\n",
       "  <tbody>\n",
       "    <tr>\n",
       "      <th>0</th>\n",
       "      <td>Shadow in the Cloud</td>\n",
       "      <td>Roseanne Liang (director/screenplay); Max Land...</td>\n",
       "      <td>Horror Action War</td>\n",
       "    </tr>\n",
       "    <tr>\n",
       "      <th>1</th>\n",
       "      <td>The White Tiger</td>\n",
       "      <td>Ramin Bahrani (director/screenplay); Adarsh Go...</td>\n",
       "      <td>Drama</td>\n",
       "    </tr>\n",
       "    <tr>\n",
       "      <th>2</th>\n",
       "      <td>Locked Down</td>\n",
       "      <td>Doug Liman (director); Steven Knight (screenpl...</td>\n",
       "      <td>Comedy Crime Drama</td>\n",
       "    </tr>\n",
       "    <tr>\n",
       "      <th>3</th>\n",
       "      <td>The Dig</td>\n",
       "      <td>Simon Stone (director); Moira Buffini (screenp...</td>\n",
       "      <td>Drama History</td>\n",
       "    </tr>\n",
       "    <tr>\n",
       "      <th>4</th>\n",
       "      <td>Outside the Wire</td>\n",
       "      <td>Mikael Håfström (director); Rob Yescombe, Rowa...</td>\n",
       "      <td>Thriller Action Science Fiction</td>\n",
       "    </tr>\n",
       "    <tr>\n",
       "      <th>...</th>\n",
       "      <td>...</td>\n",
       "      <td>...</td>\n",
       "      <td>...</td>\n",
       "    </tr>\n",
       "    <tr>\n",
       "      <th>352</th>\n",
       "      <td>The Tragedy of Macbeth</td>\n",
       "      <td>Joel Coen (director/screenplay); Denzel Washin...</td>\n",
       "      <td>Drama War</td>\n",
       "    </tr>\n",
       "    <tr>\n",
       "      <th>353</th>\n",
       "      <td>A Journal for Jordan</td>\n",
       "      <td>Denzel Washington (director); Virgil Williams ...</td>\n",
       "      <td>Drama Romance</td>\n",
       "    </tr>\n",
       "    <tr>\n",
       "      <th>354</th>\n",
       "      <td>American Underdog</td>\n",
       "      <td>Erwin brothers (directors); Jon Erwin, David A...</td>\n",
       "      <td>Drama</td>\n",
       "    </tr>\n",
       "    <tr>\n",
       "      <th>355</th>\n",
       "      <td>Memoria</td>\n",
       "      <td>Apichatpong Weerasethakul (director/acreenplay...</td>\n",
       "      <td>Drama Fantasy Mystery</td>\n",
       "    </tr>\n",
       "    <tr>\n",
       "      <th>356</th>\n",
       "      <td>NaN</td>\n",
       "      <td>NaN</td>\n",
       "      <td>Comedy</td>\n",
       "    </tr>\n",
       "  </tbody>\n",
       "</table>\n",
       "<p>357 rows × 3 columns</p>\n",
       "</div>\n",
       "      <button class=\"colab-df-convert\" onclick=\"convertToInteractive('df-8c4fa847-31c8-49c2-8d9b-68caa28954d1')\"\n",
       "              title=\"Convert this dataframe to an interactive table.\"\n",
       "              style=\"display:none;\">\n",
       "        \n",
       "  <svg xmlns=\"http://www.w3.org/2000/svg\" height=\"24px\"viewBox=\"0 0 24 24\"\n",
       "       width=\"24px\">\n",
       "    <path d=\"M0 0h24v24H0V0z\" fill=\"none\"/>\n",
       "    <path d=\"M18.56 5.44l.94 2.06.94-2.06 2.06-.94-2.06-.94-.94-2.06-.94 2.06-2.06.94zm-11 1L8.5 8.5l.94-2.06 2.06-.94-2.06-.94L8.5 2.5l-.94 2.06-2.06.94zm10 10l.94 2.06.94-2.06 2.06-.94-2.06-.94-.94-2.06-.94 2.06-2.06.94z\"/><path d=\"M17.41 7.96l-1.37-1.37c-.4-.4-.92-.59-1.43-.59-.52 0-1.04.2-1.43.59L10.3 9.45l-7.72 7.72c-.78.78-.78 2.05 0 2.83L4 21.41c.39.39.9.59 1.41.59.51 0 1.02-.2 1.41-.59l7.78-7.78 2.81-2.81c.8-.78.8-2.07 0-2.86zM5.41 20L4 18.59l7.72-7.72 1.47 1.35L5.41 20z\"/>\n",
       "  </svg>\n",
       "      </button>\n",
       "      \n",
       "  <style>\n",
       "    .colab-df-container {\n",
       "      display:flex;\n",
       "      flex-wrap:wrap;\n",
       "      gap: 12px;\n",
       "    }\n",
       "\n",
       "    .colab-df-convert {\n",
       "      background-color: #E8F0FE;\n",
       "      border: none;\n",
       "      border-radius: 50%;\n",
       "      cursor: pointer;\n",
       "      display: none;\n",
       "      fill: #1967D2;\n",
       "      height: 32px;\n",
       "      padding: 0 0 0 0;\n",
       "      width: 32px;\n",
       "    }\n",
       "\n",
       "    .colab-df-convert:hover {\n",
       "      background-color: #E2EBFA;\n",
       "      box-shadow: 0px 1px 2px rgba(60, 64, 67, 0.3), 0px 1px 3px 1px rgba(60, 64, 67, 0.15);\n",
       "      fill: #174EA6;\n",
       "    }\n",
       "\n",
       "    [theme=dark] .colab-df-convert {\n",
       "      background-color: #3B4455;\n",
       "      fill: #D2E3FC;\n",
       "    }\n",
       "\n",
       "    [theme=dark] .colab-df-convert:hover {\n",
       "      background-color: #434B5C;\n",
       "      box-shadow: 0px 1px 3px 1px rgba(0, 0, 0, 0.15);\n",
       "      filter: drop-shadow(0px 1px 2px rgba(0, 0, 0, 0.3));\n",
       "      fill: #FFFFFF;\n",
       "    }\n",
       "  </style>\n",
       "\n",
       "      <script>\n",
       "        const buttonEl =\n",
       "          document.querySelector('#df-8c4fa847-31c8-49c2-8d9b-68caa28954d1 button.colab-df-convert');\n",
       "        buttonEl.style.display =\n",
       "          google.colab.kernel.accessAllowed ? 'block' : 'none';\n",
       "\n",
       "        async function convertToInteractive(key) {\n",
       "          const element = document.querySelector('#df-8c4fa847-31c8-49c2-8d9b-68caa28954d1');\n",
       "          const dataTable =\n",
       "            await google.colab.kernel.invokeFunction('convertToInteractive',\n",
       "                                                     [key], {});\n",
       "          if (!dataTable) return;\n",
       "\n",
       "          const docLinkHtml = 'Like what you see? Visit the ' +\n",
       "            '<a target=\"_blank\" href=https://colab.research.google.com/notebooks/data_table.ipynb>data table notebook</a>'\n",
       "            + ' to learn more about interactive tables.';\n",
       "          element.innerHTML = '';\n",
       "          dataTable['output_type'] = 'display_data';\n",
       "          await google.colab.output.renderOutput(dataTable, element);\n",
       "          const docLink = document.createElement('div');\n",
       "          docLink.innerHTML = docLinkHtml;\n",
       "          element.appendChild(docLink);\n",
       "        }\n",
       "      </script>\n",
       "    </div>\n",
       "  </div>\n",
       "  "
      ],
      "text/plain": [
       "                      Title  \\\n",
       "0       Shadow in the Cloud   \n",
       "1           The White Tiger   \n",
       "2               Locked Down   \n",
       "3                   The Dig   \n",
       "4          Outside the Wire   \n",
       "..                      ...   \n",
       "352  The Tragedy of Macbeth   \n",
       "353    A Journal for Jordan   \n",
       "354       American Underdog   \n",
       "355                 Memoria   \n",
       "356                     NaN   \n",
       "\n",
       "                                         Cast and crew  \\\n",
       "0    Roseanne Liang (director/screenplay); Max Land...   \n",
       "1    Ramin Bahrani (director/screenplay); Adarsh Go...   \n",
       "2    Doug Liman (director); Steven Knight (screenpl...   \n",
       "3    Simon Stone (director); Moira Buffini (screenp...   \n",
       "4    Mikael Håfström (director); Rob Yescombe, Rowa...   \n",
       "..                                                 ...   \n",
       "352  Joel Coen (director/screenplay); Denzel Washin...   \n",
       "353  Denzel Washington (director); Virgil Williams ...   \n",
       "354  Erwin brothers (directors); Jon Erwin, David A...   \n",
       "355  Apichatpong Weerasethakul (director/acreenplay...   \n",
       "356                                                NaN   \n",
       "\n",
       "                              genres  \n",
       "0                  Horror Action War  \n",
       "1                              Drama  \n",
       "2                 Comedy Crime Drama  \n",
       "3                      Drama History  \n",
       "4    Thriller Action Science Fiction  \n",
       "..                               ...  \n",
       "352                        Drama War  \n",
       "353                    Drama Romance  \n",
       "354                            Drama  \n",
       "355            Drama Fantasy Mystery  \n",
       "356                           Comedy  \n",
       "\n",
       "[357 rows x 3 columns]"
      ]
     },
     "execution_count": 28,
     "metadata": {},
     "output_type": "execute_result"
    }
   ],
   "source": [
    "df_2021"
   ]
  },
  {
   "cell_type": "code",
   "execution_count": 39,
   "metadata": {
    "colab": {
     "base_uri": "https://localhost:8080/"
    },
    "executionInfo": {
     "elapsed": 421,
     "status": "ok",
     "timestamp": 1646383899480,
     "user": {
      "displayName": "sarthak nikure",
      "photoUrl": "https://lh3.googleusercontent.com/a/default-user=s64",
      "userId": "16514347430543116262"
     },
     "user_tz": -330
    },
    "id": "fCrc_KsWEuUe",
    "outputId": "ca36e918-5786-4787-9ffe-c73d14463721"
   },
   "outputs": [
    {
     "data": {
      "text/plain": [
       "0    Roseanne Liang (director/screenplay); Max Land...\n",
       "1    Ramin Bahrani (director/screenplay); Adarsh Go...\n",
       "2    Doug Liman (director); Steven Knight (screenpl...\n",
       "3    Simon Stone (director); Moira Buffini (screenp...\n",
       "4    Mikael Håfström (director); Rob Yescombe, Rowa...\n",
       "Name: Cast and crew, dtype: object"
      ]
     },
     "execution_count": 39,
     "metadata": {},
     "output_type": "execute_result"
    }
   ],
   "source": [
    "df['Cast and crew'].head()"
   ]
  },
  {
   "cell_type": "code",
   "execution_count": 30,
   "metadata": {
    "executionInfo": {
     "elapsed": 407,
     "status": "ok",
     "timestamp": 1646383227718,
     "user": {
      "displayName": "sarthak nikure",
      "photoUrl": "https://lh3.googleusercontent.com/a/default-user=s64",
      "userId": "16514347430543116262"
     },
     "user_tz": -330
    },
    "id": "ImO2ZewxEgjp"
   },
   "outputs": [],
   "source": [
    "def get_director(x):\n",
    "  if \" (director)\" in x:\n",
    "    return x.split(\" (director)\")[0]\n",
    "  elif \" (directors)\" in x:\n",
    "    return x.split(\" (directors)\")[0]\n",
    "  else:\n",
    "    return x.split(\" (director/screenplay)\")[0]"
   ]
  },
  {
   "cell_type": "code",
   "execution_count": 31,
   "metadata": {
    "colab": {
     "base_uri": "https://localhost:8080/"
    },
    "executionInfo": {
     "elapsed": 12,
     "status": "ok",
     "timestamp": 1646383361064,
     "user": {
      "displayName": "sarthak nikure",
      "photoUrl": "https://lh3.googleusercontent.com/a/default-user=s64",
      "userId": "16514347430543116262"
     },
     "user_tz": -330
    },
    "id": "het5dRrnFl21",
    "outputId": "e25bedd5-2a4f-4525-930e-cf22cb87741f"
   },
   "outputs": [
    {
     "name": "stderr",
     "output_type": "stream",
     "text": [
      "/usr/local/lib/python3.7/dist-packages/ipykernel_launcher.py:1: SettingWithCopyWarning: \n",
      "A value is trying to be set on a copy of a slice from a DataFrame.\n",
      "Try using .loc[row_indexer,col_indexer] = value instead\n",
      "\n",
      "See the caveats in the documentation: https://pandas.pydata.org/pandas-docs/stable/user_guide/indexing.html#returning-a-view-versus-a-copy\n",
      "  \"\"\"Entry point for launching an IPython kernel.\n"
     ]
    }
   ],
   "source": [
    "df_2021['director_name'] = df_2021['Cast and crew'].map(lambda x: get_director(str(x)))"
   ]
  },
  {
   "cell_type": "code",
   "execution_count": 37,
   "metadata": {
    "colab": {
     "base_uri": "https://localhost:8080/"
    },
    "executionInfo": {
     "elapsed": 9,
     "status": "ok",
     "timestamp": 1646383873256,
     "user": {
      "displayName": "sarthak nikure",
      "photoUrl": "https://lh3.googleusercontent.com/a/default-user=s64",
      "userId": "16514347430543116262"
     },
     "user_tz": -330
    },
    "id": "MPJxKH4sGGc-",
    "outputId": "019e6ee8-6085-48d9-f67b-32bdd68826d5"
   },
   "outputs": [
    {
     "data": {
      "text/plain": [
       "0                                         Roseanne Liang\n",
       "1                                          Ramin Bahrani\n",
       "2                                             Doug Liman\n",
       "3                                            Simon Stone\n",
       "4                                        Mikael Håfström\n",
       "                             ...                        \n",
       "352                                            Joel Coen\n",
       "353                                    Denzel Washington\n",
       "354                                       Erwin brothers\n",
       "355    Apichatpong Weerasethakul (director/acreenplay...\n",
       "356                                                  nan\n",
       "Name: director_name, Length: 357, dtype: object"
      ]
     },
     "execution_count": 37,
     "metadata": {},
     "output_type": "execute_result"
    }
   ],
   "source": [
    "df_2021['director_name']"
   ]
  },
  {
   "cell_type": "code",
   "execution_count": 49,
   "metadata": {
    "colab": {
     "base_uri": "https://localhost:8080/",
     "height": 52
    },
    "executionInfo": {
     "elapsed": 15,
     "status": "ok",
     "timestamp": 1646384362535,
     "user": {
      "displayName": "sarthak nikure",
      "photoUrl": "https://lh3.googleusercontent.com/a/default-user=s64",
      "userId": "16514347430543116262"
     },
     "user_tz": -330
    },
    "id": "1JfSOCxcIM6N",
    "outputId": "de684a12-9991-44a7-b418-d6dd4b39975e"
   },
   "outputs": [
    {
     "data": {
      "application/vnd.google.colaboratory.intrinsic+json": {
       "type": "string"
      },
      "text/plain": [
       "'Roseanne Liang (director/screenplay); Max Landis (screenplay); Chloë Grace Moretz, Taylor John Smith, Beulah Koale, Callan Mulvey, Nick Robinson'"
      ]
     },
     "execution_count": 49,
     "metadata": {},
     "output_type": "execute_result"
    }
   ],
   "source": [
    "df['Cast and crew'].head(1)[0]"
   ]
  },
  {
   "cell_type": "code",
   "execution_count": 50,
   "metadata": {
    "colab": {
     "base_uri": "https://localhost:8080/",
     "height": 35
    },
    "executionInfo": {
     "elapsed": 13,
     "status": "ok",
     "timestamp": 1646384490349,
     "user": {
      "displayName": "sarthak nikure",
      "photoUrl": "https://lh3.googleusercontent.com/a/default-user=s64",
      "userId": "16514347430543116262"
     },
     "user_tz": -330
    },
    "id": "E7t8gYarKVZf",
    "outputId": "003edafd-7a79-40f3-e3d8-425b49d61c7e"
   },
   "outputs": [
    {
     "data": {
      "application/vnd.google.colaboratory.intrinsic+json": {
       "type": "string"
      },
      "text/plain": [
       "'Apichatpong Weerasethakul (director/acreenplay); Tilda Swinton, Elkin Díaz, Jeanne Balibar, Juan Pablo Urrego, Daniel Giménez Cacho'"
      ]
     },
     "execution_count": 50,
     "metadata": {},
     "output_type": "execute_result"
    }
   ],
   "source": [
    "df['Cast and crew'][355]"
   ]
  },
  {
   "cell_type": "code",
   "execution_count": 54,
   "metadata": {
    "executionInfo": {
     "elapsed": 407,
     "status": "ok",
     "timestamp": 1646384853389,
     "user": {
      "displayName": "sarthak nikure",
      "photoUrl": "https://lh3.googleusercontent.com/a/default-user=s64",
      "userId": "16514347430543116262"
     },
     "user_tz": -330
    },
    "id": "2pYQjPaQGJoK"
   },
   "outputs": [],
   "source": [
    "def get_actor1(x):\n",
    "  if \"screenplay); \" in x:\n",
    "    return ((x.split(\"screenplay); \")[-1]).split(\", \")[0])\n",
    "  else:\n",
    "    return ((x.split(\"acreenplay); \")[-1]).split(\", \")[0])"
   ]
  },
  {
   "cell_type": "code",
   "execution_count": 55,
   "metadata": {
    "colab": {
     "base_uri": "https://localhost:8080/"
    },
    "executionInfo": {
     "elapsed": 418,
     "status": "ok",
     "timestamp": 1646384856980,
     "user": {
      "displayName": "sarthak nikure",
      "photoUrl": "https://lh3.googleusercontent.com/a/default-user=s64",
      "userId": "16514347430543116262"
     },
     "user_tz": -330
    },
    "id": "YFgcfgREI3pQ",
    "outputId": "0965debf-426b-4e5c-8128-1de2528f4ec5"
   },
   "outputs": [
    {
     "name": "stderr",
     "output_type": "stream",
     "text": [
      "/usr/local/lib/python3.7/dist-packages/ipykernel_launcher.py:1: SettingWithCopyWarning: \n",
      "A value is trying to be set on a copy of a slice from a DataFrame.\n",
      "Try using .loc[row_indexer,col_indexer] = value instead\n",
      "\n",
      "See the caveats in the documentation: https://pandas.pydata.org/pandas-docs/stable/user_guide/indexing.html#returning-a-view-versus-a-copy\n",
      "  \"\"\"Entry point for launching an IPython kernel.\n"
     ]
    }
   ],
   "source": [
    "df_2021['actor_1_name'] = df_2021['Cast and crew'].map(lambda x: get_actor1(str(x)))"
   ]
  },
  {
   "cell_type": "code",
   "execution_count": 56,
   "metadata": {
    "colab": {
     "base_uri": "https://localhost:8080/"
    },
    "executionInfo": {
     "elapsed": 415,
     "status": "ok",
     "timestamp": 1646384864867,
     "user": {
      "displayName": "sarthak nikure",
      "photoUrl": "https://lh3.googleusercontent.com/a/default-user=s64",
      "userId": "16514347430543116262"
     },
     "user_tz": -330
    },
    "id": "eH490wvPJHYc",
    "outputId": "960199a8-bdd5-4429-cbc5-b4c976fb673b"
   },
   "outputs": [
    {
     "data": {
      "text/plain": [
       "0      Chloë Grace Moretz\n",
       "1           Adarsh Gourav\n",
       "2           Anne Hathaway\n",
       "3          Carey Mulligan\n",
       "4          Anthony Mackie\n",
       "              ...        \n",
       "352     Denzel Washington\n",
       "353     Michael B. Jordan\n",
       "354          Zachary Levi\n",
       "355         Tilda Swinton\n",
       "356                   nan\n",
       "Name: actor_1_name, Length: 357, dtype: object"
      ]
     },
     "execution_count": 56,
     "metadata": {},
     "output_type": "execute_result"
    }
   ],
   "source": [
    "df_2021['actor_1_name']"
   ]
  },
  {
   "cell_type": "code",
   "execution_count": 57,
   "metadata": {
    "colab": {
     "base_uri": "https://localhost:8080/",
     "height": 52
    },
    "executionInfo": {
     "elapsed": 1241,
     "status": "ok",
     "timestamp": 1646384893452,
     "user": {
      "displayName": "sarthak nikure",
      "photoUrl": "https://lh3.googleusercontent.com/a/default-user=s64",
      "userId": "16514347430543116262"
     },
     "user_tz": -330
    },
    "id": "c7t9t5KTJMNW",
    "outputId": "b6e31c53-e46f-43eb-96a1-f4dacc5908a5"
   },
   "outputs": [
    {
     "data": {
      "application/vnd.google.colaboratory.intrinsic+json": {
       "type": "string"
      },
      "text/plain": [
       "'Roseanne Liang (director/screenplay); Max Landis (screenplay); Chloë Grace Moretz, Taylor John Smith, Beulah Koale, Callan Mulvey, Nick Robinson'"
      ]
     },
     "execution_count": 57,
     "metadata": {},
     "output_type": "execute_result"
    }
   ],
   "source": [
    "df['Cast and crew'].head(1)[0]"
   ]
  },
  {
   "cell_type": "code",
   "execution_count": 58,
   "metadata": {
    "colab": {
     "base_uri": "https://localhost:8080/",
     "height": 35
    },
    "executionInfo": {
     "elapsed": 11,
     "status": "ok",
     "timestamp": 1646385109920,
     "user": {
      "displayName": "sarthak nikure",
      "photoUrl": "https://lh3.googleusercontent.com/a/default-user=s64",
      "userId": "16514347430543116262"
     },
     "user_tz": -330
    },
    "id": "luXCi9LRMwmH",
    "outputId": "c99cdabc-a9d2-496a-a2c0-0019f980d767"
   },
   "outputs": [
    {
     "data": {
      "application/vnd.google.colaboratory.intrinsic+json": {
       "type": "string"
      },
      "text/plain": [
       "'Apichatpong Weerasethakul (director/acreenplay); Tilda Swinton, Elkin Díaz, Jeanne Balibar, Juan Pablo Urrego, Daniel Giménez Cacho'"
      ]
     },
     "execution_count": 58,
     "metadata": {},
     "output_type": "execute_result"
    }
   ],
   "source": [
    "df['Cast and crew'][355]"
   ]
  },
  {
   "cell_type": "code",
   "execution_count": 59,
   "metadata": {
    "executionInfo": {
     "elapsed": 417,
     "status": "ok",
     "timestamp": 1646385518529,
     "user": {
      "displayName": "sarthak nikure",
      "photoUrl": "https://lh3.googleusercontent.com/a/default-user=s64",
      "userId": "16514347430543116262"
     },
     "user_tz": -330
    },
    "id": "WDFgL8OkL8UJ"
   },
   "outputs": [],
   "source": [
    "def get_actor2(x):\n",
    "  if len((x.split(\"screenplay); \")[-1]).split(\", \")) < 2:\n",
    "    return np.NaN\n",
    "  elif \"screenplay); \" in x:\n",
    "    return ((x.split(\"screenplay); \")[-1]).split(\", \")[1])\n",
    "  else:\n",
    "    return ((x.split(\"acreenplay); \")[-1]).split(\", \")[1])"
   ]
  },
  {
   "cell_type": "code",
   "execution_count": 60,
   "metadata": {
    "colab": {
     "base_uri": "https://localhost:8080/"
    },
    "executionInfo": {
     "elapsed": 656,
     "status": "ok",
     "timestamp": 1646385580110,
     "user": {
      "displayName": "sarthak nikure",
      "photoUrl": "https://lh3.googleusercontent.com/a/default-user=s64",
      "userId": "16514347430543116262"
     },
     "user_tz": -330
    },
    "id": "7PICkXC-OVHD",
    "outputId": "fd175c22-0b0a-4a70-a4d0-966dbecfaac6"
   },
   "outputs": [
    {
     "name": "stderr",
     "output_type": "stream",
     "text": [
      "/usr/local/lib/python3.7/dist-packages/ipykernel_launcher.py:1: SettingWithCopyWarning: \n",
      "A value is trying to be set on a copy of a slice from a DataFrame.\n",
      "Try using .loc[row_indexer,col_indexer] = value instead\n",
      "\n",
      "See the caveats in the documentation: https://pandas.pydata.org/pandas-docs/stable/user_guide/indexing.html#returning-a-view-versus-a-copy\n",
      "  \"\"\"Entry point for launching an IPython kernel.\n"
     ]
    }
   ],
   "source": [
    "df_2021['actor_2_name'] = df_2021['Cast and crew'].map(lambda x: get_actor2(str(x)))"
   ]
  },
  {
   "cell_type": "code",
   "execution_count": 62,
   "metadata": {
    "colab": {
     "base_uri": "https://localhost:8080/"
    },
    "executionInfo": {
     "elapsed": 10,
     "status": "ok",
     "timestamp": 1646385615367,
     "user": {
      "displayName": "sarthak nikure",
      "photoUrl": "https://lh3.googleusercontent.com/a/default-user=s64",
      "userId": "16514347430543116262"
     },
     "user_tz": -330
    },
    "id": "DBf8q1W-OkGF",
    "outputId": "380b8428-a7a9-4e36-f738-41293c2fbe96"
   },
   "outputs": [
    {
     "data": {
      "text/plain": [
       "0      Taylor John Smith\n",
       "1          Rajkummar Rao\n",
       "2       Chiwetel Ejiofor\n",
       "3          Ralph Fiennes\n",
       "4           Damson Idris\n",
       "             ...        \n",
       "352    Frances McDormand\n",
       "353         Chanté Adams\n",
       "354          Anna Paquin\n",
       "355           Elkin Díaz\n",
       "356                  NaN\n",
       "Name: actor_2_name, Length: 357, dtype: object"
      ]
     },
     "execution_count": 62,
     "metadata": {},
     "output_type": "execute_result"
    }
   ],
   "source": [
    "df_2021['actor_2_name']"
   ]
  },
  {
   "cell_type": "code",
   "execution_count": 63,
   "metadata": {
    "colab": {
     "base_uri": "https://localhost:8080/",
     "height": 52
    },
    "executionInfo": {
     "elapsed": 15,
     "status": "ok",
     "timestamp": 1646385664544,
     "user": {
      "displayName": "sarthak nikure",
      "photoUrl": "https://lh3.googleusercontent.com/a/default-user=s64",
      "userId": "16514347430543116262"
     },
     "user_tz": -330
    },
    "id": "PHkaos4fOogK",
    "outputId": "ac128930-3d5e-4d23-8647-e38a83b6f3f1"
   },
   "outputs": [
    {
     "data": {
      "application/vnd.google.colaboratory.intrinsic+json": {
       "type": "string"
      },
      "text/plain": [
       "'Roseanne Liang (director/screenplay); Max Landis (screenplay); Chloë Grace Moretz, Taylor John Smith, Beulah Koale, Callan Mulvey, Nick Robinson'"
      ]
     },
     "execution_count": 63,
     "metadata": {},
     "output_type": "execute_result"
    }
   ],
   "source": [
    "df['Cast and crew'].head(1)[0]"
   ]
  },
  {
   "cell_type": "code",
   "execution_count": 64,
   "metadata": {
    "colab": {
     "base_uri": "https://localhost:8080/",
     "height": 35
    },
    "executionInfo": {
     "elapsed": 545,
     "status": "ok",
     "timestamp": 1646385714863,
     "user": {
      "displayName": "sarthak nikure",
      "photoUrl": "https://lh3.googleusercontent.com/a/default-user=s64",
      "userId": "16514347430543116262"
     },
     "user_tz": -330
    },
    "id": "po-noZAEO4z3",
    "outputId": "e93b0e39-86f5-464b-a88f-f980aa500585"
   },
   "outputs": [
    {
     "data": {
      "application/vnd.google.colaboratory.intrinsic+json": {
       "type": "string"
      },
      "text/plain": [
       "'Apichatpong Weerasethakul (director/acreenplay); Tilda Swinton, Elkin Díaz, Jeanne Balibar, Juan Pablo Urrego, Daniel Giménez Cacho'"
      ]
     },
     "execution_count": 64,
     "metadata": {},
     "output_type": "execute_result"
    }
   ],
   "source": [
    "df['Cast and crew'][355]"
   ]
  },
  {
   "cell_type": "code",
   "execution_count": 65,
   "metadata": {
    "executionInfo": {
     "elapsed": 384,
     "status": "ok",
     "timestamp": 1646385824668,
     "user": {
      "displayName": "sarthak nikure",
      "photoUrl": "https://lh3.googleusercontent.com/a/default-user=s64",
      "userId": "16514347430543116262"
     },
     "user_tz": -330
    },
    "id": "AHYtiYXrPFCb"
   },
   "outputs": [],
   "source": [
    "def get_actor3(x):\n",
    "  if len((x.split(\"screenplay); \")[-1]).split(\", \")) < 3:\n",
    "    return np.NaN\n",
    "  elif \"screenplay); \" in x:\n",
    "    return ((x.split(\"screenplay); \")[-1]).split(\", \")[2])\n",
    "  else:\n",
    "    return ((x.split(\"acreenplay); \")[-1]).split(\", \")[2])"
   ]
  },
  {
   "cell_type": "code",
   "execution_count": 66,
   "metadata": {
    "executionInfo": {
     "elapsed": 412,
     "status": "ok",
     "timestamp": 1646385892811,
     "user": {
      "displayName": "sarthak nikure",
      "photoUrl": "https://lh3.googleusercontent.com/a/default-user=s64",
      "userId": "16514347430543116262"
     },
     "user_tz": -330
    },
    "id": "Rdc-LIDSPf2f"
   },
   "outputs": [],
   "source": [
    "df_2021['actor_3_name'] = df_2021['Cast and crew'].map(lambda x: get_actor3(str(x)))"
   ]
  },
  {
   "cell_type": "code",
   "execution_count": 67,
   "metadata": {
    "colab": {
     "base_uri": "https://localhost:8080/",
     "height": 616
    },
    "executionInfo": {
     "elapsed": 434,
     "status": "ok",
     "timestamp": 1646385905010,
     "user": {
      "displayName": "sarthak nikure",
      "photoUrl": "https://lh3.googleusercontent.com/a/default-user=s64",
      "userId": "16514347430543116262"
     },
     "user_tz": -330
    },
    "id": "rVfuH0a2Pwec",
    "outputId": "7d3061b9-b6db-4f7f-efa2-18df9dc99e2e"
   },
   "outputs": [
    {
     "data": {
      "text/html": [
       "\n",
       "  <div id=\"df-6754bb53-45e9-41a4-b731-6a7766e86782\">\n",
       "    <div class=\"colab-df-container\">\n",
       "      <div>\n",
       "<style scoped>\n",
       "    .dataframe tbody tr th:only-of-type {\n",
       "        vertical-align: middle;\n",
       "    }\n",
       "\n",
       "    .dataframe tbody tr th {\n",
       "        vertical-align: top;\n",
       "    }\n",
       "\n",
       "    .dataframe thead th {\n",
       "        text-align: right;\n",
       "    }\n",
       "</style>\n",
       "<table border=\"1\" class=\"dataframe\">\n",
       "  <thead>\n",
       "    <tr style=\"text-align: right;\">\n",
       "      <th></th>\n",
       "      <th>Title</th>\n",
       "      <th>Cast and crew</th>\n",
       "      <th>genres</th>\n",
       "      <th>director_name</th>\n",
       "      <th>actor_1_name</th>\n",
       "      <th>actor_2_name</th>\n",
       "      <th>actor_3_name</th>\n",
       "    </tr>\n",
       "  </thead>\n",
       "  <tbody>\n",
       "    <tr>\n",
       "      <th>0</th>\n",
       "      <td>Shadow in the Cloud</td>\n",
       "      <td>Roseanne Liang (director/screenplay); Max Land...</td>\n",
       "      <td>Horror Action War</td>\n",
       "      <td>Roseanne Liang</td>\n",
       "      <td>Chloë Grace Moretz</td>\n",
       "      <td>Taylor John Smith</td>\n",
       "      <td>Beulah Koale</td>\n",
       "    </tr>\n",
       "    <tr>\n",
       "      <th>1</th>\n",
       "      <td>The White Tiger</td>\n",
       "      <td>Ramin Bahrani (director/screenplay); Adarsh Go...</td>\n",
       "      <td>Drama</td>\n",
       "      <td>Ramin Bahrani</td>\n",
       "      <td>Adarsh Gourav</td>\n",
       "      <td>Rajkummar Rao</td>\n",
       "      <td>Priyanka Chopra Jonas</td>\n",
       "    </tr>\n",
       "    <tr>\n",
       "      <th>2</th>\n",
       "      <td>Locked Down</td>\n",
       "      <td>Doug Liman (director); Steven Knight (screenpl...</td>\n",
       "      <td>Comedy Crime Drama</td>\n",
       "      <td>Doug Liman</td>\n",
       "      <td>Anne Hathaway</td>\n",
       "      <td>Chiwetel Ejiofor</td>\n",
       "      <td>Stephen Merchant</td>\n",
       "    </tr>\n",
       "    <tr>\n",
       "      <th>3</th>\n",
       "      <td>The Dig</td>\n",
       "      <td>Simon Stone (director); Moira Buffini (screenp...</td>\n",
       "      <td>Drama History</td>\n",
       "      <td>Simon Stone</td>\n",
       "      <td>Carey Mulligan</td>\n",
       "      <td>Ralph Fiennes</td>\n",
       "      <td>Lily James</td>\n",
       "    </tr>\n",
       "    <tr>\n",
       "      <th>4</th>\n",
       "      <td>Outside the Wire</td>\n",
       "      <td>Mikael Håfström (director); Rob Yescombe, Rowa...</td>\n",
       "      <td>Thriller Action Science Fiction</td>\n",
       "      <td>Mikael Håfström</td>\n",
       "      <td>Anthony Mackie</td>\n",
       "      <td>Damson Idris</td>\n",
       "      <td>Emily Beecham</td>\n",
       "    </tr>\n",
       "    <tr>\n",
       "      <th>...</th>\n",
       "      <td>...</td>\n",
       "      <td>...</td>\n",
       "      <td>...</td>\n",
       "      <td>...</td>\n",
       "      <td>...</td>\n",
       "      <td>...</td>\n",
       "      <td>...</td>\n",
       "    </tr>\n",
       "    <tr>\n",
       "      <th>352</th>\n",
       "      <td>The Tragedy of Macbeth</td>\n",
       "      <td>Joel Coen (director/screenplay); Denzel Washin...</td>\n",
       "      <td>Drama War</td>\n",
       "      <td>Joel Coen</td>\n",
       "      <td>Denzel Washington</td>\n",
       "      <td>Frances McDormand</td>\n",
       "      <td>Bertie Carvel</td>\n",
       "    </tr>\n",
       "    <tr>\n",
       "      <th>353</th>\n",
       "      <td>A Journal for Jordan</td>\n",
       "      <td>Denzel Washington (director); Virgil Williams ...</td>\n",
       "      <td>Drama Romance</td>\n",
       "      <td>Denzel Washington</td>\n",
       "      <td>Michael B. Jordan</td>\n",
       "      <td>Chanté Adams</td>\n",
       "      <td>Jalon Christian</td>\n",
       "    </tr>\n",
       "    <tr>\n",
       "      <th>354</th>\n",
       "      <td>American Underdog</td>\n",
       "      <td>Erwin brothers (directors); Jon Erwin, David A...</td>\n",
       "      <td>Drama</td>\n",
       "      <td>Erwin brothers</td>\n",
       "      <td>Zachary Levi</td>\n",
       "      <td>Anna Paquin</td>\n",
       "      <td>Dennis Quaid</td>\n",
       "    </tr>\n",
       "    <tr>\n",
       "      <th>355</th>\n",
       "      <td>Memoria</td>\n",
       "      <td>Apichatpong Weerasethakul (director/acreenplay...</td>\n",
       "      <td>Drama Fantasy Mystery</td>\n",
       "      <td>Apichatpong Weerasethakul (director/acreenplay...</td>\n",
       "      <td>Tilda Swinton</td>\n",
       "      <td>Elkin Díaz</td>\n",
       "      <td>Jeanne Balibar</td>\n",
       "    </tr>\n",
       "    <tr>\n",
       "      <th>356</th>\n",
       "      <td>NaN</td>\n",
       "      <td>NaN</td>\n",
       "      <td>Comedy</td>\n",
       "      <td>nan</td>\n",
       "      <td>nan</td>\n",
       "      <td>NaN</td>\n",
       "      <td>NaN</td>\n",
       "    </tr>\n",
       "  </tbody>\n",
       "</table>\n",
       "<p>357 rows × 7 columns</p>\n",
       "</div>\n",
       "      <button class=\"colab-df-convert\" onclick=\"convertToInteractive('df-6754bb53-45e9-41a4-b731-6a7766e86782')\"\n",
       "              title=\"Convert this dataframe to an interactive table.\"\n",
       "              style=\"display:none;\">\n",
       "        \n",
       "  <svg xmlns=\"http://www.w3.org/2000/svg\" height=\"24px\"viewBox=\"0 0 24 24\"\n",
       "       width=\"24px\">\n",
       "    <path d=\"M0 0h24v24H0V0z\" fill=\"none\"/>\n",
       "    <path d=\"M18.56 5.44l.94 2.06.94-2.06 2.06-.94-2.06-.94-.94-2.06-.94 2.06-2.06.94zm-11 1L8.5 8.5l.94-2.06 2.06-.94-2.06-.94L8.5 2.5l-.94 2.06-2.06.94zm10 10l.94 2.06.94-2.06 2.06-.94-2.06-.94-.94-2.06-.94 2.06-2.06.94z\"/><path d=\"M17.41 7.96l-1.37-1.37c-.4-.4-.92-.59-1.43-.59-.52 0-1.04.2-1.43.59L10.3 9.45l-7.72 7.72c-.78.78-.78 2.05 0 2.83L4 21.41c.39.39.9.59 1.41.59.51 0 1.02-.2 1.41-.59l7.78-7.78 2.81-2.81c.8-.78.8-2.07 0-2.86zM5.41 20L4 18.59l7.72-7.72 1.47 1.35L5.41 20z\"/>\n",
       "  </svg>\n",
       "      </button>\n",
       "      \n",
       "  <style>\n",
       "    .colab-df-container {\n",
       "      display:flex;\n",
       "      flex-wrap:wrap;\n",
       "      gap: 12px;\n",
       "    }\n",
       "\n",
       "    .colab-df-convert {\n",
       "      background-color: #E8F0FE;\n",
       "      border: none;\n",
       "      border-radius: 50%;\n",
       "      cursor: pointer;\n",
       "      display: none;\n",
       "      fill: #1967D2;\n",
       "      height: 32px;\n",
       "      padding: 0 0 0 0;\n",
       "      width: 32px;\n",
       "    }\n",
       "\n",
       "    .colab-df-convert:hover {\n",
       "      background-color: #E2EBFA;\n",
       "      box-shadow: 0px 1px 2px rgba(60, 64, 67, 0.3), 0px 1px 3px 1px rgba(60, 64, 67, 0.15);\n",
       "      fill: #174EA6;\n",
       "    }\n",
       "\n",
       "    [theme=dark] .colab-df-convert {\n",
       "      background-color: #3B4455;\n",
       "      fill: #D2E3FC;\n",
       "    }\n",
       "\n",
       "    [theme=dark] .colab-df-convert:hover {\n",
       "      background-color: #434B5C;\n",
       "      box-shadow: 0px 1px 3px 1px rgba(0, 0, 0, 0.15);\n",
       "      filter: drop-shadow(0px 1px 2px rgba(0, 0, 0, 0.3));\n",
       "      fill: #FFFFFF;\n",
       "    }\n",
       "  </style>\n",
       "\n",
       "      <script>\n",
       "        const buttonEl =\n",
       "          document.querySelector('#df-6754bb53-45e9-41a4-b731-6a7766e86782 button.colab-df-convert');\n",
       "        buttonEl.style.display =\n",
       "          google.colab.kernel.accessAllowed ? 'block' : 'none';\n",
       "\n",
       "        async function convertToInteractive(key) {\n",
       "          const element = document.querySelector('#df-6754bb53-45e9-41a4-b731-6a7766e86782');\n",
       "          const dataTable =\n",
       "            await google.colab.kernel.invokeFunction('convertToInteractive',\n",
       "                                                     [key], {});\n",
       "          if (!dataTable) return;\n",
       "\n",
       "          const docLinkHtml = 'Like what you see? Visit the ' +\n",
       "            '<a target=\"_blank\" href=https://colab.research.google.com/notebooks/data_table.ipynb>data table notebook</a>'\n",
       "            + ' to learn more about interactive tables.';\n",
       "          element.innerHTML = '';\n",
       "          dataTable['output_type'] = 'display_data';\n",
       "          await google.colab.output.renderOutput(dataTable, element);\n",
       "          const docLink = document.createElement('div');\n",
       "          docLink.innerHTML = docLinkHtml;\n",
       "          element.appendChild(docLink);\n",
       "        }\n",
       "      </script>\n",
       "    </div>\n",
       "  </div>\n",
       "  "
      ],
      "text/plain": [
       "                      Title  \\\n",
       "0       Shadow in the Cloud   \n",
       "1           The White Tiger   \n",
       "2               Locked Down   \n",
       "3                   The Dig   \n",
       "4          Outside the Wire   \n",
       "..                      ...   \n",
       "352  The Tragedy of Macbeth   \n",
       "353    A Journal for Jordan   \n",
       "354       American Underdog   \n",
       "355                 Memoria   \n",
       "356                     NaN   \n",
       "\n",
       "                                         Cast and crew  \\\n",
       "0    Roseanne Liang (director/screenplay); Max Land...   \n",
       "1    Ramin Bahrani (director/screenplay); Adarsh Go...   \n",
       "2    Doug Liman (director); Steven Knight (screenpl...   \n",
       "3    Simon Stone (director); Moira Buffini (screenp...   \n",
       "4    Mikael Håfström (director); Rob Yescombe, Rowa...   \n",
       "..                                                 ...   \n",
       "352  Joel Coen (director/screenplay); Denzel Washin...   \n",
       "353  Denzel Washington (director); Virgil Williams ...   \n",
       "354  Erwin brothers (directors); Jon Erwin, David A...   \n",
       "355  Apichatpong Weerasethakul (director/acreenplay...   \n",
       "356                                                NaN   \n",
       "\n",
       "                              genres  \\\n",
       "0                  Horror Action War   \n",
       "1                              Drama   \n",
       "2                 Comedy Crime Drama   \n",
       "3                      Drama History   \n",
       "4    Thriller Action Science Fiction   \n",
       "..                               ...   \n",
       "352                        Drama War   \n",
       "353                    Drama Romance   \n",
       "354                            Drama   \n",
       "355            Drama Fantasy Mystery   \n",
       "356                           Comedy   \n",
       "\n",
       "                                         director_name        actor_1_name  \\\n",
       "0                                       Roseanne Liang  Chloë Grace Moretz   \n",
       "1                                        Ramin Bahrani       Adarsh Gourav   \n",
       "2                                           Doug Liman       Anne Hathaway   \n",
       "3                                          Simon Stone      Carey Mulligan   \n",
       "4                                      Mikael Håfström      Anthony Mackie   \n",
       "..                                                 ...                 ...   \n",
       "352                                          Joel Coen   Denzel Washington   \n",
       "353                                  Denzel Washington   Michael B. Jordan   \n",
       "354                                     Erwin brothers        Zachary Levi   \n",
       "355  Apichatpong Weerasethakul (director/acreenplay...       Tilda Swinton   \n",
       "356                                                nan                 nan   \n",
       "\n",
       "          actor_2_name           actor_3_name  \n",
       "0    Taylor John Smith           Beulah Koale  \n",
       "1        Rajkummar Rao  Priyanka Chopra Jonas  \n",
       "2     Chiwetel Ejiofor       Stephen Merchant  \n",
       "3        Ralph Fiennes             Lily James  \n",
       "4         Damson Idris          Emily Beecham  \n",
       "..                 ...                    ...  \n",
       "352  Frances McDormand          Bertie Carvel  \n",
       "353       Chanté Adams        Jalon Christian  \n",
       "354        Anna Paquin           Dennis Quaid  \n",
       "355         Elkin Díaz         Jeanne Balibar  \n",
       "356                NaN                    NaN  \n",
       "\n",
       "[357 rows x 7 columns]"
      ]
     },
     "execution_count": 67,
     "metadata": {},
     "output_type": "execute_result"
    }
   ],
   "source": [
    "df_2021"
   ]
  },
  {
   "cell_type": "code",
   "execution_count": 68,
   "metadata": {
    "executionInfo": {
     "elapsed": 7,
     "status": "ok",
     "timestamp": 1646386003137,
     "user": {
      "displayName": "sarthak nikure",
      "photoUrl": "https://lh3.googleusercontent.com/a/default-user=s64",
      "userId": "16514347430543116262"
     },
     "user_tz": -330
    },
    "id": "nrkaev1ZPzfB"
   },
   "outputs": [],
   "source": [
    "df_2021 = df_2021.rename(columns={'Title':'movie_title'})"
   ]
  },
  {
   "cell_type": "code",
   "execution_count": 69,
   "metadata": {
    "executionInfo": {
     "elapsed": 411,
     "status": "ok",
     "timestamp": 1646386093620,
     "user": {
      "displayName": "sarthak nikure",
      "photoUrl": "https://lh3.googleusercontent.com/a/default-user=s64",
      "userId": "16514347430543116262"
     },
     "user_tz": -330
    },
    "id": "BrYtnnb3QLhg"
   },
   "outputs": [],
   "source": [
    "new_df21 = df_2021.loc[:,['director_name','actor_1_name','actor_2_name','actor_3_name','genres','movie_title']]"
   ]
  },
  {
   "cell_type": "code",
   "execution_count": 70,
   "metadata": {
    "colab": {
     "base_uri": "https://localhost:8080/",
     "height": 548
    },
    "executionInfo": {
     "elapsed": 424,
     "status": "ok",
     "timestamp": 1646386102848,
     "user": {
      "displayName": "sarthak nikure",
      "photoUrl": "https://lh3.googleusercontent.com/a/default-user=s64",
      "userId": "16514347430543116262"
     },
     "user_tz": -330
    },
    "id": "PXU1IyXRQhgf",
    "outputId": "a567dc6b-14d1-4fdd-bf4a-66dee239e983"
   },
   "outputs": [
    {
     "data": {
      "text/html": [
       "\n",
       "  <div id=\"df-1ce7fc33-0d5a-485b-86d6-fbd67be5bec9\">\n",
       "    <div class=\"colab-df-container\">\n",
       "      <div>\n",
       "<style scoped>\n",
       "    .dataframe tbody tr th:only-of-type {\n",
       "        vertical-align: middle;\n",
       "    }\n",
       "\n",
       "    .dataframe tbody tr th {\n",
       "        vertical-align: top;\n",
       "    }\n",
       "\n",
       "    .dataframe thead th {\n",
       "        text-align: right;\n",
       "    }\n",
       "</style>\n",
       "<table border=\"1\" class=\"dataframe\">\n",
       "  <thead>\n",
       "    <tr style=\"text-align: right;\">\n",
       "      <th></th>\n",
       "      <th>director_name</th>\n",
       "      <th>actor_1_name</th>\n",
       "      <th>actor_2_name</th>\n",
       "      <th>actor_3_name</th>\n",
       "      <th>genres</th>\n",
       "      <th>movie_title</th>\n",
       "    </tr>\n",
       "  </thead>\n",
       "  <tbody>\n",
       "    <tr>\n",
       "      <th>0</th>\n",
       "      <td>Roseanne Liang</td>\n",
       "      <td>Chloë Grace Moretz</td>\n",
       "      <td>Taylor John Smith</td>\n",
       "      <td>Beulah Koale</td>\n",
       "      <td>Horror Action War</td>\n",
       "      <td>Shadow in the Cloud</td>\n",
       "    </tr>\n",
       "    <tr>\n",
       "      <th>1</th>\n",
       "      <td>Ramin Bahrani</td>\n",
       "      <td>Adarsh Gourav</td>\n",
       "      <td>Rajkummar Rao</td>\n",
       "      <td>Priyanka Chopra Jonas</td>\n",
       "      <td>Drama</td>\n",
       "      <td>The White Tiger</td>\n",
       "    </tr>\n",
       "    <tr>\n",
       "      <th>2</th>\n",
       "      <td>Doug Liman</td>\n",
       "      <td>Anne Hathaway</td>\n",
       "      <td>Chiwetel Ejiofor</td>\n",
       "      <td>Stephen Merchant</td>\n",
       "      <td>Comedy Crime Drama</td>\n",
       "      <td>Locked Down</td>\n",
       "    </tr>\n",
       "    <tr>\n",
       "      <th>3</th>\n",
       "      <td>Simon Stone</td>\n",
       "      <td>Carey Mulligan</td>\n",
       "      <td>Ralph Fiennes</td>\n",
       "      <td>Lily James</td>\n",
       "      <td>Drama History</td>\n",
       "      <td>The Dig</td>\n",
       "    </tr>\n",
       "    <tr>\n",
       "      <th>4</th>\n",
       "      <td>Mikael Håfström</td>\n",
       "      <td>Anthony Mackie</td>\n",
       "      <td>Damson Idris</td>\n",
       "      <td>Emily Beecham</td>\n",
       "      <td>Thriller Action Science Fiction</td>\n",
       "      <td>Outside the Wire</td>\n",
       "    </tr>\n",
       "    <tr>\n",
       "      <th>...</th>\n",
       "      <td>...</td>\n",
       "      <td>...</td>\n",
       "      <td>...</td>\n",
       "      <td>...</td>\n",
       "      <td>...</td>\n",
       "      <td>...</td>\n",
       "    </tr>\n",
       "    <tr>\n",
       "      <th>352</th>\n",
       "      <td>Joel Coen</td>\n",
       "      <td>Denzel Washington</td>\n",
       "      <td>Frances McDormand</td>\n",
       "      <td>Bertie Carvel</td>\n",
       "      <td>Drama War</td>\n",
       "      <td>The Tragedy of Macbeth</td>\n",
       "    </tr>\n",
       "    <tr>\n",
       "      <th>353</th>\n",
       "      <td>Denzel Washington</td>\n",
       "      <td>Michael B. Jordan</td>\n",
       "      <td>Chanté Adams</td>\n",
       "      <td>Jalon Christian</td>\n",
       "      <td>Drama Romance</td>\n",
       "      <td>A Journal for Jordan</td>\n",
       "    </tr>\n",
       "    <tr>\n",
       "      <th>354</th>\n",
       "      <td>Erwin brothers</td>\n",
       "      <td>Zachary Levi</td>\n",
       "      <td>Anna Paquin</td>\n",
       "      <td>Dennis Quaid</td>\n",
       "      <td>Drama</td>\n",
       "      <td>American Underdog</td>\n",
       "    </tr>\n",
       "    <tr>\n",
       "      <th>355</th>\n",
       "      <td>Apichatpong Weerasethakul (director/acreenplay...</td>\n",
       "      <td>Tilda Swinton</td>\n",
       "      <td>Elkin Díaz</td>\n",
       "      <td>Jeanne Balibar</td>\n",
       "      <td>Drama Fantasy Mystery</td>\n",
       "      <td>Memoria</td>\n",
       "    </tr>\n",
       "    <tr>\n",
       "      <th>356</th>\n",
       "      <td>nan</td>\n",
       "      <td>nan</td>\n",
       "      <td>NaN</td>\n",
       "      <td>NaN</td>\n",
       "      <td>Comedy</td>\n",
       "      <td>NaN</td>\n",
       "    </tr>\n",
       "  </tbody>\n",
       "</table>\n",
       "<p>357 rows × 6 columns</p>\n",
       "</div>\n",
       "      <button class=\"colab-df-convert\" onclick=\"convertToInteractive('df-1ce7fc33-0d5a-485b-86d6-fbd67be5bec9')\"\n",
       "              title=\"Convert this dataframe to an interactive table.\"\n",
       "              style=\"display:none;\">\n",
       "        \n",
       "  <svg xmlns=\"http://www.w3.org/2000/svg\" height=\"24px\"viewBox=\"0 0 24 24\"\n",
       "       width=\"24px\">\n",
       "    <path d=\"M0 0h24v24H0V0z\" fill=\"none\"/>\n",
       "    <path d=\"M18.56 5.44l.94 2.06.94-2.06 2.06-.94-2.06-.94-.94-2.06-.94 2.06-2.06.94zm-11 1L8.5 8.5l.94-2.06 2.06-.94-2.06-.94L8.5 2.5l-.94 2.06-2.06.94zm10 10l.94 2.06.94-2.06 2.06-.94-2.06-.94-.94-2.06-.94 2.06-2.06.94z\"/><path d=\"M17.41 7.96l-1.37-1.37c-.4-.4-.92-.59-1.43-.59-.52 0-1.04.2-1.43.59L10.3 9.45l-7.72 7.72c-.78.78-.78 2.05 0 2.83L4 21.41c.39.39.9.59 1.41.59.51 0 1.02-.2 1.41-.59l7.78-7.78 2.81-2.81c.8-.78.8-2.07 0-2.86zM5.41 20L4 18.59l7.72-7.72 1.47 1.35L5.41 20z\"/>\n",
       "  </svg>\n",
       "      </button>\n",
       "      \n",
       "  <style>\n",
       "    .colab-df-container {\n",
       "      display:flex;\n",
       "      flex-wrap:wrap;\n",
       "      gap: 12px;\n",
       "    }\n",
       "\n",
       "    .colab-df-convert {\n",
       "      background-color: #E8F0FE;\n",
       "      border: none;\n",
       "      border-radius: 50%;\n",
       "      cursor: pointer;\n",
       "      display: none;\n",
       "      fill: #1967D2;\n",
       "      height: 32px;\n",
       "      padding: 0 0 0 0;\n",
       "      width: 32px;\n",
       "    }\n",
       "\n",
       "    .colab-df-convert:hover {\n",
       "      background-color: #E2EBFA;\n",
       "      box-shadow: 0px 1px 2px rgba(60, 64, 67, 0.3), 0px 1px 3px 1px rgba(60, 64, 67, 0.15);\n",
       "      fill: #174EA6;\n",
       "    }\n",
       "\n",
       "    [theme=dark] .colab-df-convert {\n",
       "      background-color: #3B4455;\n",
       "      fill: #D2E3FC;\n",
       "    }\n",
       "\n",
       "    [theme=dark] .colab-df-convert:hover {\n",
       "      background-color: #434B5C;\n",
       "      box-shadow: 0px 1px 3px 1px rgba(0, 0, 0, 0.15);\n",
       "      filter: drop-shadow(0px 1px 2px rgba(0, 0, 0, 0.3));\n",
       "      fill: #FFFFFF;\n",
       "    }\n",
       "  </style>\n",
       "\n",
       "      <script>\n",
       "        const buttonEl =\n",
       "          document.querySelector('#df-1ce7fc33-0d5a-485b-86d6-fbd67be5bec9 button.colab-df-convert');\n",
       "        buttonEl.style.display =\n",
       "          google.colab.kernel.accessAllowed ? 'block' : 'none';\n",
       "\n",
       "        async function convertToInteractive(key) {\n",
       "          const element = document.querySelector('#df-1ce7fc33-0d5a-485b-86d6-fbd67be5bec9');\n",
       "          const dataTable =\n",
       "            await google.colab.kernel.invokeFunction('convertToInteractive',\n",
       "                                                     [key], {});\n",
       "          if (!dataTable) return;\n",
       "\n",
       "          const docLinkHtml = 'Like what you see? Visit the ' +\n",
       "            '<a target=\"_blank\" href=https://colab.research.google.com/notebooks/data_table.ipynb>data table notebook</a>'\n",
       "            + ' to learn more about interactive tables.';\n",
       "          element.innerHTML = '';\n",
       "          dataTable['output_type'] = 'display_data';\n",
       "          await google.colab.output.renderOutput(dataTable, element);\n",
       "          const docLink = document.createElement('div');\n",
       "          docLink.innerHTML = docLinkHtml;\n",
       "          element.appendChild(docLink);\n",
       "        }\n",
       "      </script>\n",
       "    </div>\n",
       "  </div>\n",
       "  "
      ],
      "text/plain": [
       "                                         director_name        actor_1_name  \\\n",
       "0                                       Roseanne Liang  Chloë Grace Moretz   \n",
       "1                                        Ramin Bahrani       Adarsh Gourav   \n",
       "2                                           Doug Liman       Anne Hathaway   \n",
       "3                                          Simon Stone      Carey Mulligan   \n",
       "4                                      Mikael Håfström      Anthony Mackie   \n",
       "..                                                 ...                 ...   \n",
       "352                                          Joel Coen   Denzel Washington   \n",
       "353                                  Denzel Washington   Michael B. Jordan   \n",
       "354                                     Erwin brothers        Zachary Levi   \n",
       "355  Apichatpong Weerasethakul (director/acreenplay...       Tilda Swinton   \n",
       "356                                                nan                 nan   \n",
       "\n",
       "          actor_2_name           actor_3_name  \\\n",
       "0    Taylor John Smith           Beulah Koale   \n",
       "1        Rajkummar Rao  Priyanka Chopra Jonas   \n",
       "2     Chiwetel Ejiofor       Stephen Merchant   \n",
       "3        Ralph Fiennes             Lily James   \n",
       "4         Damson Idris          Emily Beecham   \n",
       "..                 ...                    ...   \n",
       "352  Frances McDormand          Bertie Carvel   \n",
       "353       Chanté Adams        Jalon Christian   \n",
       "354        Anna Paquin           Dennis Quaid   \n",
       "355         Elkin Díaz         Jeanne Balibar   \n",
       "356                NaN                    NaN   \n",
       "\n",
       "                              genres             movie_title  \n",
       "0                  Horror Action War     Shadow in the Cloud  \n",
       "1                              Drama         The White Tiger  \n",
       "2                 Comedy Crime Drama             Locked Down  \n",
       "3                      Drama History                 The Dig  \n",
       "4    Thriller Action Science Fiction        Outside the Wire  \n",
       "..                               ...                     ...  \n",
       "352                        Drama War  The Tragedy of Macbeth  \n",
       "353                    Drama Romance    A Journal for Jordan  \n",
       "354                            Drama       American Underdog  \n",
       "355            Drama Fantasy Mystery                 Memoria  \n",
       "356                           Comedy                     NaN  \n",
       "\n",
       "[357 rows x 6 columns]"
      ]
     },
     "execution_count": 70,
     "metadata": {},
     "output_type": "execute_result"
    }
   ],
   "source": [
    "new_df21"
   ]
  },
  {
   "cell_type": "code",
   "execution_count": 71,
   "metadata": {
    "executionInfo": {
     "elapsed": 416,
     "status": "ok",
     "timestamp": 1646386273546,
     "user": {
      "displayName": "sarthak nikure",
      "photoUrl": "https://lh3.googleusercontent.com/a/default-user=s64",
      "userId": "16514347430543116262"
     },
     "user_tz": -330
    },
    "id": "C6zSriyCQjqs"
   },
   "outputs": [],
   "source": [
    "new_df21['comb'] = new_df21['actor_1_name'] + ' ' + new_df21['actor_2_name'] + ' ' + new_df21['actor_3_name'] + ' ' + new_df21['director_name'] + ' ' + new_df21['genres']"
   ]
  },
  {
   "cell_type": "code",
   "execution_count": 82,
   "metadata": {
    "colab": {
     "base_uri": "https://localhost:8080/"
    },
    "executionInfo": {
     "elapsed": 418,
     "status": "ok",
     "timestamp": 1646386553913,
     "user": {
      "displayName": "sarthak nikure",
      "photoUrl": "https://lh3.googleusercontent.com/a/default-user=s64",
      "userId": "16514347430543116262"
     },
     "user_tz": -330
    },
    "id": "I2bZCUioRNbs",
    "outputId": "74b977a9-847c-4300-833b-eb8a38b29ba4"
   },
   "outputs": [
    {
     "data": {
      "text/plain": [
       "director_name     0\n",
       "actor_1_name      0\n",
       "actor_2_name      9\n",
       "actor_3_name     26\n",
       "genres            1\n",
       "movie_title       1\n",
       "comb             27\n",
       "dtype: int64"
      ]
     },
     "execution_count": 82,
     "metadata": {},
     "output_type": "execute_result"
    }
   ],
   "source": [
    "new_df21.isnull().sum()"
   ]
  },
  {
   "cell_type": "code",
   "execution_count": 83,
   "metadata": {
    "executionInfo": {
     "elapsed": 415,
     "status": "ok",
     "timestamp": 1646386612255,
     "user": {
      "displayName": "sarthak nikure",
      "photoUrl": "https://lh3.googleusercontent.com/a/default-user=s64",
      "userId": "16514347430543116262"
     },
     "user_tz": -330
    },
    "id": "JwqpG_BpRQlc"
   },
   "outputs": [],
   "source": [
    "new_df21 = new_df21.dropna(how='any')"
   ]
  },
  {
   "cell_type": "code",
   "execution_count": 84,
   "metadata": {
    "colab": {
     "base_uri": "https://localhost:8080/"
    },
    "executionInfo": {
     "elapsed": 429,
     "status": "ok",
     "timestamp": 1646386631733,
     "user": {
      "displayName": "sarthak nikure",
      "photoUrl": "https://lh3.googleusercontent.com/a/default-user=s64",
      "userId": "16514347430543116262"
     },
     "user_tz": -330
    },
    "id": "7eq8hsnhSgKz",
    "outputId": "6a934f9f-11b8-422f-adec-9e931c60fe8c"
   },
   "outputs": [
    {
     "data": {
      "text/plain": [
       "director_name    0\n",
       "actor_1_name     0\n",
       "actor_2_name     0\n",
       "actor_3_name     0\n",
       "genres           0\n",
       "movie_title      0\n",
       "comb             0\n",
       "dtype: int64"
      ]
     },
     "execution_count": 84,
     "metadata": {},
     "output_type": "execute_result"
    }
   ],
   "source": [
    "new_df21.isnull().sum()"
   ]
  },
  {
   "cell_type": "code",
   "execution_count": 85,
   "metadata": {
    "colab": {
     "base_uri": "https://localhost:8080/"
    },
    "executionInfo": {
     "elapsed": 9,
     "status": "ok",
     "timestamp": 1646386704034,
     "user": {
      "displayName": "sarthak nikure",
      "photoUrl": "https://lh3.googleusercontent.com/a/default-user=s64",
      "userId": "16514347430543116262"
     },
     "user_tz": -330
    },
    "id": "cBWwSG8uSlAJ",
    "outputId": "162173ee-5802-4e64-e6d4-518945038528"
   },
   "outputs": [
    {
     "name": "stderr",
     "output_type": "stream",
     "text": [
      "/usr/local/lib/python3.7/dist-packages/ipykernel_launcher.py:1: SettingWithCopyWarning: \n",
      "A value is trying to be set on a copy of a slice from a DataFrame.\n",
      "Try using .loc[row_indexer,col_indexer] = value instead\n",
      "\n",
      "See the caveats in the documentation: https://pandas.pydata.org/pandas-docs/stable/user_guide/indexing.html#returning-a-view-versus-a-copy\n",
      "  \"\"\"Entry point for launching an IPython kernel.\n"
     ]
    }
   ],
   "source": [
    "new_df21['movie_title'] = new_df21['movie_title'].str.lower()"
   ]
  },
  {
   "cell_type": "code",
   "execution_count": 86,
   "metadata": {
    "colab": {
     "base_uri": "https://localhost:8080/",
     "height": 633
    },
    "executionInfo": {
     "elapsed": 421,
     "status": "ok",
     "timestamp": 1646386720926,
     "user": {
      "displayName": "sarthak nikure",
      "photoUrl": "https://lh3.googleusercontent.com/a/default-user=s64",
      "userId": "16514347430543116262"
     },
     "user_tz": -330
    },
    "id": "q0t1wOhaS2j6",
    "outputId": "99505c22-b774-4092-98ac-0c8bc502b04c"
   },
   "outputs": [
    {
     "data": {
      "text/html": [
       "\n",
       "  <div id=\"df-1f3b2879-94f4-4cba-8918-4d00d652c7a9\">\n",
       "    <div class=\"colab-df-container\">\n",
       "      <div>\n",
       "<style scoped>\n",
       "    .dataframe tbody tr th:only-of-type {\n",
       "        vertical-align: middle;\n",
       "    }\n",
       "\n",
       "    .dataframe tbody tr th {\n",
       "        vertical-align: top;\n",
       "    }\n",
       "\n",
       "    .dataframe thead th {\n",
       "        text-align: right;\n",
       "    }\n",
       "</style>\n",
       "<table border=\"1\" class=\"dataframe\">\n",
       "  <thead>\n",
       "    <tr style=\"text-align: right;\">\n",
       "      <th></th>\n",
       "      <th>director_name</th>\n",
       "      <th>actor_1_name</th>\n",
       "      <th>actor_2_name</th>\n",
       "      <th>actor_3_name</th>\n",
       "      <th>genres</th>\n",
       "      <th>movie_title</th>\n",
       "      <th>comb</th>\n",
       "    </tr>\n",
       "  </thead>\n",
       "  <tbody>\n",
       "    <tr>\n",
       "      <th>0</th>\n",
       "      <td>Roseanne Liang</td>\n",
       "      <td>Chloë Grace Moretz</td>\n",
       "      <td>Taylor John Smith</td>\n",
       "      <td>Beulah Koale</td>\n",
       "      <td>Horror Action War</td>\n",
       "      <td>shadow in the cloud</td>\n",
       "      <td>Chloë Grace Moretz Taylor John Smith Beulah Ko...</td>\n",
       "    </tr>\n",
       "    <tr>\n",
       "      <th>1</th>\n",
       "      <td>Ramin Bahrani</td>\n",
       "      <td>Adarsh Gourav</td>\n",
       "      <td>Rajkummar Rao</td>\n",
       "      <td>Priyanka Chopra Jonas</td>\n",
       "      <td>Drama</td>\n",
       "      <td>the white tiger</td>\n",
       "      <td>Adarsh Gourav Rajkummar Rao Priyanka Chopra Jo...</td>\n",
       "    </tr>\n",
       "    <tr>\n",
       "      <th>2</th>\n",
       "      <td>Doug Liman</td>\n",
       "      <td>Anne Hathaway</td>\n",
       "      <td>Chiwetel Ejiofor</td>\n",
       "      <td>Stephen Merchant</td>\n",
       "      <td>Comedy Crime Drama</td>\n",
       "      <td>locked down</td>\n",
       "      <td>Anne Hathaway Chiwetel Ejiofor Stephen Merchan...</td>\n",
       "    </tr>\n",
       "    <tr>\n",
       "      <th>3</th>\n",
       "      <td>Simon Stone</td>\n",
       "      <td>Carey Mulligan</td>\n",
       "      <td>Ralph Fiennes</td>\n",
       "      <td>Lily James</td>\n",
       "      <td>Drama History</td>\n",
       "      <td>the dig</td>\n",
       "      <td>Carey Mulligan Ralph Fiennes Lily James Simon ...</td>\n",
       "    </tr>\n",
       "    <tr>\n",
       "      <th>4</th>\n",
       "      <td>Mikael Håfström</td>\n",
       "      <td>Anthony Mackie</td>\n",
       "      <td>Damson Idris</td>\n",
       "      <td>Emily Beecham</td>\n",
       "      <td>Thriller Action Science Fiction</td>\n",
       "      <td>outside the wire</td>\n",
       "      <td>Anthony Mackie Damson Idris Emily Beecham Mika...</td>\n",
       "    </tr>\n",
       "    <tr>\n",
       "      <th>...</th>\n",
       "      <td>...</td>\n",
       "      <td>...</td>\n",
       "      <td>...</td>\n",
       "      <td>...</td>\n",
       "      <td>...</td>\n",
       "      <td>...</td>\n",
       "      <td>...</td>\n",
       "    </tr>\n",
       "    <tr>\n",
       "      <th>351</th>\n",
       "      <td>Matthew Vaughn</td>\n",
       "      <td>Ralph Fiennes</td>\n",
       "      <td>Gemma Arterton</td>\n",
       "      <td>Rhys Ifans</td>\n",
       "      <td>Action Adventure Thriller War</td>\n",
       "      <td>the king's man</td>\n",
       "      <td>Ralph Fiennes Gemma Arterton Rhys Ifans Matthe...</td>\n",
       "    </tr>\n",
       "    <tr>\n",
       "      <th>352</th>\n",
       "      <td>Joel Coen</td>\n",
       "      <td>Denzel Washington</td>\n",
       "      <td>Frances McDormand</td>\n",
       "      <td>Bertie Carvel</td>\n",
       "      <td>Drama War</td>\n",
       "      <td>the tragedy of macbeth</td>\n",
       "      <td>Denzel Washington Frances McDormand Bertie Car...</td>\n",
       "    </tr>\n",
       "    <tr>\n",
       "      <th>353</th>\n",
       "      <td>Denzel Washington</td>\n",
       "      <td>Michael B. Jordan</td>\n",
       "      <td>Chanté Adams</td>\n",
       "      <td>Jalon Christian</td>\n",
       "      <td>Drama Romance</td>\n",
       "      <td>a journal for jordan</td>\n",
       "      <td>Michael B. Jordan Chanté Adams Jalon Christian...</td>\n",
       "    </tr>\n",
       "    <tr>\n",
       "      <th>354</th>\n",
       "      <td>Erwin brothers</td>\n",
       "      <td>Zachary Levi</td>\n",
       "      <td>Anna Paquin</td>\n",
       "      <td>Dennis Quaid</td>\n",
       "      <td>Drama</td>\n",
       "      <td>american underdog</td>\n",
       "      <td>Zachary Levi Anna Paquin Dennis Quaid Erwin br...</td>\n",
       "    </tr>\n",
       "    <tr>\n",
       "      <th>355</th>\n",
       "      <td>Apichatpong Weerasethakul (director/acreenplay...</td>\n",
       "      <td>Tilda Swinton</td>\n",
       "      <td>Elkin Díaz</td>\n",
       "      <td>Jeanne Balibar</td>\n",
       "      <td>Drama Fantasy Mystery</td>\n",
       "      <td>memoria</td>\n",
       "      <td>Tilda Swinton Elkin Díaz Jeanne Balibar Apicha...</td>\n",
       "    </tr>\n",
       "  </tbody>\n",
       "</table>\n",
       "<p>330 rows × 7 columns</p>\n",
       "</div>\n",
       "      <button class=\"colab-df-convert\" onclick=\"convertToInteractive('df-1f3b2879-94f4-4cba-8918-4d00d652c7a9')\"\n",
       "              title=\"Convert this dataframe to an interactive table.\"\n",
       "              style=\"display:none;\">\n",
       "        \n",
       "  <svg xmlns=\"http://www.w3.org/2000/svg\" height=\"24px\"viewBox=\"0 0 24 24\"\n",
       "       width=\"24px\">\n",
       "    <path d=\"M0 0h24v24H0V0z\" fill=\"none\"/>\n",
       "    <path d=\"M18.56 5.44l.94 2.06.94-2.06 2.06-.94-2.06-.94-.94-2.06-.94 2.06-2.06.94zm-11 1L8.5 8.5l.94-2.06 2.06-.94-2.06-.94L8.5 2.5l-.94 2.06-2.06.94zm10 10l.94 2.06.94-2.06 2.06-.94-2.06-.94-.94-2.06-.94 2.06-2.06.94z\"/><path d=\"M17.41 7.96l-1.37-1.37c-.4-.4-.92-.59-1.43-.59-.52 0-1.04.2-1.43.59L10.3 9.45l-7.72 7.72c-.78.78-.78 2.05 0 2.83L4 21.41c.39.39.9.59 1.41.59.51 0 1.02-.2 1.41-.59l7.78-7.78 2.81-2.81c.8-.78.8-2.07 0-2.86zM5.41 20L4 18.59l7.72-7.72 1.47 1.35L5.41 20z\"/>\n",
       "  </svg>\n",
       "      </button>\n",
       "      \n",
       "  <style>\n",
       "    .colab-df-container {\n",
       "      display:flex;\n",
       "      flex-wrap:wrap;\n",
       "      gap: 12px;\n",
       "    }\n",
       "\n",
       "    .colab-df-convert {\n",
       "      background-color: #E8F0FE;\n",
       "      border: none;\n",
       "      border-radius: 50%;\n",
       "      cursor: pointer;\n",
       "      display: none;\n",
       "      fill: #1967D2;\n",
       "      height: 32px;\n",
       "      padding: 0 0 0 0;\n",
       "      width: 32px;\n",
       "    }\n",
       "\n",
       "    .colab-df-convert:hover {\n",
       "      background-color: #E2EBFA;\n",
       "      box-shadow: 0px 1px 2px rgba(60, 64, 67, 0.3), 0px 1px 3px 1px rgba(60, 64, 67, 0.15);\n",
       "      fill: #174EA6;\n",
       "    }\n",
       "\n",
       "    [theme=dark] .colab-df-convert {\n",
       "      background-color: #3B4455;\n",
       "      fill: #D2E3FC;\n",
       "    }\n",
       "\n",
       "    [theme=dark] .colab-df-convert:hover {\n",
       "      background-color: #434B5C;\n",
       "      box-shadow: 0px 1px 3px 1px rgba(0, 0, 0, 0.15);\n",
       "      filter: drop-shadow(0px 1px 2px rgba(0, 0, 0, 0.3));\n",
       "      fill: #FFFFFF;\n",
       "    }\n",
       "  </style>\n",
       "\n",
       "      <script>\n",
       "        const buttonEl =\n",
       "          document.querySelector('#df-1f3b2879-94f4-4cba-8918-4d00d652c7a9 button.colab-df-convert');\n",
       "        buttonEl.style.display =\n",
       "          google.colab.kernel.accessAllowed ? 'block' : 'none';\n",
       "\n",
       "        async function convertToInteractive(key) {\n",
       "          const element = document.querySelector('#df-1f3b2879-94f4-4cba-8918-4d00d652c7a9');\n",
       "          const dataTable =\n",
       "            await google.colab.kernel.invokeFunction('convertToInteractive',\n",
       "                                                     [key], {});\n",
       "          if (!dataTable) return;\n",
       "\n",
       "          const docLinkHtml = 'Like what you see? Visit the ' +\n",
       "            '<a target=\"_blank\" href=https://colab.research.google.com/notebooks/data_table.ipynb>data table notebook</a>'\n",
       "            + ' to learn more about interactive tables.';\n",
       "          element.innerHTML = '';\n",
       "          dataTable['output_type'] = 'display_data';\n",
       "          await google.colab.output.renderOutput(dataTable, element);\n",
       "          const docLink = document.createElement('div');\n",
       "          docLink.innerHTML = docLinkHtml;\n",
       "          element.appendChild(docLink);\n",
       "        }\n",
       "      </script>\n",
       "    </div>\n",
       "  </div>\n",
       "  "
      ],
      "text/plain": [
       "                                         director_name        actor_1_name  \\\n",
       "0                                       Roseanne Liang  Chloë Grace Moretz   \n",
       "1                                        Ramin Bahrani       Adarsh Gourav   \n",
       "2                                           Doug Liman       Anne Hathaway   \n",
       "3                                          Simon Stone      Carey Mulligan   \n",
       "4                                      Mikael Håfström      Anthony Mackie   \n",
       "..                                                 ...                 ...   \n",
       "351                                     Matthew Vaughn       Ralph Fiennes   \n",
       "352                                          Joel Coen   Denzel Washington   \n",
       "353                                  Denzel Washington   Michael B. Jordan   \n",
       "354                                     Erwin brothers        Zachary Levi   \n",
       "355  Apichatpong Weerasethakul (director/acreenplay...       Tilda Swinton   \n",
       "\n",
       "          actor_2_name           actor_3_name  \\\n",
       "0    Taylor John Smith           Beulah Koale   \n",
       "1        Rajkummar Rao  Priyanka Chopra Jonas   \n",
       "2     Chiwetel Ejiofor       Stephen Merchant   \n",
       "3        Ralph Fiennes             Lily James   \n",
       "4         Damson Idris          Emily Beecham   \n",
       "..                 ...                    ...   \n",
       "351     Gemma Arterton             Rhys Ifans   \n",
       "352  Frances McDormand          Bertie Carvel   \n",
       "353       Chanté Adams        Jalon Christian   \n",
       "354        Anna Paquin           Dennis Quaid   \n",
       "355         Elkin Díaz         Jeanne Balibar   \n",
       "\n",
       "                              genres             movie_title  \\\n",
       "0                  Horror Action War     shadow in the cloud   \n",
       "1                              Drama         the white tiger   \n",
       "2                 Comedy Crime Drama             locked down   \n",
       "3                      Drama History                 the dig   \n",
       "4    Thriller Action Science Fiction        outside the wire   \n",
       "..                               ...                     ...   \n",
       "351    Action Adventure Thriller War          the king's man   \n",
       "352                        Drama War  the tragedy of macbeth   \n",
       "353                    Drama Romance    a journal for jordan   \n",
       "354                            Drama       american underdog   \n",
       "355            Drama Fantasy Mystery                 memoria   \n",
       "\n",
       "                                                  comb  \n",
       "0    Chloë Grace Moretz Taylor John Smith Beulah Ko...  \n",
       "1    Adarsh Gourav Rajkummar Rao Priyanka Chopra Jo...  \n",
       "2    Anne Hathaway Chiwetel Ejiofor Stephen Merchan...  \n",
       "3    Carey Mulligan Ralph Fiennes Lily James Simon ...  \n",
       "4    Anthony Mackie Damson Idris Emily Beecham Mika...  \n",
       "..                                                 ...  \n",
       "351  Ralph Fiennes Gemma Arterton Rhys Ifans Matthe...  \n",
       "352  Denzel Washington Frances McDormand Bertie Car...  \n",
       "353  Michael B. Jordan Chanté Adams Jalon Christian...  \n",
       "354  Zachary Levi Anna Paquin Dennis Quaid Erwin br...  \n",
       "355  Tilda Swinton Elkin Díaz Jeanne Balibar Apicha...  \n",
       "\n",
       "[330 rows x 7 columns]"
      ]
     },
     "execution_count": 86,
     "metadata": {},
     "output_type": "execute_result"
    }
   ],
   "source": [
    "new_df21"
   ]
  },
  {
   "cell_type": "code",
   "execution_count": 87,
   "metadata": {
    "executionInfo": {
     "elapsed": 404,
     "status": "ok",
     "timestamp": 1646386957856,
     "user": {
      "displayName": "sarthak nikure",
      "photoUrl": "https://lh3.googleusercontent.com/a/default-user=s64",
      "userId": "16514347430543116262"
     },
     "user_tz": -330
    },
    "id": "upDbTakLS6qO"
   },
   "outputs": [],
   "source": [
    "old_df = pd.read_csv('main_data.csv')"
   ]
  },
  {
   "cell_type": "code",
   "execution_count": 88,
   "metadata": {
    "colab": {
     "base_uri": "https://localhost:8080/",
     "height": 633
    },
    "executionInfo": {
     "elapsed": 523,
     "status": "ok",
     "timestamp": 1646386967497,
     "user": {
      "displayName": "sarthak nikure",
      "photoUrl": "https://lh3.googleusercontent.com/a/default-user=s64",
      "userId": "16514347430543116262"
     },
     "user_tz": -330
    },
    "id": "oT_yx3PST0iX",
    "outputId": "0dd9f963-bbb8-4457-bb23-e30f6db19d7f"
   },
   "outputs": [
    {
     "data": {
      "text/html": [
       "\n",
       "  <div id=\"df-46a9e6eb-7cf0-40be-a7bf-8c8b56bb22d1\">\n",
       "    <div class=\"colab-df-container\">\n",
       "      <div>\n",
       "<style scoped>\n",
       "    .dataframe tbody tr th:only-of-type {\n",
       "        vertical-align: middle;\n",
       "    }\n",
       "\n",
       "    .dataframe tbody tr th {\n",
       "        vertical-align: top;\n",
       "    }\n",
       "\n",
       "    .dataframe thead th {\n",
       "        text-align: right;\n",
       "    }\n",
       "</style>\n",
       "<table border=\"1\" class=\"dataframe\">\n",
       "  <thead>\n",
       "    <tr style=\"text-align: right;\">\n",
       "      <th></th>\n",
       "      <th>director_name</th>\n",
       "      <th>actor_1_name</th>\n",
       "      <th>actor_2_name</th>\n",
       "      <th>actor_3_name</th>\n",
       "      <th>genres</th>\n",
       "      <th>movie_title</th>\n",
       "      <th>comb</th>\n",
       "    </tr>\n",
       "  </thead>\n",
       "  <tbody>\n",
       "    <tr>\n",
       "      <th>0</th>\n",
       "      <td>James Cameron</td>\n",
       "      <td>CCH Pounder</td>\n",
       "      <td>Joel David Moore</td>\n",
       "      <td>Wes Studi</td>\n",
       "      <td>Action Adventure Fantasy Sci-Fi</td>\n",
       "      <td>avatar</td>\n",
       "      <td>CCH Pounder Joel David Moore Wes Studi James C...</td>\n",
       "    </tr>\n",
       "    <tr>\n",
       "      <th>1</th>\n",
       "      <td>Gore Verbinski</td>\n",
       "      <td>Johnny Depp</td>\n",
       "      <td>Orlando Bloom</td>\n",
       "      <td>Jack Davenport</td>\n",
       "      <td>Action Adventure Fantasy</td>\n",
       "      <td>pirates of the caribbean: at world's end</td>\n",
       "      <td>Johnny Depp Orlando Bloom Jack Davenport Gore ...</td>\n",
       "    </tr>\n",
       "    <tr>\n",
       "      <th>2</th>\n",
       "      <td>Sam Mendes</td>\n",
       "      <td>Christoph Waltz</td>\n",
       "      <td>Rory Kinnear</td>\n",
       "      <td>Stephanie Sigman</td>\n",
       "      <td>Action Adventure Thriller</td>\n",
       "      <td>spectre</td>\n",
       "      <td>Christoph Waltz Rory Kinnear Stephanie Sigman ...</td>\n",
       "    </tr>\n",
       "    <tr>\n",
       "      <th>3</th>\n",
       "      <td>Christopher Nolan</td>\n",
       "      <td>Tom Hardy</td>\n",
       "      <td>Christian Bale</td>\n",
       "      <td>Joseph Gordon-Levitt</td>\n",
       "      <td>Action Thriller</td>\n",
       "      <td>the dark knight rises</td>\n",
       "      <td>Tom Hardy Christian Bale Joseph Gordon-Levitt ...</td>\n",
       "    </tr>\n",
       "    <tr>\n",
       "      <th>4</th>\n",
       "      <td>Doug Walker</td>\n",
       "      <td>Doug Walker</td>\n",
       "      <td>Rob Walker</td>\n",
       "      <td>unknown</td>\n",
       "      <td>Documentary</td>\n",
       "      <td>star wars: episode vii - the force awakens    ...</td>\n",
       "      <td>Doug Walker Rob Walker unknown Doug Walker Doc...</td>\n",
       "    </tr>\n",
       "    <tr>\n",
       "      <th>...</th>\n",
       "      <td>...</td>\n",
       "      <td>...</td>\n",
       "      <td>...</td>\n",
       "      <td>...</td>\n",
       "      <td>...</td>\n",
       "      <td>...</td>\n",
       "      <td>...</td>\n",
       "    </tr>\n",
       "    <tr>\n",
       "      <th>6117</th>\n",
       "      <td>Pete Docter</td>\n",
       "      <td>Jamie Foxx</td>\n",
       "      <td>Tina Fey</td>\n",
       "      <td>Graham Norton</td>\n",
       "      <td>Animation Comedy Fantasy Family</td>\n",
       "      <td>soul</td>\n",
       "      <td>Jamie Foxx Tina Fey Graham Norton Pete Docter ...</td>\n",
       "    </tr>\n",
       "    <tr>\n",
       "      <th>6118</th>\n",
       "      <td>Robert Rodriguez</td>\n",
       "      <td>Priyanka Chopra Jonas</td>\n",
       "      <td>Pedro Pascal</td>\n",
       "      <td>YaYa Gosselin</td>\n",
       "      <td>Action Fantasy Family Comedy</td>\n",
       "      <td>we can be heroes</td>\n",
       "      <td>Priyanka Chopra Jonas Pedro Pascal YaYa Gossel...</td>\n",
       "    </tr>\n",
       "    <tr>\n",
       "      <th>6119</th>\n",
       "      <td>Regina King</td>\n",
       "      <td>Kingsley Ben-Adir</td>\n",
       "      <td>Eli Goree</td>\n",
       "      <td>Aldis Hodge</td>\n",
       "      <td>Drama</td>\n",
       "      <td>one night in miami...</td>\n",
       "      <td>Kingsley Ben-Adir Eli Goree Aldis Hodge Regina...</td>\n",
       "    </tr>\n",
       "    <tr>\n",
       "      <th>6120</th>\n",
       "      <td>Emerald Fennell</td>\n",
       "      <td>Carey Mulligan</td>\n",
       "      <td>Bo Burnham</td>\n",
       "      <td>Alison Brie</td>\n",
       "      <td>Thriller Crime Drama</td>\n",
       "      <td>promising young woman</td>\n",
       "      <td>Carey Mulligan Bo Burnham Alison Brie Emerald ...</td>\n",
       "    </tr>\n",
       "    <tr>\n",
       "      <th>6121</th>\n",
       "      <td>Kornél Mundruczó</td>\n",
       "      <td>Vanessa Kirby</td>\n",
       "      <td>Shia LaBeouf</td>\n",
       "      <td>Molly Parker</td>\n",
       "      <td>Drama</td>\n",
       "      <td>pieces of a woman</td>\n",
       "      <td>Vanessa Kirby Shia LaBeouf Molly Parker Kornél...</td>\n",
       "    </tr>\n",
       "  </tbody>\n",
       "</table>\n",
       "<p>6122 rows × 7 columns</p>\n",
       "</div>\n",
       "      <button class=\"colab-df-convert\" onclick=\"convertToInteractive('df-46a9e6eb-7cf0-40be-a7bf-8c8b56bb22d1')\"\n",
       "              title=\"Convert this dataframe to an interactive table.\"\n",
       "              style=\"display:none;\">\n",
       "        \n",
       "  <svg xmlns=\"http://www.w3.org/2000/svg\" height=\"24px\"viewBox=\"0 0 24 24\"\n",
       "       width=\"24px\">\n",
       "    <path d=\"M0 0h24v24H0V0z\" fill=\"none\"/>\n",
       "    <path d=\"M18.56 5.44l.94 2.06.94-2.06 2.06-.94-2.06-.94-.94-2.06-.94 2.06-2.06.94zm-11 1L8.5 8.5l.94-2.06 2.06-.94-2.06-.94L8.5 2.5l-.94 2.06-2.06.94zm10 10l.94 2.06.94-2.06 2.06-.94-2.06-.94-.94-2.06-.94 2.06-2.06.94z\"/><path d=\"M17.41 7.96l-1.37-1.37c-.4-.4-.92-.59-1.43-.59-.52 0-1.04.2-1.43.59L10.3 9.45l-7.72 7.72c-.78.78-.78 2.05 0 2.83L4 21.41c.39.39.9.59 1.41.59.51 0 1.02-.2 1.41-.59l7.78-7.78 2.81-2.81c.8-.78.8-2.07 0-2.86zM5.41 20L4 18.59l7.72-7.72 1.47 1.35L5.41 20z\"/>\n",
       "  </svg>\n",
       "      </button>\n",
       "      \n",
       "  <style>\n",
       "    .colab-df-container {\n",
       "      display:flex;\n",
       "      flex-wrap:wrap;\n",
       "      gap: 12px;\n",
       "    }\n",
       "\n",
       "    .colab-df-convert {\n",
       "      background-color: #E8F0FE;\n",
       "      border: none;\n",
       "      border-radius: 50%;\n",
       "      cursor: pointer;\n",
       "      display: none;\n",
       "      fill: #1967D2;\n",
       "      height: 32px;\n",
       "      padding: 0 0 0 0;\n",
       "      width: 32px;\n",
       "    }\n",
       "\n",
       "    .colab-df-convert:hover {\n",
       "      background-color: #E2EBFA;\n",
       "      box-shadow: 0px 1px 2px rgba(60, 64, 67, 0.3), 0px 1px 3px 1px rgba(60, 64, 67, 0.15);\n",
       "      fill: #174EA6;\n",
       "    }\n",
       "\n",
       "    [theme=dark] .colab-df-convert {\n",
       "      background-color: #3B4455;\n",
       "      fill: #D2E3FC;\n",
       "    }\n",
       "\n",
       "    [theme=dark] .colab-df-convert:hover {\n",
       "      background-color: #434B5C;\n",
       "      box-shadow: 0px 1px 3px 1px rgba(0, 0, 0, 0.15);\n",
       "      filter: drop-shadow(0px 1px 2px rgba(0, 0, 0, 0.3));\n",
       "      fill: #FFFFFF;\n",
       "    }\n",
       "  </style>\n",
       "\n",
       "      <script>\n",
       "        const buttonEl =\n",
       "          document.querySelector('#df-46a9e6eb-7cf0-40be-a7bf-8c8b56bb22d1 button.colab-df-convert');\n",
       "        buttonEl.style.display =\n",
       "          google.colab.kernel.accessAllowed ? 'block' : 'none';\n",
       "\n",
       "        async function convertToInteractive(key) {\n",
       "          const element = document.querySelector('#df-46a9e6eb-7cf0-40be-a7bf-8c8b56bb22d1');\n",
       "          const dataTable =\n",
       "            await google.colab.kernel.invokeFunction('convertToInteractive',\n",
       "                                                     [key], {});\n",
       "          if (!dataTable) return;\n",
       "\n",
       "          const docLinkHtml = 'Like what you see? Visit the ' +\n",
       "            '<a target=\"_blank\" href=https://colab.research.google.com/notebooks/data_table.ipynb>data table notebook</a>'\n",
       "            + ' to learn more about interactive tables.';\n",
       "          element.innerHTML = '';\n",
       "          dataTable['output_type'] = 'display_data';\n",
       "          await google.colab.output.renderOutput(dataTable, element);\n",
       "          const docLink = document.createElement('div');\n",
       "          docLink.innerHTML = docLinkHtml;\n",
       "          element.appendChild(docLink);\n",
       "        }\n",
       "      </script>\n",
       "    </div>\n",
       "  </div>\n",
       "  "
      ],
      "text/plain": [
       "          director_name           actor_1_name      actor_2_name  \\\n",
       "0         James Cameron            CCH Pounder  Joel David Moore   \n",
       "1        Gore Verbinski            Johnny Depp     Orlando Bloom   \n",
       "2            Sam Mendes        Christoph Waltz      Rory Kinnear   \n",
       "3     Christopher Nolan              Tom Hardy    Christian Bale   \n",
       "4           Doug Walker            Doug Walker        Rob Walker   \n",
       "...                 ...                    ...               ...   \n",
       "6117        Pete Docter             Jamie Foxx          Tina Fey   \n",
       "6118   Robert Rodriguez  Priyanka Chopra Jonas      Pedro Pascal   \n",
       "6119        Regina King      Kingsley Ben-Adir         Eli Goree   \n",
       "6120    Emerald Fennell         Carey Mulligan        Bo Burnham   \n",
       "6121   Kornél Mundruczó          Vanessa Kirby      Shia LaBeouf   \n",
       "\n",
       "              actor_3_name                           genres  \\\n",
       "0                Wes Studi  Action Adventure Fantasy Sci-Fi   \n",
       "1           Jack Davenport         Action Adventure Fantasy   \n",
       "2         Stephanie Sigman        Action Adventure Thriller   \n",
       "3     Joseph Gordon-Levitt                  Action Thriller   \n",
       "4                  unknown                      Documentary   \n",
       "...                    ...                              ...   \n",
       "6117         Graham Norton  Animation Comedy Fantasy Family   \n",
       "6118         YaYa Gosselin     Action Fantasy Family Comedy   \n",
       "6119           Aldis Hodge                            Drama   \n",
       "6120           Alison Brie             Thriller Crime Drama   \n",
       "6121          Molly Parker                            Drama   \n",
       "\n",
       "                                            movie_title  \\\n",
       "0                                                avatar   \n",
       "1              pirates of the caribbean: at world's end   \n",
       "2                                               spectre   \n",
       "3                                 the dark knight rises   \n",
       "4     star wars: episode vii - the force awakens    ...   \n",
       "...                                                 ...   \n",
       "6117                                               soul   \n",
       "6118                                   we can be heroes   \n",
       "6119                              one night in miami...   \n",
       "6120                              promising young woman   \n",
       "6121                                  pieces of a woman   \n",
       "\n",
       "                                                   comb  \n",
       "0     CCH Pounder Joel David Moore Wes Studi James C...  \n",
       "1     Johnny Depp Orlando Bloom Jack Davenport Gore ...  \n",
       "2     Christoph Waltz Rory Kinnear Stephanie Sigman ...  \n",
       "3     Tom Hardy Christian Bale Joseph Gordon-Levitt ...  \n",
       "4     Doug Walker Rob Walker unknown Doug Walker Doc...  \n",
       "...                                                 ...  \n",
       "6117  Jamie Foxx Tina Fey Graham Norton Pete Docter ...  \n",
       "6118  Priyanka Chopra Jonas Pedro Pascal YaYa Gossel...  \n",
       "6119  Kingsley Ben-Adir Eli Goree Aldis Hodge Regina...  \n",
       "6120  Carey Mulligan Bo Burnham Alison Brie Emerald ...  \n",
       "6121  Vanessa Kirby Shia LaBeouf Molly Parker Kornél...  \n",
       "\n",
       "[6122 rows x 7 columns]"
      ]
     },
     "execution_count": 88,
     "metadata": {},
     "output_type": "execute_result"
    }
   ],
   "source": [
    "old_df"
   ]
  },
  {
   "cell_type": "code",
   "execution_count": 89,
   "metadata": {
    "executionInfo": {
     "elapsed": 412,
     "status": "ok",
     "timestamp": 1646387059341,
     "user": {
      "displayName": "sarthak nikure",
      "photoUrl": "https://lh3.googleusercontent.com/a/default-user=s64",
      "userId": "16514347430543116262"
     },
     "user_tz": -330
    },
    "id": "F9TNL4yZT20m"
   },
   "outputs": [],
   "source": [
    "#ignore_index : bool, default False\n",
    "#If True, the resulting axis will be labeled 0, 1, …, n - 1.\n",
    "\n",
    "final_df = old_df.append(new_df21, ignore_index=True)"
   ]
  },
  {
   "cell_type": "code",
   "execution_count": 90,
   "metadata": {
    "colab": {
     "base_uri": "https://localhost:8080/",
     "height": 1000
    },
    "executionInfo": {
     "elapsed": 522,
     "status": "ok",
     "timestamp": 1646387206395,
     "user": {
      "displayName": "sarthak nikure",
      "photoUrl": "https://lh3.googleusercontent.com/a/default-user=s64",
      "userId": "16514347430543116262"
     },
     "user_tz": -330
    },
    "id": "H6ljFl61UNRZ",
    "outputId": "17f2110d-6e85-40f5-8c2f-8393c2ac1ab8"
   },
   "outputs": [
    {
     "data": {
      "text/html": [
       "\n",
       "  <div id=\"df-f93d0796-f67b-4b83-8992-dbb43ffaddc7\">\n",
       "    <div class=\"colab-df-container\">\n",
       "      <div>\n",
       "<style scoped>\n",
       "    .dataframe tbody tr th:only-of-type {\n",
       "        vertical-align: middle;\n",
       "    }\n",
       "\n",
       "    .dataframe tbody tr th {\n",
       "        vertical-align: top;\n",
       "    }\n",
       "\n",
       "    .dataframe thead th {\n",
       "        text-align: right;\n",
       "    }\n",
       "</style>\n",
       "<table border=\"1\" class=\"dataframe\">\n",
       "  <thead>\n",
       "    <tr style=\"text-align: right;\">\n",
       "      <th></th>\n",
       "      <th>director_name</th>\n",
       "      <th>actor_1_name</th>\n",
       "      <th>actor_2_name</th>\n",
       "      <th>actor_3_name</th>\n",
       "      <th>genres</th>\n",
       "      <th>movie_title</th>\n",
       "      <th>comb</th>\n",
       "    </tr>\n",
       "  </thead>\n",
       "  <tbody>\n",
       "    <tr>\n",
       "      <th>0</th>\n",
       "      <td>James Cameron</td>\n",
       "      <td>CCH Pounder</td>\n",
       "      <td>Joel David Moore</td>\n",
       "      <td>Wes Studi</td>\n",
       "      <td>Action Adventure Fantasy Sci-Fi</td>\n",
       "      <td>avatar</td>\n",
       "      <td>CCH Pounder Joel David Moore Wes Studi James C...</td>\n",
       "    </tr>\n",
       "    <tr>\n",
       "      <th>1</th>\n",
       "      <td>Gore Verbinski</td>\n",
       "      <td>Johnny Depp</td>\n",
       "      <td>Orlando Bloom</td>\n",
       "      <td>Jack Davenport</td>\n",
       "      <td>Action Adventure Fantasy</td>\n",
       "      <td>pirates of the caribbean: at world's end</td>\n",
       "      <td>Johnny Depp Orlando Bloom Jack Davenport Gore ...</td>\n",
       "    </tr>\n",
       "    <tr>\n",
       "      <th>2</th>\n",
       "      <td>Sam Mendes</td>\n",
       "      <td>Christoph Waltz</td>\n",
       "      <td>Rory Kinnear</td>\n",
       "      <td>Stephanie Sigman</td>\n",
       "      <td>Action Adventure Thriller</td>\n",
       "      <td>spectre</td>\n",
       "      <td>Christoph Waltz Rory Kinnear Stephanie Sigman ...</td>\n",
       "    </tr>\n",
       "    <tr>\n",
       "      <th>3</th>\n",
       "      <td>Christopher Nolan</td>\n",
       "      <td>Tom Hardy</td>\n",
       "      <td>Christian Bale</td>\n",
       "      <td>Joseph Gordon-Levitt</td>\n",
       "      <td>Action Thriller</td>\n",
       "      <td>the dark knight rises</td>\n",
       "      <td>Tom Hardy Christian Bale Joseph Gordon-Levitt ...</td>\n",
       "    </tr>\n",
       "    <tr>\n",
       "      <th>4</th>\n",
       "      <td>Doug Walker</td>\n",
       "      <td>Doug Walker</td>\n",
       "      <td>Rob Walker</td>\n",
       "      <td>unknown</td>\n",
       "      <td>Documentary</td>\n",
       "      <td>star wars: episode vii - the force awakens    ...</td>\n",
       "      <td>Doug Walker Rob Walker unknown Doug Walker Doc...</td>\n",
       "    </tr>\n",
       "    <tr>\n",
       "      <th>...</th>\n",
       "      <td>...</td>\n",
       "      <td>...</td>\n",
       "      <td>...</td>\n",
       "      <td>...</td>\n",
       "      <td>...</td>\n",
       "      <td>...</td>\n",
       "      <td>...</td>\n",
       "    </tr>\n",
       "    <tr>\n",
       "      <th>6447</th>\n",
       "      <td>Matthew Vaughn</td>\n",
       "      <td>Ralph Fiennes</td>\n",
       "      <td>Gemma Arterton</td>\n",
       "      <td>Rhys Ifans</td>\n",
       "      <td>Action Adventure Thriller War</td>\n",
       "      <td>the king's man</td>\n",
       "      <td>Ralph Fiennes Gemma Arterton Rhys Ifans Matthe...</td>\n",
       "    </tr>\n",
       "    <tr>\n",
       "      <th>6448</th>\n",
       "      <td>Joel Coen</td>\n",
       "      <td>Denzel Washington</td>\n",
       "      <td>Frances McDormand</td>\n",
       "      <td>Bertie Carvel</td>\n",
       "      <td>Drama War</td>\n",
       "      <td>the tragedy of macbeth</td>\n",
       "      <td>Denzel Washington Frances McDormand Bertie Car...</td>\n",
       "    </tr>\n",
       "    <tr>\n",
       "      <th>6449</th>\n",
       "      <td>Denzel Washington</td>\n",
       "      <td>Michael B. Jordan</td>\n",
       "      <td>Chanté Adams</td>\n",
       "      <td>Jalon Christian</td>\n",
       "      <td>Drama Romance</td>\n",
       "      <td>a journal for jordan</td>\n",
       "      <td>Michael B. Jordan Chanté Adams Jalon Christian...</td>\n",
       "    </tr>\n",
       "    <tr>\n",
       "      <th>6450</th>\n",
       "      <td>Erwin brothers</td>\n",
       "      <td>Zachary Levi</td>\n",
       "      <td>Anna Paquin</td>\n",
       "      <td>Dennis Quaid</td>\n",
       "      <td>Drama</td>\n",
       "      <td>american underdog</td>\n",
       "      <td>Zachary Levi Anna Paquin Dennis Quaid Erwin br...</td>\n",
       "    </tr>\n",
       "    <tr>\n",
       "      <th>6451</th>\n",
       "      <td>Apichatpong Weerasethakul (director/acreenplay...</td>\n",
       "      <td>Tilda Swinton</td>\n",
       "      <td>Elkin Díaz</td>\n",
       "      <td>Jeanne Balibar</td>\n",
       "      <td>Drama Fantasy Mystery</td>\n",
       "      <td>memoria</td>\n",
       "      <td>Tilda Swinton Elkin Díaz Jeanne Balibar Apicha...</td>\n",
       "    </tr>\n",
       "  </tbody>\n",
       "</table>\n",
       "<p>6452 rows × 7 columns</p>\n",
       "</div>\n",
       "      <button class=\"colab-df-convert\" onclick=\"convertToInteractive('df-f93d0796-f67b-4b83-8992-dbb43ffaddc7')\"\n",
       "              title=\"Convert this dataframe to an interactive table.\"\n",
       "              style=\"display:none;\">\n",
       "        \n",
       "  <svg xmlns=\"http://www.w3.org/2000/svg\" height=\"24px\"viewBox=\"0 0 24 24\"\n",
       "       width=\"24px\">\n",
       "    <path d=\"M0 0h24v24H0V0z\" fill=\"none\"/>\n",
       "    <path d=\"M18.56 5.44l.94 2.06.94-2.06 2.06-.94-2.06-.94-.94-2.06-.94 2.06-2.06.94zm-11 1L8.5 8.5l.94-2.06 2.06-.94-2.06-.94L8.5 2.5l-.94 2.06-2.06.94zm10 10l.94 2.06.94-2.06 2.06-.94-2.06-.94-.94-2.06-.94 2.06-2.06.94z\"/><path d=\"M17.41 7.96l-1.37-1.37c-.4-.4-.92-.59-1.43-.59-.52 0-1.04.2-1.43.59L10.3 9.45l-7.72 7.72c-.78.78-.78 2.05 0 2.83L4 21.41c.39.39.9.59 1.41.59.51 0 1.02-.2 1.41-.59l7.78-7.78 2.81-2.81c.8-.78.8-2.07 0-2.86zM5.41 20L4 18.59l7.72-7.72 1.47 1.35L5.41 20z\"/>\n",
       "  </svg>\n",
       "      </button>\n",
       "      \n",
       "  <style>\n",
       "    .colab-df-container {\n",
       "      display:flex;\n",
       "      flex-wrap:wrap;\n",
       "      gap: 12px;\n",
       "    }\n",
       "\n",
       "    .colab-df-convert {\n",
       "      background-color: #E8F0FE;\n",
       "      border: none;\n",
       "      border-radius: 50%;\n",
       "      cursor: pointer;\n",
       "      display: none;\n",
       "      fill: #1967D2;\n",
       "      height: 32px;\n",
       "      padding: 0 0 0 0;\n",
       "      width: 32px;\n",
       "    }\n",
       "\n",
       "    .colab-df-convert:hover {\n",
       "      background-color: #E2EBFA;\n",
       "      box-shadow: 0px 1px 2px rgba(60, 64, 67, 0.3), 0px 1px 3px 1px rgba(60, 64, 67, 0.15);\n",
       "      fill: #174EA6;\n",
       "    }\n",
       "\n",
       "    [theme=dark] .colab-df-convert {\n",
       "      background-color: #3B4455;\n",
       "      fill: #D2E3FC;\n",
       "    }\n",
       "\n",
       "    [theme=dark] .colab-df-convert:hover {\n",
       "      background-color: #434B5C;\n",
       "      box-shadow: 0px 1px 3px 1px rgba(0, 0, 0, 0.15);\n",
       "      filter: drop-shadow(0px 1px 2px rgba(0, 0, 0, 0.3));\n",
       "      fill: #FFFFFF;\n",
       "    }\n",
       "  </style>\n",
       "\n",
       "      <script>\n",
       "        const buttonEl =\n",
       "          document.querySelector('#df-f93d0796-f67b-4b83-8992-dbb43ffaddc7 button.colab-df-convert');\n",
       "        buttonEl.style.display =\n",
       "          google.colab.kernel.accessAllowed ? 'block' : 'none';\n",
       "\n",
       "        async function convertToInteractive(key) {\n",
       "          const element = document.querySelector('#df-f93d0796-f67b-4b83-8992-dbb43ffaddc7');\n",
       "          const dataTable =\n",
       "            await google.colab.kernel.invokeFunction('convertToInteractive',\n",
       "                                                     [key], {});\n",
       "          if (!dataTable) return;\n",
       "\n",
       "          const docLinkHtml = 'Like what you see? Visit the ' +\n",
       "            '<a target=\"_blank\" href=https://colab.research.google.com/notebooks/data_table.ipynb>data table notebook</a>'\n",
       "            + ' to learn more about interactive tables.';\n",
       "          element.innerHTML = '';\n",
       "          dataTable['output_type'] = 'display_data';\n",
       "          await google.colab.output.renderOutput(dataTable, element);\n",
       "          const docLink = document.createElement('div');\n",
       "          docLink.innerHTML = docLinkHtml;\n",
       "          element.appendChild(docLink);\n",
       "        }\n",
       "      </script>\n",
       "    </div>\n",
       "  </div>\n",
       "  "
      ],
      "text/plain": [
       "                                          director_name       actor_1_name  \\\n",
       "0                                         James Cameron        CCH Pounder   \n",
       "1                                        Gore Verbinski        Johnny Depp   \n",
       "2                                            Sam Mendes    Christoph Waltz   \n",
       "3                                     Christopher Nolan          Tom Hardy   \n",
       "4                                           Doug Walker        Doug Walker   \n",
       "...                                                 ...                ...   \n",
       "6447                                     Matthew Vaughn      Ralph Fiennes   \n",
       "6448                                          Joel Coen  Denzel Washington   \n",
       "6449                                  Denzel Washington  Michael B. Jordan   \n",
       "6450                                     Erwin brothers       Zachary Levi   \n",
       "6451  Apichatpong Weerasethakul (director/acreenplay...      Tilda Swinton   \n",
       "\n",
       "           actor_2_name          actor_3_name  \\\n",
       "0      Joel David Moore             Wes Studi   \n",
       "1         Orlando Bloom        Jack Davenport   \n",
       "2          Rory Kinnear      Stephanie Sigman   \n",
       "3        Christian Bale  Joseph Gordon-Levitt   \n",
       "4            Rob Walker               unknown   \n",
       "...                 ...                   ...   \n",
       "6447     Gemma Arterton            Rhys Ifans   \n",
       "6448  Frances McDormand         Bertie Carvel   \n",
       "6449       Chanté Adams       Jalon Christian   \n",
       "6450        Anna Paquin          Dennis Quaid   \n",
       "6451         Elkin Díaz        Jeanne Balibar   \n",
       "\n",
       "                               genres  \\\n",
       "0     Action Adventure Fantasy Sci-Fi   \n",
       "1            Action Adventure Fantasy   \n",
       "2           Action Adventure Thriller   \n",
       "3                     Action Thriller   \n",
       "4                         Documentary   \n",
       "...                               ...   \n",
       "6447    Action Adventure Thriller War   \n",
       "6448                        Drama War   \n",
       "6449                    Drama Romance   \n",
       "6450                            Drama   \n",
       "6451            Drama Fantasy Mystery   \n",
       "\n",
       "                                            movie_title  \\\n",
       "0                                                avatar   \n",
       "1              pirates of the caribbean: at world's end   \n",
       "2                                               spectre   \n",
       "3                                 the dark knight rises   \n",
       "4     star wars: episode vii - the force awakens    ...   \n",
       "...                                                 ...   \n",
       "6447                                     the king's man   \n",
       "6448                             the tragedy of macbeth   \n",
       "6449                               a journal for jordan   \n",
       "6450                                  american underdog   \n",
       "6451                                            memoria   \n",
       "\n",
       "                                                   comb  \n",
       "0     CCH Pounder Joel David Moore Wes Studi James C...  \n",
       "1     Johnny Depp Orlando Bloom Jack Davenport Gore ...  \n",
       "2     Christoph Waltz Rory Kinnear Stephanie Sigman ...  \n",
       "3     Tom Hardy Christian Bale Joseph Gordon-Levitt ...  \n",
       "4     Doug Walker Rob Walker unknown Doug Walker Doc...  \n",
       "...                                                 ...  \n",
       "6447  Ralph Fiennes Gemma Arterton Rhys Ifans Matthe...  \n",
       "6448  Denzel Washington Frances McDormand Bertie Car...  \n",
       "6449  Michael B. Jordan Chanté Adams Jalon Christian...  \n",
       "6450  Zachary Levi Anna Paquin Dennis Quaid Erwin br...  \n",
       "6451  Tilda Swinton Elkin Díaz Jeanne Balibar Apicha...  \n",
       "\n",
       "[6452 rows x 7 columns]"
      ]
     },
     "execution_count": 90,
     "metadata": {},
     "output_type": "execute_result"
    }
   ],
   "source": [
    "final_df"
   ]
  },
  {
   "cell_type": "code",
   "execution_count": 91,
   "metadata": {
    "executionInfo": {
     "elapsed": 374,
     "status": "ok",
     "timestamp": 1646387310972,
     "user": {
      "displayName": "sarthak nikure",
      "photoUrl": "https://lh3.googleusercontent.com/a/default-user=s64",
      "userId": "16514347430543116262"
     },
     "user_tz": -330
    },
    "id": "D12dZEkxUxLl"
   },
   "outputs": [],
   "source": [
    "final_df.to_csv('main_data_till21.csv', index=False)"
   ]
  },
  {
   "cell_type": "code",
   "execution_count": null,
   "metadata": {
    "id": "XcDIYdEsVKuN"
   },
   "outputs": [],
   "source": []
  }
 ],
 "metadata": {
  "colab": {
   "authorship_tag": "ABX9TyPGLUGcVzwYnn7MTb2QWfWf",
   "collapsed_sections": [],
   "name": "preprocessing_5.ipynb",
   "provenance": []
  },
  "kernelspec": {
   "display_name": "Python 3",
   "language": "python",
   "name": "python3"
  },
  "language_info": {
   "codemirror_mode": {
    "name": "ipython",
    "version": 3
   },
   "file_extension": ".py",
   "mimetype": "text/x-python",
   "name": "python",
   "nbconvert_exporter": "python",
   "pygments_lexer": "ipython3",
   "version": "3.8.3"
  }
 },
 "nbformat": 4,
 "nbformat_minor": 1
}
